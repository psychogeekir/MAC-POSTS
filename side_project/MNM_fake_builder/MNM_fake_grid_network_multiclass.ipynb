{
 "cells": [
  {
   "cell_type": "code",
   "execution_count": 14,
   "metadata": {},
   "outputs": [],
   "source": [
    "# Python 3\n",
    "\n",
    "import numpy as np\n",
    "import os"
   ]
  },
  {
   "cell_type": "code",
   "execution_count": 15,
   "metadata": {},
   "outputs": [],
   "source": [
    "folder_name = \"6by6grid_car_truck\"\n",
    "num_row = 6\n",
    "num_col = 6\n",
    "O_prob = 0.4\n",
    "D_prob = 0.4\n",
    "cap_car = 2000\n",
    "cap_truck = 1200\n",
    "length = 0.5\n",
    "rhoj_car = 200\n",
    "rhoj_truck = 100\n",
    "num_lane = 2\n",
    "spd_lb = 40\n",
    "spd_ub = 40\n",
    "\n",
    "# 1 truck = how many cars in node model\n",
    "conv_factor = 2.0\n",
    "\n",
    "assign_horizon = 10\n",
    "demand_car = 50\n",
    "demand_truck = demand_car//20\n",
    "\n",
    "np.random.seed(0)"
   ]
  },
  {
   "cell_type": "code",
   "execution_count": 16,
   "metadata": {},
   "outputs": [],
   "source": [
    "link_type = 'CTM'\n",
    "node_type = 'FWJ'\n",
    "connector_type = 'PQ'\n",
    "O_type = 'DMOND'\n",
    "D_type = 'DMDND'"
   ]
  },
  {
   "cell_type": "code",
   "execution_count": 17,
   "metadata": {},
   "outputs": [],
   "source": [
    "file_attr = \"MNM_input_\"\n",
    "node_file = file_attr + \"node\"\n",
    "link_file = file_attr + \"link\"\n",
    "snap_file = \"Snap_graph\"\n",
    "od_file = file_attr + \"od\"\n",
    "demand_file = file_attr + 'demand'"
   ]
  },
  {
   "cell_type": "code",
   "execution_count": 18,
   "metadata": {},
   "outputs": [],
   "source": [
    "def add_node_str(node_num, type_str):\n",
    "    return ' '.join([str(e) for e in [node_num, type_str, conv_factor]]) + '\\n'"
   ]
  },
  {
   "cell_type": "code",
   "execution_count": 19,
   "metadata": {},
   "outputs": [],
   "source": [
    "def add_snap_str(link_num, from_node, to_node):\n",
    "    return ' '.join([str(e) for e in [link_num, from_node, to_node]]) + '\\n'"
   ]
  },
  {
   "cell_type": "code",
   "execution_count": 20,
   "metadata": {},
   "outputs": [],
   "source": [
    "def add_link_str(link_num, link_type):\n",
    "    # 1 PQ 1 99999 99999 99999 1 99999 99999 99999 2\n",
    "    # 2 CTM 0.55 35 2200 200 2 25 1200 120 2\n",
    "    if link_type != 'PQ':\n",
    "        spd_car = np.round(np.random.random_sample() * (spd_ub - spd_lb)  + np.float(spd_lb))\n",
    "        spd_truck = np.round(spd_car * 0.8)\n",
    "        return ' '.join([str(e) for e in [link_num, link_type, length, spd_car, cap_car, rhoj_car, \n",
    "                                          num_lane, spd_truck, cap_truck, rhoj_truck, conv_factor]]) + '\\n'\n",
    "    else:\n",
    "        return str(link_num) + ' PQ 1 99999 99999 99999 1 99999 99999 99999 2\\n'"
   ]
  },
  {
   "cell_type": "code",
   "execution_count": 21,
   "metadata": {},
   "outputs": [],
   "source": [
    "def add_OD(od_id, node_id):\n",
    "    return str(od_id) + ' ' + str(node_id) + '\\n'"
   ]
  },
  {
   "cell_type": "code",
   "execution_count": 22,
   "metadata": {},
   "outputs": [],
   "source": [
    "link_str_list = []\n",
    "node_str_list = []\n",
    "snap_str_list = []\n",
    "O_dict = dict()\n",
    "D_dict = dict()\n",
    "O_str_list = []\n",
    "D_str_list = []\n",
    "\n",
    "node_counter = 1\n",
    "link_counter = 1\n",
    "O_counter = 1\n",
    "D_counter = 1\n",
    "\n",
    "for i in range(num_row):\n",
    "    for j in range(num_col):\n",
    "        node_str_list.append(add_node_str(node_counter, node_type))\n",
    "        if (j != num_col - 1):\n",
    "            node1 = num_col * i + j + 1\n",
    "            node2 = node1 + 1\n",
    "            link_str_list.append(add_link_str(link_counter, link_type))\n",
    "            snap_str_list.append(add_snap_str(link_counter, node1, node2))\n",
    "            link_counter += 1\n",
    "            link_str_list.append(add_link_str(link_counter, link_type))\n",
    "            snap_str_list.append(add_snap_str(link_counter, node2, node1))   \n",
    "            link_counter += 1\n",
    "        if(i != num_row - 1):\n",
    "            node1 = num_col * i + j + 1\n",
    "            node2 = node1 + num_col\n",
    "            link_str_list.append(add_link_str(link_counter, link_type))\n",
    "            snap_str_list.append(add_snap_str(link_counter, node1, node2))\n",
    "            link_counter += 1\n",
    "            link_str_list.append(add_link_str(link_counter, link_type))\n",
    "            snap_str_list.append(add_snap_str(link_counter, node2, node1)) \n",
    "            link_counter += 1\n",
    "        node_counter += 1\n",
    "            \n",
    "for i in range(num_row):\n",
    "    for j in range(num_col):\n",
    "        node1 = num_col * i + j + 1\n",
    "        if (np.random.random_sample() < O_prob or (i == 0 and j ==0)):\n",
    "            node_str_list.append(add_node_str(node_counter, O_type))\n",
    "            O_dict[O_counter] = node1\n",
    "            O_str_list.append(add_OD(O_counter, node_counter))\n",
    "            link_str_list.append(add_link_str(link_counter, connector_type))\n",
    "            snap_str_list.append(add_snap_str(link_counter, node_counter, node1)) \n",
    "            link_counter += 1\n",
    "            node_counter += 1\n",
    "            O_counter += 1\n",
    "        if (np.random.random_sample() < D_prob or (i == num_row -1 and j == num_col - 1)):\n",
    "            node_str_list.append(add_node_str(node_counter, D_type))\n",
    "            D_dict[D_counter] = node1\n",
    "            D_str_list.append(add_OD(D_counter, node_counter))\n",
    "            link_str_list.append(add_link_str(link_counter, connector_type))\n",
    "            snap_str_list.append(add_snap_str(link_counter, node1, node_counter)) \n",
    "            link_counter += 1\n",
    "            node_counter += 1\n",
    "            D_counter += 1\n"
   ]
  },
  {
   "cell_type": "code",
   "execution_count": 23,
   "metadata": {},
   "outputs": [],
   "source": [
    "def add_demand_str(O, D):\n",
    "    l = [str(O), str(D)]\n",
    "    d_car = [str(demand_car) for i in range(assign_horizon)]\n",
    "    d_truck = [str(demand_truck) for i in range(assign_horizon)]\n",
    "    l = l + d_car + d_truck\n",
    "    return ' '.join(l) + '\\n'"
   ]
  },
  {
   "cell_type": "code",
   "execution_count": 24,
   "metadata": {},
   "outputs": [],
   "source": [
    "# Origin_ID Destination_ID <demand by interval>\n",
    "demand_str_list = []\n",
    "\n",
    "for O in O_dict:\n",
    "    for D in D_dict:\n",
    "        if O_dict[O] != D_dict[D]:\n",
    "            demand_str_list.append(add_demand_str(O, D))"
   ]
  },
  {
   "cell_type": "code",
   "execution_count": 25,
   "metadata": {},
   "outputs": [],
   "source": [
    "if not os.path.isdir(folder_name):\n",
    "    os.makedirs(folder_name)\n",
    "\n",
    "f = open(os.path.join(folder_name, link_file), 'w')\n",
    "f.write(\"#ID Type LEN(mile) FFS_car(mile/h) Cap_car(v/hour) RHOJ_car(v/miles) \\\n",
    "        Lane FFS_truck(mile/h) Cap_truck(v/hour) RHOJ_truck(v/miles) Convert_factor(1)\\n\")\n",
    "for line in link_str_list:\n",
    "    f.write(line)\n",
    "f.close()\n",
    "\n",
    "f = open(os.path.join(folder_name, node_file), 'w')\n",
    "f.write('#ID Type Convert_factor(only for Inout node)\\n')\n",
    "for line in node_str_list:\n",
    "    f.write(line)\n",
    "f.close()\n",
    "\n",
    "f = open(os.path.join(folder_name, snap_file), 'w')\n",
    "f.write('# EdgeID FromNodeId ToNodeId\\n')\n",
    "for line in snap_str_list:\n",
    "    f.write(line)\n",
    "f.close()\n",
    "\n",
    "f = open(os.path.join(folder_name, od_file), 'w')\n",
    "f.write('#Origin_ID <-> node_ID\\n')\n",
    "for line in O_str_list:\n",
    "    f.write(line)\n",
    "f.write('#Dest_ID <-> node_ID\\n')\n",
    "for line in D_str_list:\n",
    "    f.write(line)\n",
    "f.close()\n",
    "\n",
    "f = open(os.path.join(folder_name, demand_file), 'w')\n",
    "f.write('#Origin_ID Destination_ID <car demand by interval> <truck demand by interval>\\n')\n",
    "for line in demand_str_list:\n",
    "    f.write(line)\n",
    "f.close()"
   ]
  },
  {
   "cell_type": "code",
   "execution_count": 26,
   "metadata": {},
   "outputs": [
    {
     "name": "stdout",
     "output_type": "stream",
     "text": [
      "maximum_interval: 10\n",
      "num_of_link: 146\n",
      "num_of_node: 62\n",
      "num_of_O: 12\n",
      "num_of_D: 14\n",
      "num_of_od: 163\n"
     ]
    }
   ],
   "source": [
    "print('maximum_interval:', assign_horizon)\n",
    "print('num_of_link:', len(link_str_list))\n",
    "print('num_of_node:', len(node_str_list))\n",
    "print('num_of_O:', len(O_dict))\n",
    "print('num_of_D:', len(D_dict))\n",
    "print('num_of_od:', len(demand_str_list))"
   ]
  },
  {
   "cell_type": "code",
   "execution_count": null,
   "metadata": {},
   "outputs": [],
   "source": []
  },
  {
   "cell_type": "code",
   "execution_count": null,
   "metadata": {},
   "outputs": [],
   "source": []
  }
 ],
 "metadata": {
  "kernelspec": {
   "display_name": "Python 3",
   "language": "python",
   "name": "python3"
  },
  "language_info": {
   "codemirror_mode": {
    "name": "ipython",
    "version": 3
   },
   "file_extension": ".py",
   "mimetype": "text/x-python",
   "name": "python",
   "nbconvert_exporter": "python",
   "pygments_lexer": "ipython3",
   "version": "3.6.5"
  }
 },
 "nbformat": 4,
 "nbformat_minor": 2
}
