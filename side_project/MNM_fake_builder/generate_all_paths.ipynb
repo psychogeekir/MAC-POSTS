{
 "cells": [
  {
   "cell_type": "code",
   "execution_count": 1,
   "metadata": {},
   "outputs": [],
   "source": [
    "import os\n",
    "import sys\n",
    "import numpy as np"
   ]
  },
  {
   "cell_type": "code",
   "execution_count": 2,
   "metadata": {},
   "outputs": [],
   "source": [
    "MNM_nb_folder = os.path.join('..', 'network_builder')\n",
    "sys.path.append(MNM_nb_folder)\n",
    "python_lib_folder = os.path.join('..', '..', 'src', 'pylib')\n",
    "sys.path.append(python_lib_folder)"
   ]
  },
  {
   "cell_type": "code",
   "execution_count": 3,
   "metadata": {},
   "outputs": [],
   "source": [
    "from MNM_nb import *"
   ]
  },
  {
   "cell_type": "code",
   "execution_count": 4,
   "metadata": {},
   "outputs": [],
   "source": [
    "data_folder = os.path.join('..', '..', 'data', 'input_files_33net')"
   ]
  },
  {
   "cell_type": "code",
   "execution_count": 5,
   "metadata": {},
   "outputs": [
    {
     "name": "stdout",
     "output_type": "stream",
     "text": [
      "MNM_config\n",
      "MNM_pathtable\n",
      "No path table input\n"
     ]
    }
   ],
   "source": [
    "nb = MNM_network_builder()\n",
    "nb.load_from_folder(data_folder)"
   ]
  },
  {
   "cell_type": "code",
   "execution_count": 6,
   "metadata": {},
   "outputs": [
    {
     "data": {
      "text/plain": [
       "<networkx.classes.digraph.DiGraph at 0x7ff949e05d90>"
      ]
     },
     "execution_count": 6,
     "metadata": {},
     "output_type": "execute_result"
    }
   ],
   "source": [
    "nb.graph.G"
   ]
  },
  {
   "cell_type": "code",
   "execution_count": 7,
   "metadata": {},
   "outputs": [
    {
     "name": "stdout",
     "output_type": "stream",
     "text": [
      "1 1 10 11\n",
      "1 2 10 13\n",
      "1 3 10 15\n",
      "2 1 12 11\n",
      "2 2 12 13\n",
      "2 3 12 15\n",
      "3 1 14 11\n",
      "3 2 14 13\n",
      "3 3 14 15\n"
     ]
    }
   ],
   "source": [
    "path_list = list()\n",
    "path_ID_counter = 0\n",
    "for O,D in nb.demand.demand_list:\n",
    "    O_node = nb.od.O_dict[O]\n",
    "    D_node = nb.od.D_dict[D]\n",
    "    print O, D, O_node, D_node\n",
    "    tmp_path_set = MNM_pathset()\n",
    "    tmp_path_set.origin_node = O_node\n",
    "    tmp_path_set.destination_node = D_node\n",
    "    tmp_path_node_list = list(nx.all_simple_paths(nb.graph.G, source=O_node, target=D_node))\n",
    "    for path_node_list in tmp_path_node_list:\n",
    "        tmp_path = MNM_path(path_node_list, path_ID_counter)\n",
    "        tmp_path.create_route_choice_portions(nb.config.config_dict['DTA']['max_interval'])\n",
    "        nb.path_table.ID2path[tmp_path.path_ID] = tmp_path\n",
    "        tmp_path_set.add_path(tmp_path)\n",
    "        path_ID_counter += 1\n",
    "    tmp_path_set.normalize_route_portions()"
   ]
  },
  {
   "cell_type": "code",
   "execution_count": 8,
   "metadata": {},
   "outputs": [],
   "source": [
    "nb.route_choice_flag = True"
   ]
  },
  {
   "cell_type": "code",
   "execution_count": 9,
   "metadata": {},
   "outputs": [],
   "source": [
    "nb.dump_to_folder(os.path.join('..', '..', 'data', 'input_files_33net'))"
   ]
  },
  {
   "cell_type": "code",
   "execution_count": null,
   "metadata": {},
   "outputs": [],
   "source": []
  }
 ],
 "metadata": {
  "kernelspec": {
   "display_name": "Python 2",
   "language": "python",
   "name": "python2"
  },
  "language_info": {
   "codemirror_mode": {
    "name": "ipython",
    "version": 2
   },
   "file_extension": ".py",
   "mimetype": "text/x-python",
   "name": "python",
   "nbconvert_exporter": "python",
   "pygments_lexer": "ipython2",
   "version": "2.7.10"
  }
 },
 "nbformat": 4,
 "nbformat_minor": 2
}
