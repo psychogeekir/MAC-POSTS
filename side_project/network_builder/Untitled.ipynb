{
 "cells": [
  {
   "cell_type": "code",
   "execution_count": 1,
   "metadata": {},
   "outputs": [],
   "source": [
    "import MNMAPI"
   ]
  },
  {
   "cell_type": "code",
   "execution_count": 2,
   "metadata": {},
   "outputs": [],
   "source": [
    "import os\n",
    "import numpy as np\n",
    "import pandas as pd"
   ]
  },
  {
   "cell_type": "code",
   "execution_count": 3,
   "metadata": {},
   "outputs": [],
   "source": [
    "a = MNMAPI.dta_api()"
   ]
  },
  {
   "cell_type": "code",
   "execution_count": 25,
   "metadata": {},
   "outputs": [
    {
     "data": {
      "text/plain": [
       "0L"
      ]
     },
     "execution_count": 25,
     "metadata": {},
     "output_type": "execute_result"
    }
   ],
   "source": [
    "a.initialize(os.path.join('..', '..', 'data', 'input_files_7link_fix'))"
   ]
  },
  {
   "cell_type": "code",
   "execution_count": 26,
   "metadata": {},
   "outputs": [],
   "source": [
    "# a.initialize(os.path.join('..', '..', 'data', 'input_files_PGH_emission'))"
   ]
  },
  {
   "cell_type": "code",
   "execution_count": 27,
   "metadata": {},
   "outputs": [],
   "source": [
    "# link_list = pd.read_table(os.path.join('..', '..', 'data', 'input_files_PGH_emission', 'MNM_input_link'), sep = ' ')['#ID'].values.astype(np.int)"
   ]
  },
  {
   "cell_type": "code",
   "execution_count": 28,
   "metadata": {},
   "outputs": [
    {
     "data": {
      "text/plain": [
       "0L"
      ]
     },
     "execution_count": 28,
     "metadata": {},
     "output_type": "execute_result"
    }
   ],
   "source": [
    "a.register_links(np.arange(1,7))"
   ]
  },
  {
   "cell_type": "code",
   "execution_count": 30,
   "metadata": {},
   "outputs": [
    {
     "data": {
      "text/plain": [
       "0L"
      ]
     },
     "execution_count": 30,
     "metadata": {},
     "output_type": "execute_result"
    }
   ],
   "source": [
    "a.register_paths(np.arange(0, 3))"
   ]
  },
  {
   "cell_type": "code",
   "execution_count": 31,
   "metadata": {},
   "outputs": [],
   "source": [
    "# a.register_links(link_list)"
   ]
  },
  {
   "cell_type": "code",
   "execution_count": 32,
   "metadata": {},
   "outputs": [
    {
     "data": {
      "text/plain": [
       "0L"
      ]
     },
     "execution_count": 32,
     "metadata": {},
     "output_type": "execute_result"
    }
   ],
   "source": [
    "a.install_cc()"
   ]
  },
  {
   "cell_type": "code",
   "execution_count": 33,
   "metadata": {},
   "outputs": [
    {
     "data": {
      "text/plain": [
       "0L"
      ]
     },
     "execution_count": 33,
     "metadata": {},
     "output_type": "execute_result"
    }
   ],
   "source": [
    "a.install_cc_tree()"
   ]
  },
  {
   "cell_type": "code",
   "execution_count": 34,
   "metadata": {},
   "outputs": [
    {
     "data": {
      "text/plain": [
       "0L"
      ]
     },
     "execution_count": 34,
     "metadata": {},
     "output_type": "execute_result"
    }
   ],
   "source": [
    "a.run_whole()"
   ]
  },
  {
   "cell_type": "code",
   "execution_count": 35,
   "metadata": {},
   "outputs": [
    {
     "data": {
      "text/plain": [
       "342L"
      ]
     },
     "execution_count": 35,
     "metadata": {},
     "output_type": "execute_result"
    }
   ],
   "source": [
    "a.get_cur_loading_interval()"
   ]
  },
  {
   "cell_type": "code",
   "execution_count": 36,
   "metadata": {
    "scrolled": true
   },
   "outputs": [
    {
     "data": {
      "text/plain": [
       "array([[ 100. ,    0. ,    0. ,    0. ,    0. ,    0. ,    0. ,    0. ,\n",
       "           0. ,    0. ,  100. ,    0. ,    0. ,    0. ,    0. ,    0. ,\n",
       "           0. ,    0. ,    0. ,    0. ,  100. ,    0. ,    0. ,    0. ,\n",
       "           0. ,    0. ,    0. ,    0. ,    0. ,    0. ],\n",
       "       [   0. ,    6.1,    6.1,    6.1,    6.1,    6.1,    6.1,    6.1,\n",
       "           6.1,    6.1,    6.1,    6.1,    6.1,    6.1,    6.1,    6.1,\n",
       "           6.1,    6.1,    6.1,    6.1,    6.1,    6.1,    6.1,    6.1,\n",
       "           6.1,    6.1,    6.1,    6.1,    6.1,    6.1],\n",
       "       [   0. ,    0. ,    0. ,    0. ,    0. ,    0. ,    0. ,    0. ,\n",
       "           0. ,    0. ,    0. ,    0. ,    0. ,    0. ,    0. ,    0. ,\n",
       "           0. ,    0. ,    0. ,    0. ,    0. ,    0. ,    0. ,    0. ,\n",
       "           0. ,    0. ,    0. ,    0. ,    0. ,    0. ],\n",
       "       [   0. ,    0. ,    0. ,    0. ,    3. ,    3. ,    3. ,    3. ,\n",
       "           3. ,    3. ,    3. ,    3. ,    3. ,    3. ,    3. ,    3. ,\n",
       "           3. ,    3. ,    3. ,    3. ,    3. ,    3. ,    3. ,    3. ,\n",
       "           3. ,    3. ,    3. ,    3. ,    3. ,    3. ],\n",
       "       [   0. ,    0. ,    0. ,    0. ,    0. ,    0. ,    0. ,    0. ,\n",
       "           0. ,    0. ,    0. ,    0. ,    0. ,    0. ,    0. ,    0. ,\n",
       "           0. ,    0. ,    0. ,    0. ,    0. ,    0. ,    0. ,    0. ,\n",
       "           0. ,    0. ,    0. ,    0. ,    0. ,    0. ],\n",
       "       [   0. ,    0. ,    0. ,    0. ,    0. ,    0. ,    0. ,    0. ,\n",
       "           0. ,    0. ,    0. ,    0. ,    0. ,    0. ,    0. ,    0. ,\n",
       "           0. ,    0. ,    0. ,    0. ,    0. ,    0. ,    0. ,    0. ,\n",
       "           0. ,    0. ,    0. ,    0. ,    0. ,    0. ]])"
      ]
     },
     "execution_count": 36,
     "metadata": {},
     "output_type": "execute_result"
    }
   ],
   "source": [
    "a.get_link_inflow(np.arange(0, 30), np.arange(0, 30) + 1)"
   ]
  },
  {
   "cell_type": "code",
   "execution_count": 37,
   "metadata": {
    "scrolled": false
   },
   "outputs": [
    {
     "data": {
      "text/plain": [
       "array([[  0.03600036,  16.39344262,  15.39344262,  14.39344262,\n",
       "         13.39344262,  12.39344262,  11.39344262,  10.39344262,\n",
       "          9.39344262,   8.39344262,   7.39344262,  22.78688525,\n",
       "         21.78688525,  20.78688525,  19.78688525,  18.78688525,\n",
       "         17.78688525,  16.78688525,  15.78688525,  14.78688525,\n",
       "         13.78688525,  29.18032787,  28.18032787,  27.18032787,\n",
       "         26.18032787,  25.18032787,  24.18032787,  23.18032787,\n",
       "         22.18032787,  21.18032787],\n",
       "       [ 12.        ,  12.        ,   4.03333333,   5.06666667,\n",
       "          6.1       ,   7.13333333,   8.16666667,   9.2       ,\n",
       "         10.23333333,  11.26666667,  12.3       ,  13.33333333,\n",
       "         14.36666667,  15.4       ,  16.43333333,  17.46666667,\n",
       "         18.5       ,  19.53333333,  20.56666667,  21.6       ,\n",
       "         22.63333333,  23.66666667,  24.7       ,  25.73333333,\n",
       "         26.76666667,  27.8       ,  28.83333333,  29.86666667,\n",
       "         30.9       ,  31.93333333],\n",
       "       [ 12.        ,  12.        ,  12.        ,  12.        ,\n",
       "         12.        ,  12.        ,  12.        ,  12.        ,\n",
       "         12.        ,  12.        ,  12.        ,  12.        ,\n",
       "         12.        ,  12.        ,  12.        ,  12.        ,\n",
       "         12.        ,  12.        ,  12.        ,  12.        ,\n",
       "         12.        ,  12.        ,  12.        ,  12.        ,\n",
       "         12.        ,  12.        ,  12.        ,  12.        ,\n",
       "         12.        ,  12.        ],\n",
       "       [ 12.        ,  12.        ,  12.        ,  12.        ,\n",
       "         12.        ,   3.        ,   3.        ,   3.        ,\n",
       "          3.        ,   3.        ,   3.        ,   3.        ,\n",
       "          3.        ,   3.        ,   3.        ,   3.        ,\n",
       "          3.        ,   3.        ,   3.        ,   3.        ,\n",
       "          3.        ,   3.        ,   3.        ,   3.        ,\n",
       "          3.        ,   3.        ,   3.        ,   3.        ,\n",
       "          3.        ,   3.        ],\n",
       "       [ 12.        ,  12.        ,  12.        ,  12.        ,\n",
       "         12.        ,  12.        ,  12.        ,  12.        ,\n",
       "         12.        ,  12.        ,  12.        ,  12.        ,\n",
       "         12.        ,  12.        ,  12.        ,  12.        ,\n",
       "         12.        ,  12.        ,  12.        ,  12.        ,\n",
       "         12.        ,  12.        ,  12.        ,  12.        ,\n",
       "         12.        ,  12.        ,  12.        ,  12.        ,\n",
       "         12.        ,  12.        ],\n",
       "       [ 12.        ,  12.        ,  12.        ,  12.        ,\n",
       "         12.        ,  12.        ,  12.        ,  12.        ,\n",
       "         12.        ,  12.        ,  12.        ,  12.        ,\n",
       "         12.        ,  12.        ,  12.        ,  12.        ,\n",
       "         12.        ,  12.        ,  12.        ,  12.        ,\n",
       "         12.        ,  12.        ,  12.        ,  12.        ,\n",
       "         12.        ,  12.        ,  12.        ,  12.        ,\n",
       "         12.        ,  12.        ]])"
      ]
     },
     "execution_count": 37,
     "metadata": {},
     "output_type": "execute_result"
    }
   ],
   "source": [
    "a.get_link_tt(np.arange(0, 30))"
   ]
  },
  {
   "cell_type": "code",
   "execution_count": 38,
   "metadata": {},
   "outputs": [],
   "source": [
    "tt = a.get_dar_matrix(np.arange(0, 30), np.arange(0, 30) + 1)"
   ]
  },
  {
   "cell_type": "code",
   "execution_count": 42,
   "metadata": {},
   "outputs": [
    {
     "data": {
      "text/plain": [
       "(887, 5)"
      ]
     },
     "execution_count": 42,
     "metadata": {},
     "output_type": "execute_result"
    }
   ],
   "source": [
    "tt.shape"
   ]
  },
  {
   "cell_type": "code",
   "execution_count": null,
   "metadata": {},
   "outputs": [],
   "source": []
  }
 ],
 "metadata": {
  "kernelspec": {
   "display_name": "Python 3",
   "language": "python",
   "name": "python3"
  },
  "language_info": {
   "codemirror_mode": {
    "name": "ipython",
    "version": 3
   },
   "file_extension": ".py",
   "mimetype": "text/x-python",
   "name": "python",
   "nbconvert_exporter": "python",
   "pygments_lexer": "ipython3",
   "version": "3.6.5"
  }
 },
 "nbformat": 4,
 "nbformat_minor": 2
}
