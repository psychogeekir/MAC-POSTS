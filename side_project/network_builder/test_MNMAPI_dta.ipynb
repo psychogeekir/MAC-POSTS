{
 "cells": [
  {
   "cell_type": "code",
   "execution_count": 1,
   "source": [
    "import MNMAPI"
   ],
   "outputs": [],
   "metadata": {}
  },
  {
   "cell_type": "code",
   "execution_count": 2,
   "source": [
    "import os\n",
    "import numpy as np\n",
    "import pandas as pd"
   ],
   "outputs": [],
   "metadata": {}
  },
  {
   "cell_type": "code",
   "execution_count": 3,
   "source": [
    "a = MNMAPI.dta_api()"
   ],
   "outputs": [],
   "metadata": {}
  },
  {
   "cell_type": "code",
   "execution_count": 4,
   "source": [
    "a.initialize(os.path.join('..', '..', 'data', 'input_files_7link_fix'))"
   ],
   "outputs": [
    {
     "output_type": "execute_result",
     "data": {
      "text/plain": [
       "0L"
      ]
     },
     "metadata": {},
     "execution_count": 4
    }
   ],
   "metadata": {}
  },
  {
   "cell_type": "code",
   "execution_count": 5,
   "source": [
    "# a.initialize(os.path.join('..', '..', 'data', 'input_files_PGH_emission'))"
   ],
   "outputs": [],
   "metadata": {}
  },
  {
   "cell_type": "code",
   "execution_count": 6,
   "source": [
    "# link_list = pd.read_table(os.path.join('..', '..', 'data', 'input_files_PGH_emission', 'MNM_input_link'), sep = ' ')['#ID'].values.astype(np.int)"
   ],
   "outputs": [],
   "metadata": {}
  },
  {
   "cell_type": "code",
   "execution_count": 7,
   "source": [
    "a.register_links(np.arange(1,7))"
   ],
   "outputs": [
    {
     "output_type": "execute_result",
     "data": {
      "text/plain": [
       "0L"
      ]
     },
     "metadata": {},
     "execution_count": 7
    }
   ],
   "metadata": {}
  },
  {
   "cell_type": "code",
   "execution_count": 8,
   "source": [
    "a.register_paths(np.arange(0, 3))"
   ],
   "outputs": [
    {
     "output_type": "execute_result",
     "data": {
      "text/plain": [
       "0L"
      ]
     },
     "metadata": {},
     "execution_count": 8
    }
   ],
   "metadata": {}
  },
  {
   "cell_type": "code",
   "execution_count": 9,
   "source": [
    "# a.register_links(link_list)"
   ],
   "outputs": [],
   "metadata": {}
  },
  {
   "cell_type": "code",
   "execution_count": 10,
   "source": [
    "a.install_cc()"
   ],
   "outputs": [
    {
     "output_type": "execute_result",
     "data": {
      "text/plain": [
       "0L"
      ]
     },
     "metadata": {},
     "execution_count": 10
    }
   ],
   "metadata": {}
  },
  {
   "cell_type": "code",
   "execution_count": 11,
   "source": [
    "a.install_cc_tree()"
   ],
   "outputs": [
    {
     "output_type": "execute_result",
     "data": {
      "text/plain": [
       "0L"
      ]
     },
     "metadata": {},
     "execution_count": 11
    }
   ],
   "metadata": {}
  },
  {
   "cell_type": "code",
   "execution_count": 12,
   "source": [
    "a.run_whole()"
   ],
   "outputs": [
    {
     "output_type": "execute_result",
     "data": {
      "text/plain": [
       "0L"
      ]
     },
     "metadata": {},
     "execution_count": 12
    }
   ],
   "metadata": {}
  },
  {
   "cell_type": "code",
   "execution_count": 13,
   "source": [
    "a.get_cur_loading_interval()"
   ],
   "outputs": [
    {
     "output_type": "execute_result",
     "data": {
      "text/plain": [
       "391L"
      ]
     },
     "metadata": {},
     "execution_count": 13
    }
   ],
   "metadata": {}
  },
  {
   "cell_type": "code",
   "execution_count": 14,
   "source": [
    "a.get_link_inflow(np.arange(0, 30), np.arange(0, 30) + 1)"
   ],
   "outputs": [
    {
     "output_type": "execute_result",
     "data": {
      "text/plain": [
       "array([[100. ,   0. ,   0. ,   0. ,   0. ,   0. ,   0. ,   0. ,   0. ,\n",
       "          0. , 100. ,   0. ,   0. ,   0. ,   0. ,   0. ,   0. ,   0. ,\n",
       "          0. ,   0. , 100. ,   0. ,   0. ,   0. ,   0. ,   0. ,   0. ,\n",
       "          0. ,   0. ,   0. ],\n",
       "       [  0. ,   6.1,   6.1,   6.1,   6.1,   6.1,   6.1,   5.7,   5.1,\n",
       "          4.6,   4.2,   3.9,   3.7,   3.6,   3.4,   3.3,   3.3,   3.2,\n",
       "          3.1,   3. ,   2.9,   2.9,   2.8,   2.8,   2.7,   2.7,   2.7,\n",
       "          2.7,   2.7,   2.6],\n",
       "       [  0. ,   0. ,   0. ,   0. ,   0. ,   0. ,   0. ,   0. ,   0. ,\n",
       "          0. ,   0. ,   0. ,   0. ,   0. ,   0. ,   0. ,   0. ,   0. ,\n",
       "          0. ,   0. ,   0. ,   0. ,   0. ,   0. ,   0. ,   0. ,   0. ,\n",
       "          0. ,   0. ,   0. ],\n",
       "       [  0. ,   0. ,   0. ,   3. ,   3. ,   3. ,   3. ,   3. ,   3. ,\n",
       "          3. ,   3. ,   3. ,   3. ,   2.9,   2.8,   2.7,   2.7,   2.7,\n",
       "          2.6,   2.6,   2.6,   2.6,   2.6,   2.6,   2.6,   2.6,   2.6,\n",
       "          2.6,   2.6,   2.6],\n",
       "       [  0. ,   0. ,   0. ,   0. ,   0. ,   0. ,   0. ,   0. ,   0. ,\n",
       "          0. ,   0. ,   0. ,   0. ,   0. ,   0. ,   0. ,   0. ,   0. ,\n",
       "          0. ,   0. ,   0. ,   0. ,   0. ,   0. ,   0. ,   0. ,   0. ,\n",
       "          0. ,   0. ,   0. ],\n",
       "       [  0. ,   0. ,   0. ,   0. ,   0. ,   0. ,   0. ,   0. ,   0. ,\n",
       "          0. ,   0. ,   0. ,   0. ,   0. ,   0. ,   0. ,   0. ,   0. ,\n",
       "          0. ,   0. ,   0. ,   0. ,   0. ,   0. ,   0. ,   0. ,   0. ,\n",
       "          0. ,   0. ,   0. ]])"
      ]
     },
     "metadata": {},
     "execution_count": 14
    }
   ],
   "metadata": {
    "scrolled": true
   }
  },
  {
   "cell_type": "code",
   "execution_count": 15,
   "source": [
    "a.get_link_tt(np.arange(0, 30))"
   ],
   "outputs": [
    {
     "output_type": "execute_result",
     "data": {
      "text/plain": [
       "array([[3.600036e-02, 3.600036e-02, 3.600036e-02, 3.600036e-02,\n",
       "        3.600036e-02, 3.600036e-02, 3.600036e-02, 3.600036e-02,\n",
       "        3.600036e-02, 3.600036e-02, 3.600036e-02, 3.600036e-02,\n",
       "        3.600036e-02, 3.600036e-02, 3.600036e-02, 3.600036e-02,\n",
       "        3.600036e-02, 3.600036e-02, 3.600036e-02, 3.600036e-02,\n",
       "        3.600036e-02, 3.600036e-02, 3.600036e-02, 3.600036e-02,\n",
       "        3.600036e-02, 3.600036e-02, 3.600036e-02, 3.600036e-02,\n",
       "        3.600036e-02, 3.600036e-02],\n",
       "       [1.200000e+01, 1.200000e+01, 1.500000e+01, 2.000000e+01,\n",
       "        2.500000e+01, 3.000000e+01, 3.500000e+01, 4.000000e+01,\n",
       "        4.500000e+01, 5.000000e+01, 5.500000e+01, 5.500000e+01,\n",
       "        6.000000e+01, 6.000000e+01, 6.500000e+01, 6.500000e+01,\n",
       "        6.500000e+01, 6.500000e+01, 7.000000e+01, 7.000000e+01,\n",
       "        7.000000e+01, 7.000000e+01, 7.000000e+01, 7.000000e+01,\n",
       "        7.000000e+01, 7.000000e+01, 7.000000e+01, 7.500000e+01,\n",
       "        7.500000e+01, 7.500000e+01],\n",
       "       [1.200000e+01, 1.200000e+01, 1.200000e+01, 1.200000e+01,\n",
       "        1.200000e+01, 1.200000e+01, 1.200000e+01, 1.200000e+01,\n",
       "        1.200000e+01, 1.200000e+01, 1.200000e+01, 1.200000e+01,\n",
       "        1.200000e+01, 1.200000e+01, 1.200000e+01, 1.200000e+01,\n",
       "        1.200000e+01, 1.200000e+01, 1.200000e+01, 1.200000e+01,\n",
       "        1.200000e+01, 1.200000e+01, 1.200000e+01, 1.200000e+01,\n",
       "        1.200000e+01, 1.200000e+01, 1.200000e+01, 1.200000e+01,\n",
       "        1.200000e+01, 1.200000e+01],\n",
       "       [1.200000e+01, 1.200000e+01, 1.200000e+01, 1.200000e+01,\n",
       "        1.200000e+01, 1.200000e+01, 1.200000e+01, 1.200000e+01,\n",
       "        1.200000e+01, 1.200000e+01, 1.200000e+01, 1.500000e+01,\n",
       "        1.500000e+01, 1.500000e+01, 1.500000e+01, 1.500000e+01,\n",
       "        1.500000e+01, 1.500000e+01, 1.500000e+01, 1.500000e+01,\n",
       "        1.500000e+01, 1.500000e+01, 1.500000e+01, 1.500000e+01,\n",
       "        1.500000e+01, 1.500000e+01, 1.500000e+01, 1.500000e+01,\n",
       "        1.500000e+01, 1.500000e+01],\n",
       "       [1.200000e+01, 1.200000e+01, 1.200000e+01, 1.200000e+01,\n",
       "        1.200000e+01, 1.200000e+01, 1.200000e+01, 1.200000e+01,\n",
       "        1.200000e+01, 1.200000e+01, 1.200000e+01, 1.200000e+01,\n",
       "        1.200000e+01, 1.200000e+01, 1.200000e+01, 1.200000e+01,\n",
       "        1.200000e+01, 1.200000e+01, 1.200000e+01, 1.200000e+01,\n",
       "        1.200000e+01, 1.200000e+01, 1.200000e+01, 1.200000e+01,\n",
       "        1.200000e+01, 1.200000e+01, 1.200000e+01, 1.200000e+01,\n",
       "        1.200000e+01, 1.200000e+01],\n",
       "       [1.200000e+01, 1.200000e+01, 1.200000e+01, 1.200000e+01,\n",
       "        1.200000e+01, 1.200000e+01, 1.200000e+01, 1.200000e+01,\n",
       "        1.200000e+01, 1.200000e+01, 1.200000e+01, 1.200000e+01,\n",
       "        1.200000e+01, 1.200000e+01, 1.200000e+01, 1.200000e+01,\n",
       "        1.200000e+01, 1.200000e+01, 1.200000e+01, 1.200000e+01,\n",
       "        1.200000e+01, 1.200000e+01, 1.200000e+01, 1.200000e+01,\n",
       "        1.200000e+01, 1.200000e+01, 1.200000e+01, 1.200000e+01,\n",
       "        1.200000e+01, 1.200000e+01]])"
      ]
     },
     "metadata": {},
     "execution_count": 15
    }
   ],
   "metadata": {
    "scrolled": false
   }
  },
  {
   "cell_type": "code",
   "execution_count": 16,
   "source": [
    "tt = a.get_dar_matrix(np.arange(0, 30), np.arange(0, 30) + 1)"
   ],
   "outputs": [],
   "metadata": {}
  },
  {
   "cell_type": "code",
   "execution_count": 17,
   "source": [
    "tt.shape"
   ],
   "outputs": [
    {
     "output_type": "execute_result",
     "data": {
      "text/plain": [
       "(57, 5)"
      ]
     },
     "metadata": {},
     "execution_count": 17
    }
   ],
   "metadata": {}
  },
  {
   "cell_type": "code",
   "execution_count": null,
   "source": [],
   "outputs": [],
   "metadata": {}
  }
 ],
 "metadata": {
  "kernelspec": {
   "name": "python3",
   "display_name": "Python 2.7.18 64-bit ('mac_posts': conda)"
  },
  "language_info": {
   "mimetype": "text/x-python",
   "nbconvert_exporter": "python",
   "name": "python",
   "pygments_lexer": "ipython2",
   "version": "2.7.18",
   "file_extension": ".py",
   "codemirror_mode": {
    "version": 2,
    "name": "ipython"
   }
  },
  "interpreter": {
   "hash": "2b5a2be2fabc70dcc46d6ab9fd0971448c0d451a6d368e6969d42856549ea446"
  }
 },
 "nbformat": 4,
 "nbformat_minor": 2
}