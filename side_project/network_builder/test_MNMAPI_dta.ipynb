{
 "cells": [
  {
   "cell_type": "code",
   "execution_count": 1,
   "source": [
    "import MNMAPI"
   ],
   "outputs": [],
   "metadata": {}
  },
  {
   "cell_type": "code",
   "execution_count": 2,
   "source": [
    "import os\n",
    "import numpy as np\n",
    "import pandas as pd"
   ],
   "outputs": [],
   "metadata": {}
  },
  {
   "cell_type": "code",
   "execution_count": 3,
   "source": [
    "a = MNMAPI.dta_api()"
   ],
   "outputs": [],
   "metadata": {}
  },
  {
   "cell_type": "code",
   "execution_count": 4,
   "source": [
    "a.initialize(os.path.join('..', '..', 'data', 'input_files_7link_fix'))"
   ],
   "outputs": [
    {
     "output_type": "execute_result",
     "data": {
      "text/plain": [
       "0L"
      ]
     },
     "metadata": {},
     "execution_count": 4
    }
   ],
   "metadata": {}
  },
  {
   "cell_type": "code",
   "execution_count": 26,
   "source": [
    "# a.initialize(os.path.join('..', '..', 'data', 'input_files_PGH_emission'))"
   ],
   "outputs": [],
   "metadata": {}
  },
  {
   "cell_type": "code",
   "execution_count": 27,
   "source": [
    "# link_list = pd.read_table(os.path.join('..', '..', 'data', 'input_files_PGH_emission', 'MNM_input_link'), sep = ' ')['#ID'].values.astype(np.int)"
   ],
   "outputs": [],
   "metadata": {}
  },
  {
   "cell_type": "code",
   "execution_count": 5,
   "source": [
    "a.register_links(np.arange(1,7))"
   ],
   "outputs": [
    {
     "output_type": "execute_result",
     "data": {
      "text/plain": [
       "0L"
      ]
     },
     "metadata": {},
     "execution_count": 5
    }
   ],
   "metadata": {}
  },
  {
   "cell_type": "code",
   "execution_count": 30,
   "source": [
    "a.register_paths(np.arange(0, 3))"
   ],
   "outputs": [
    {
     "output_type": "execute_result",
     "data": {
      "text/plain": [
       "0L"
      ]
     },
     "metadata": {},
     "execution_count": 30
    }
   ],
   "metadata": {}
  },
  {
   "cell_type": "code",
   "execution_count": 31,
   "source": [
    "# a.register_links(link_list)"
   ],
   "outputs": [],
   "metadata": {}
  },
  {
   "cell_type": "code",
   "execution_count": 32,
   "source": [
    "a.install_cc()"
   ],
   "outputs": [
    {
     "output_type": "execute_result",
     "data": {
      "text/plain": [
       "0L"
      ]
     },
     "metadata": {},
     "execution_count": 32
    }
   ],
   "metadata": {}
  },
  {
   "cell_type": "code",
   "execution_count": 33,
   "source": [
    "a.install_cc_tree()"
   ],
   "outputs": [
    {
     "output_type": "execute_result",
     "data": {
      "text/plain": [
       "0L"
      ]
     },
     "metadata": {},
     "execution_count": 33
    }
   ],
   "metadata": {}
  },
  {
   "cell_type": "code",
   "execution_count": 34,
   "source": [
    "a.run_whole()"
   ],
   "outputs": [
    {
     "output_type": "execute_result",
     "data": {
      "text/plain": [
       "0L"
      ]
     },
     "metadata": {},
     "execution_count": 34
    }
   ],
   "metadata": {}
  },
  {
   "cell_type": "code",
   "execution_count": 35,
   "source": [
    "a.get_cur_loading_interval()"
   ],
   "outputs": [
    {
     "output_type": "execute_result",
     "data": {
      "text/plain": [
       "342L"
      ]
     },
     "metadata": {},
     "execution_count": 35
    }
   ],
   "metadata": {}
  },
  {
   "cell_type": "code",
   "execution_count": 36,
   "source": [
    "a.get_link_inflow(np.arange(0, 30), np.arange(0, 30) + 1)"
   ],
   "outputs": [
    {
     "output_type": "execute_result",
     "data": {
      "text/plain": [
       "array([[ 100. ,    0. ,    0. ,    0. ,    0. ,    0. ,    0. ,    0. ,\n",
       "           0. ,    0. ,  100. ,    0. ,    0. ,    0. ,    0. ,    0. ,\n",
       "           0. ,    0. ,    0. ,    0. ,  100. ,    0. ,    0. ,    0. ,\n",
       "           0. ,    0. ,    0. ,    0. ,    0. ,    0. ],\n",
       "       [   0. ,    6.1,    6.1,    6.1,    6.1,    6.1,    6.1,    6.1,\n",
       "           6.1,    6.1,    6.1,    6.1,    6.1,    6.1,    6.1,    6.1,\n",
       "           6.1,    6.1,    6.1,    6.1,    6.1,    6.1,    6.1,    6.1,\n",
       "           6.1,    6.1,    6.1,    6.1,    6.1,    6.1],\n",
       "       [   0. ,    0. ,    0. ,    0. ,    0. ,    0. ,    0. ,    0. ,\n",
       "           0. ,    0. ,    0. ,    0. ,    0. ,    0. ,    0. ,    0. ,\n",
       "           0. ,    0. ,    0. ,    0. ,    0. ,    0. ,    0. ,    0. ,\n",
       "           0. ,    0. ,    0. ,    0. ,    0. ,    0. ],\n",
       "       [   0. ,    0. ,    0. ,    0. ,    3. ,    3. ,    3. ,    3. ,\n",
       "           3. ,    3. ,    3. ,    3. ,    3. ,    3. ,    3. ,    3. ,\n",
       "           3. ,    3. ,    3. ,    3. ,    3. ,    3. ,    3. ,    3. ,\n",
       "           3. ,    3. ,    3. ,    3. ,    3. ,    3. ],\n",
       "       [   0. ,    0. ,    0. ,    0. ,    0. ,    0. ,    0. ,    0. ,\n",
       "           0. ,    0. ,    0. ,    0. ,    0. ,    0. ,    0. ,    0. ,\n",
       "           0. ,    0. ,    0. ,    0. ,    0. ,    0. ,    0. ,    0. ,\n",
       "           0. ,    0. ,    0. ,    0. ,    0. ,    0. ],\n",
       "       [   0. ,    0. ,    0. ,    0. ,    0. ,    0. ,    0. ,    0. ,\n",
       "           0. ,    0. ,    0. ,    0. ,    0. ,    0. ,    0. ,    0. ,\n",
       "           0. ,    0. ,    0. ,    0. ,    0. ,    0. ,    0. ,    0. ,\n",
       "           0. ,    0. ,    0. ,    0. ,    0. ,    0. ]])"
      ]
     },
     "metadata": {},
     "execution_count": 36
    }
   ],
   "metadata": {
    "scrolled": true
   }
  },
  {
   "cell_type": "code",
   "execution_count": 37,
   "source": [
    "a.get_link_tt(np.arange(0, 30))"
   ],
   "outputs": [
    {
     "output_type": "execute_result",
     "data": {
      "text/plain": [
       "array([[  0.03600036,  16.39344262,  15.39344262,  14.39344262,\n",
       "         13.39344262,  12.39344262,  11.39344262,  10.39344262,\n",
       "          9.39344262,   8.39344262,   7.39344262,  22.78688525,\n",
       "         21.78688525,  20.78688525,  19.78688525,  18.78688525,\n",
       "         17.78688525,  16.78688525,  15.78688525,  14.78688525,\n",
       "         13.78688525,  29.18032787,  28.18032787,  27.18032787,\n",
       "         26.18032787,  25.18032787,  24.18032787,  23.18032787,\n",
       "         22.18032787,  21.18032787],\n",
       "       [ 12.        ,  12.        ,   4.03333333,   5.06666667,\n",
       "          6.1       ,   7.13333333,   8.16666667,   9.2       ,\n",
       "         10.23333333,  11.26666667,  12.3       ,  13.33333333,\n",
       "         14.36666667,  15.4       ,  16.43333333,  17.46666667,\n",
       "         18.5       ,  19.53333333,  20.56666667,  21.6       ,\n",
       "         22.63333333,  23.66666667,  24.7       ,  25.73333333,\n",
       "         26.76666667,  27.8       ,  28.83333333,  29.86666667,\n",
       "         30.9       ,  31.93333333],\n",
       "       [ 12.        ,  12.        ,  12.        ,  12.        ,\n",
       "         12.        ,  12.        ,  12.        ,  12.        ,\n",
       "         12.        ,  12.        ,  12.        ,  12.        ,\n",
       "         12.        ,  12.        ,  12.        ,  12.        ,\n",
       "         12.        ,  12.        ,  12.        ,  12.        ,\n",
       "         12.        ,  12.        ,  12.        ,  12.        ,\n",
       "         12.        ,  12.        ,  12.        ,  12.        ,\n",
       "         12.        ,  12.        ],\n",
       "       [ 12.        ,  12.        ,  12.        ,  12.        ,\n",
       "         12.        ,   3.        ,   3.        ,   3.        ,\n",
       "          3.        ,   3.        ,   3.        ,   3.        ,\n",
       "          3.        ,   3.        ,   3.        ,   3.        ,\n",
       "          3.        ,   3.        ,   3.        ,   3.        ,\n",
       "          3.        ,   3.        ,   3.        ,   3.        ,\n",
       "          3.        ,   3.        ,   3.        ,   3.        ,\n",
       "          3.        ,   3.        ],\n",
       "       [ 12.        ,  12.        ,  12.        ,  12.        ,\n",
       "         12.        ,  12.        ,  12.        ,  12.        ,\n",
       "         12.        ,  12.        ,  12.        ,  12.        ,\n",
       "         12.        ,  12.        ,  12.        ,  12.        ,\n",
       "         12.        ,  12.        ,  12.        ,  12.        ,\n",
       "         12.        ,  12.        ,  12.        ,  12.        ,\n",
       "         12.        ,  12.        ,  12.        ,  12.        ,\n",
       "         12.        ,  12.        ],\n",
       "       [ 12.        ,  12.        ,  12.        ,  12.        ,\n",
       "         12.        ,  12.        ,  12.        ,  12.        ,\n",
       "         12.        ,  12.        ,  12.        ,  12.        ,\n",
       "         12.        ,  12.        ,  12.        ,  12.        ,\n",
       "         12.        ,  12.        ,  12.        ,  12.        ,\n",
       "         12.        ,  12.        ,  12.        ,  12.        ,\n",
       "         12.        ,  12.        ,  12.        ,  12.        ,\n",
       "         12.        ,  12.        ]])"
      ]
     },
     "metadata": {},
     "execution_count": 37
    }
   ],
   "metadata": {
    "scrolled": false
   }
  },
  {
   "cell_type": "code",
   "execution_count": 38,
   "source": [
    "tt = a.get_dar_matrix(np.arange(0, 30), np.arange(0, 30) + 1)"
   ],
   "outputs": [],
   "metadata": {}
  },
  {
   "cell_type": "code",
   "execution_count": 42,
   "source": [
    "tt.shape"
   ],
   "outputs": [
    {
     "output_type": "execute_result",
     "data": {
      "text/plain": [
       "(887, 5)"
      ]
     },
     "metadata": {},
     "execution_count": 42
    }
   ],
   "metadata": {}
  },
  {
   "cell_type": "code",
   "execution_count": null,
   "source": [],
   "outputs": [],
   "metadata": {}
  }
 ],
 "metadata": {
  "kernelspec": {
   "name": "python3",
   "display_name": "Python 2.7.18 64-bit ('mac_posts': conda)"
  },
  "language_info": {
   "mimetype": "text/x-python",
   "nbconvert_exporter": "python",
   "name": "python",
   "pygments_lexer": "ipython2",
   "version": "2.7.18",
   "file_extension": ".py",
   "codemirror_mode": {
    "version": 2,
    "name": "ipython"
   }
  },
  "interpreter": {
   "hash": "2b5a2be2fabc70dcc46d6ab9fd0971448c0d451a6d368e6969d42856549ea446"
  }
 },
 "nbformat": 4,
 "nbformat_minor": 2
}