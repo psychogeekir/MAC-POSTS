{
 "cells": [
  {
   "cell_type": "code",
   "execution_count": 93,
   "source": [
    "%load_ext autoreload\n",
    "%autoreload 2"
   ],
   "outputs": [
    {
     "output_type": "stream",
     "name": "stdout",
     "text": [
      "The autoreload extension is already loaded. To reload it, use:\n",
      "  %reload_ext autoreload\n"
     ]
    }
   ],
   "metadata": {}
  },
  {
   "cell_type": "code",
   "execution_count": 94,
   "source": [
    "import os\n",
    "import numpy as np\n",
    "import pandas as pd\n",
    "\n",
    "from MNM_mmnb import MNM_network_builder\n",
    "import MNMAPI"
   ],
   "outputs": [],
   "metadata": {}
  },
  {
   "cell_type": "code",
   "execution_count": 95,
   "source": [
    "data_folder = os.path.join('.', 'MNM_cache', 'input_files_7link_multimodal_dode_generated')"
   ],
   "outputs": [],
   "metadata": {}
  },
  {
   "cell_type": "code",
   "execution_count": 96,
   "source": [
    "nb = MNM_network_builder()\n",
    "nb.load_from_folder(data_folder)\n",
    "nb.ID2path"
   ],
   "outputs": [
    {
     "output_type": "execute_result",
     "data": {
      "text/plain": [
       "OrderedDict([(0, ('driving', MNM_path, path ID 0, O node: 1, D node 6)),\n",
       "             (1, ('driving', MNM_path, path ID 1, O node: 1, D node 6)),\n",
       "             (2, ('driving', MNM_path, path ID 2, O node: 1, D node 6)),\n",
       "             (3,\n",
       "              ('bustransit',\n",
       "               MNM_path_bustransit, path ID 0, O node: 1, D node 6)),\n",
       "             (4,\n",
       "              ('bustransit',\n",
       "               MNM_path_bustransit, path ID 1, O node: 1, D node 6)),\n",
       "             (5,\n",
       "              ('bustransit',\n",
       "               MNM_path_bustransit, path ID 2, O node: 1, D node 6)),\n",
       "             (6, ('pnr', MNM_path_pnr, path ID 0, O node: 1, D node 6)),\n",
       "             (7, ('pnr', MNM_path_pnr, path ID 1, O node: 1, D node 6)),\n",
       "             (8, ('pnr', MNM_path_pnr, path ID 2, O node: 1, D node 6)),\n",
       "             (9,\n",
       "              ('bus',\n",
       "               MNM_bus_route, path ID 0, route ID 1, O node: 101, D node 106)),\n",
       "             (10,\n",
       "              ('bus',\n",
       "               MNM_bus_route, path ID 1, route ID 2, O node: 101, D node 106)),\n",
       "             (11,\n",
       "              ('bus',\n",
       "               MNM_bus_route, path ID 2, route ID 3, O node: 101, D node 106))])"
      ]
     },
     "metadata": {},
     "execution_count": 96
    }
   ],
   "metadata": {}
  },
  {
   "cell_type": "code",
   "execution_count": 97,
   "source": [
    "a = MNMAPI.mmdta_api()\n",
    "a.initialize(data_folder)\n",
    "a"
   ],
   "outputs": [
    {
     "output_type": "execute_result",
     "data": {
      "text/plain": [
       "<MNMAPI.mmdta_api at 0x7f9ac18bceb0>"
      ]
     },
     "metadata": {},
     "execution_count": 97
    }
   ],
   "metadata": {}
  },
  {
   "cell_type": "code",
   "execution_count": 98,
   "source": [
    "link_driving_array = np.array([e.ID for e in nb.link_driving_list], dtype=np.int)\n",
    "a.register_links_driving(link_driving_array)"
   ],
   "outputs": [
    {
     "output_type": "execute_result",
     "data": {
      "text/plain": [
       "0L"
      ]
     },
     "metadata": {},
     "execution_count": 98
    }
   ],
   "metadata": {}
  },
  {
   "cell_type": "code",
   "execution_count": 99,
   "source": [
    "link_bus_array = np.array([e.ID for e in nb.link_bus_list], dtype=np.int)\n",
    "a.register_links_bus(link_bus_array)"
   ],
   "outputs": [
    {
     "output_type": "execute_result",
     "data": {
      "text/plain": [
       "0L"
      ]
     },
     "metadata": {},
     "execution_count": 99
    }
   ],
   "metadata": {}
  },
  {
   "cell_type": "code",
   "execution_count": 100,
   "source": [
    "link_walking_array = np.array([e.ID for e in nb.link_walking_list], dtype=np.int)\n",
    "a.register_links_walking(link_walking_array)"
   ],
   "outputs": [
    {
     "output_type": "execute_result",
     "data": {
      "text/plain": [
       "0L"
      ]
     },
     "metadata": {},
     "execution_count": 100
    }
   ],
   "metadata": {}
  },
  {
   "cell_type": "code",
   "execution_count": 101,
   "source": [
    "path_array = np.array(list(nb.ID2path.keys()), dtype=np.int)\n",
    "a.register_paths(path_array)"
   ],
   "outputs": [
    {
     "output_type": "execute_result",
     "data": {
      "text/plain": [
       "0L"
      ]
     },
     "metadata": {},
     "execution_count": 101
    }
   ],
   "metadata": {}
  },
  {
   "cell_type": "code",
   "execution_count": 102,
   "source": [
    "a.install_cc()"
   ],
   "outputs": [
    {
     "output_type": "execute_result",
     "data": {
      "text/plain": [
       "0L"
      ]
     },
     "metadata": {},
     "execution_count": 102
    }
   ],
   "metadata": {}
  },
  {
   "cell_type": "code",
   "execution_count": 103,
   "source": [
    "a.install_cc_tree()"
   ],
   "outputs": [
    {
     "output_type": "execute_result",
     "data": {
      "text/plain": [
       "0L"
      ]
     },
     "metadata": {},
     "execution_count": 103
    }
   ],
   "metadata": {}
  },
  {
   "cell_type": "code",
   "execution_count": 104,
   "source": [
    "a.run_whole()"
   ],
   "outputs": [
    {
     "output_type": "execute_result",
     "data": {
      "text/plain": [
       "0L"
      ]
     },
     "metadata": {},
     "execution_count": 104
    }
   ],
   "metadata": {}
  },
  {
   "cell_type": "code",
   "execution_count": 105,
   "source": [
    "assign_freq = nb.config.config_dict['DTA']['assign_frq']\n",
    "assign_intervals = np.arange(nb.config.config_dict['FIXED']['buffer_length']//2) * assign_freq\n",
    "print(\"assign_intervals: \")\n",
    "print(assign_intervals)\n",
    "end_interval = a.get_cur_loading_interval()\n",
    "print(\"end interval: {}\\n\".format(end_interval))\n",
    "assert(assign_intervals[-1] < end_interval)"
   ],
   "outputs": [
    {
     "output_type": "stream",
     "name": "stdout",
     "text": [
      "assign_intervals: \n",
      "[  0 180 360 540 720]\n",
      "end interval: 970\n",
      "\n"
     ]
    }
   ],
   "metadata": {}
  },
  {
   "cell_type": "code",
   "execution_count": 106,
   "source": [
    "travel_stats = a.get_travel_stats()\n",
    "print(\"\\n************ travel stats ************\\n\")\n",
    "print(\"car count: {}\\n\".format(travel_stats[0]))\n",
    "print(\"truck count: {}\\n\".format(travel_stats[1]))\n",
    "print(\"bus count: {}\\n\".format(travel_stats[2]))\n",
    "print(\"passenger count: {}\\n\".format(travel_stats[3]))\n",
    "print(\"car total travel time: {}\\n\".format(travel_stats[4]))\n",
    "print(\"truck total travel time: {}\\n\".format(travel_stats[5]))\n",
    "print(\"bus total travel time: {}\\n\".format(travel_stats[6]))\n",
    "print(\"passenger total travel time: {}\\n\".format(travel_stats[7]))\n",
    "print(\"\\n************ travel stats ************\\n\")"
   ],
   "outputs": [
    {
     "output_type": "stream",
     "name": "stdout",
     "text": [
      "\n",
      "************ travel stats ************\n",
      "\n",
      "car count: 0.0\n",
      "\n",
      "truck count: 53.8\n",
      "\n",
      "bus count: 45.0\n",
      "\n",
      "passenger count: 0.0\n",
      "\n",
      "car total travel time: 0.0\n",
      "\n",
      "truck total travel time: 2.53\n",
      "\n",
      "bus total travel time: 2.40222222222\n",
      "\n",
      "passenger total travel time: 0.0\n",
      "\n",
      "\n",
      "************ travel stats ************\n",
      "\n"
     ]
    }
   ],
   "metadata": {}
  },
  {
   "cell_type": "code",
   "execution_count": 107,
   "source": [
    "start_intervals = assign_intervals\n",
    "print(start_intervals)"
   ],
   "outputs": [
    {
     "output_type": "stream",
     "name": "stdout",
     "text": [
      "[  0 180 360 540 720]\n"
     ]
    }
   ],
   "metadata": {}
  },
  {
   "cell_type": "code",
   "execution_count": 108,
   "source": [
    "\n",
    "car_link_tt = a.get_car_link_tt(start_intervals)\n",
    "print(car_link_tt)"
   ],
   "outputs": [
    {
     "output_type": "stream",
     "name": "stdout",
     "text": [
      "[[3.60003600e-02 3.60003600e-02 3.60003600e-02 3.60003600e-02\n",
      "  3.60003600e-02]\n",
      " [5.65714286e+01 5.65714286e+01 5.65714286e+01 5.65714286e+01\n",
      "  5.65714286e+01]\n",
      " [5.65714286e+01 5.65714286e+01 5.65714286e+01 5.65714286e+01\n",
      "  5.65714286e+01]\n",
      " [5.65714286e+01 5.65714286e+01 5.65714286e+01 5.65714286e+01\n",
      "  5.65714286e+01]\n",
      " [5.65714286e+01 5.65714286e+01 5.65714286e+01 5.65714286e+01\n",
      "  5.65714286e+01]\n",
      " [5.65714286e+01 5.65714286e+01 5.65714286e+01 5.65714286e+01\n",
      "  5.65714286e+01]\n",
      " [3.60003600e-02 3.60003600e-02 3.60003600e-02 3.60003600e-02\n",
      "  3.60003600e-02]\n",
      " [3.60003600e-02 3.60003600e-02 3.60003600e-02 3.60003600e-02\n",
      "  3.60003600e-02]\n",
      " [3.60003600e-02 3.60003600e-02 3.60003600e-02 3.60003600e-02\n",
      "  3.60003600e-02]\n",
      " [3.60003600e-02 3.60003600e-02 3.60003600e-02 3.60003600e-02\n",
      "  3.60003600e-02]]\n"
     ]
    }
   ],
   "metadata": {}
  },
  {
   "cell_type": "code",
   "execution_count": 109,
   "source": [
    "truck_link_tt = a.get_truck_link_tt(start_intervals)\n",
    "print(truck_link_tt)"
   ],
   "outputs": [
    {
     "output_type": "stream",
     "name": "stdout",
     "text": [
      "[[3.600036e-02 5.000000e+00 5.000000e+00 5.000000e+00 5.000000e+00]\n",
      " [7.920000e+01 7.920000e+01 7.920000e+01 7.920000e+01 7.920000e+01]\n",
      " [7.920000e+01 1.000000e+02 7.920000e+01 9.000000e+01 7.920000e+01]\n",
      " [7.920000e+01 7.920000e+01 7.920000e+01 7.920000e+01 7.920000e+01]\n",
      " [7.920000e+01 7.920000e+01 7.920000e+01 1.050000e+02 7.920000e+01]\n",
      " [7.920000e+01 8.000000e+01 7.920000e+01 7.920000e+01 7.920000e+01]\n",
      " [3.600036e-02 5.000000e+00 5.000000e+00 5.000000e+00 5.000000e+00]\n",
      " [3.600036e-02 3.600036e-02 3.600036e-02 3.600036e-02 3.600036e-02]\n",
      " [3.600036e-02 1.000000e+01 1.000000e+01 1.000000e+01 1.000000e+01]\n",
      " [3.600036e-02 5.000000e+00 5.000000e+00 5.000000e+00 5.000000e+00]]\n"
     ]
    }
   ],
   "metadata": {}
  },
  {
   "cell_type": "code",
   "execution_count": 110,
   "source": [
    "bus_link_tt = a.get_bus_link_tt(start_intervals)\n",
    "print(bus_link_tt)"
   ],
   "outputs": [
    {
     "output_type": "stream",
     "name": "stdout",
     "text": [
      "[[53.6399994  53.6399994  53.6399994  53.6399994  53.6399994 ]\n",
      " [65.52000269 65.52000269 65.52000269 65.52000269 65.52000269]\n",
      " [39.95999917 39.95999917 39.95999917 39.95999917 39.95999917]\n",
      " [26.28000062 26.28000062 26.28000062 26.28000062 26.28000062]\n",
      " [92.88000315 92.88000315 92.88000315 92.88000315 92.88000315]\n",
      " [65.52000269 65.52000269 65.52000269 65.52000269 65.52000269]\n",
      " [53.6399994  53.6399994  53.6399994  53.6399994  53.6399994 ]\n",
      " [39.95999917 39.95999917 39.95999917 39.95999917 39.95999917]\n",
      " [65.52000269 65.52000269 65.52000269 65.52000269 65.52000269]\n",
      " [27.36000046 27.36000046 27.36000046 27.36000046 27.36000046]\n",
      " [26.28000062 26.28000062 26.28000062 26.28000062 26.28000062]]\n"
     ]
    }
   ],
   "metadata": {}
  },
  {
   "cell_type": "code",
   "execution_count": 111,
   "source": [
    "walking_link_tt = a.get_passenger_walking_link_tt(start_intervals)\n",
    "print(walking_link_tt)"
   ],
   "outputs": [
    {
     "output_type": "stream",
     "name": "stdout",
     "text": [
      "[[53.6399994  53.6399994  53.6399994  53.6399994  53.6399994 ]\n",
      " [65.52000269 65.52000269 65.52000269 65.52000269 65.52000269]\n",
      " [39.95999917 39.95999917 39.95999917 39.95999917 39.95999917]\n",
      " [26.28000062 26.28000062 26.28000062 26.28000062 26.28000062]\n",
      " [92.88000315 92.88000315 92.88000315 92.88000315 92.88000315]\n",
      " [65.52000269 65.52000269 65.52000269 65.52000269 65.52000269]\n",
      " [53.6399994  53.6399994  53.6399994  53.6399994  53.6399994 ]\n",
      " [39.95999917 39.95999917 39.95999917 39.95999917 39.95999917]\n",
      " [65.52000269 65.52000269 65.52000269 65.52000269 65.52000269]\n",
      " [27.36000046 27.36000046 27.36000046 27.36000046 27.36000046]\n",
      " [26.28000062 26.28000062 26.28000062 26.28000062 26.28000062]]\n"
     ]
    }
   ],
   "metadata": {}
  },
  {
   "cell_type": "code",
   "execution_count": 112,
   "source": [
    "driving_path_tt = a.get_registered_path_tt_driving(start_intervals)\n",
    "print(driving_path_tt)\n",
    "driving_path_cost = a.get_registered_path_cost_driving(start_intervals)\n",
    "print(driving_path_cost)"
   ],
   "outputs": [
    {
     "output_type": "stream",
     "name": "stdout",
     "text": [
      "[[293.21485786 293.21485786 293.21485786 293.21485786 293.21485786]\n",
      " [293.21485786 293.21485786 293.21485786 293.21485786 293.21485786]\n",
      " [349.78628643 349.78628643 349.78628643 349.78628643 349.78628643]]\n",
      "[[19.95362143 18.97862143 18.00362143 17.02862143 16.05362143]\n",
      " [19.95362143 18.97862143 18.00362143 17.02862143 16.05362143]\n",
      " [19.99290714 19.01790714 18.04290714 17.06790714 16.09290714]]\n"
     ]
    }
   ],
   "metadata": {}
  },
  {
   "cell_type": "code",
   "execution_count": 113,
   "source": [
    "bustransit_path_tt = a.get_registered_path_tt_bustransit(start_intervals)\n",
    "print(bustransit_path_tt)\n",
    "bustransit_path_cost = a.get_registered_path_cost_bustransit(start_intervals)\n",
    "print(bustransit_path_cost)"
   ],
   "outputs": [
    {
     "output_type": "stream",
     "name": "stdout",
     "text": [
      "[[402.62000127 402.62000127 402.62000127 402.62000127 402.62000127]\n",
      " [453.48000173 453.48000173 453.48000173 453.48000173 453.48000173]\n",
      " [477.96000709 477.96000709 477.96000709 477.96000709 477.96000709]]\n",
      "[[12.77959722 11.80459722 10.82959722  9.85459722  8.87959722]\n",
      " [15.56491667 14.58991667 13.61491667 12.63991667 11.66491667]\n",
      " [15.58191667 14.60691667 13.63191667 12.65691667 11.68191667]]\n"
     ]
    }
   ],
   "metadata": {}
  },
  {
   "cell_type": "code",
   "execution_count": 114,
   "source": [
    "pnr_path_tt = a.get_registered_path_tt_pnr(start_intervals)\n",
    "print(pnr_path_tt)\n",
    "pnr_path_cost = a.get_registered_path_cost_pnr(start_intervals)\n",
    "print(pnr_path_cost)"
   ],
   "outputs": [
    {
     "output_type": "stream",
     "name": "stdout",
     "text": [
      "[[350.35485727 350.35485727 350.35485727 350.35485727 350.35485727]\n",
      " [286.42342991 286.42342991 286.42342991 286.42342991 286.42342991]\n",
      " [293.7834287  293.7834287  293.7834287  293.7834287  293.7834287 ]]\n",
      "[[12.74330198 11.76830198 10.79330198  9.81830198  8.84330198]\n",
      " [12.69890516 11.72390516 10.74890516  9.77390516  8.79890516]\n",
      " [12.70401627 11.72901627 10.75401627  9.77901627  8.80401627]]\n"
     ]
    }
   ],
   "metadata": {}
  },
  {
   "cell_type": "code",
   "execution_count": 115,
   "source": [
    "start_intervals = assign_intervals\n",
    "end_intervals = assign_intervals + assign_freq\n",
    "assert(end_intervals[-1] < end_interval)"
   ],
   "outputs": [],
   "metadata": {}
  },
  {
   "cell_type": "code",
   "execution_count": 116,
   "source": [
    "car_link_inflow = a.get_link_car_inflow(start_intervals, end_intervals)\n",
    "print(car_link_inflow)"
   ],
   "outputs": [
    {
     "output_type": "stream",
     "name": "stdout",
     "text": [
      "[[0. 0. 0. 0. 0.]\n",
      " [0. 0. 0. 0. 0.]\n",
      " [0. 0. 0. 0. 0.]\n",
      " [0. 0. 0. 0. 0.]\n",
      " [0. 0. 0. 0. 0.]\n",
      " [0. 0. 0. 0. 0.]\n",
      " [0. 0. 0. 0. 0.]\n",
      " [0. 0. 0. 0. 0.]\n",
      " [0. 0. 0. 0. 0.]\n",
      " [0. 0. 0. 0. 0.]]\n"
     ]
    }
   ],
   "metadata": {}
  },
  {
   "cell_type": "code",
   "execution_count": 117,
   "source": [
    "truck_link_inflow = a.get_link_truck_inflow(start_intervals, end_intervals)\n",
    "print(truck_link_inflow)"
   ],
   "outputs": [
    {
     "output_type": "stream",
     "name": "stdout",
     "text": [
      "[[10.8  9.  15.   7.  12. ]\n",
      " [15.2 14.2 18.4 12.2 17. ]\n",
      " [ 4.6  3.8  5.6  3.8  4. ]\n",
      " [10.8 10.2 13.   8.8 12. ]\n",
      " [ 7.4  8.  10.6  7.6  8.8]\n",
      " [ 3.4  4.2  5.   3.8  4.6]\n",
      " [ 9.   9.2 14.4  7.6 12. ]\n",
      " [ 0.   0.   0.   0.   0. ]\n",
      " [ 9.   9.   9.   9.   9. ]\n",
      " [ 7.4  9.2  9.   9.   9. ]]\n"
     ]
    }
   ],
   "metadata": {}
  },
  {
   "cell_type": "code",
   "execution_count": 118,
   "source": [
    "bus_busstop_inflow = a.get_busstop_bus_inflow(start_intervals, end_intervals)\n",
    "print(bus_busstop_inflow)"
   ],
   "outputs": [
    {
     "output_type": "stream",
     "name": "stdout",
     "text": [
      "[[2.8 3.  3.  3.  3. ]\n",
      " [2.8 2.8 3.2 2.8 3.2]\n",
      " [2.6 3.  3.  3.  3. ]\n",
      " [3.  3.  3.  3.  3. ]\n",
      " [2.8 3.  3.  3.  3. ]\n",
      " [2.6 3.  3.  3.  3. ]\n",
      " [2.2 3.2 3.  3.  3. ]\n",
      " [2.8 3.2 3.  3.  3. ]\n",
      " [2.8 3.  3.  3.  3. ]\n",
      " [2.6 3.  3.  3.2 2.8]\n",
      " [2.6 3.  3.  3.  3. ]]\n"
     ]
    }
   ],
   "metadata": {}
  },
  {
   "cell_type": "code",
   "execution_count": 119,
   "source": [
    "passenger_link_inflow = a.get_link_passenger_inflow(start_intervals, end_intervals)\n",
    "print(passenger_link_inflow)"
   ],
   "outputs": [
    {
     "output_type": "stream",
     "name": "stdout",
     "text": [
      "[[0. 0. 0. 0. 0.]\n",
      " [0. 0. 0. 0. 0.]\n",
      " [0. 0. 0. 0. 0.]\n",
      " [0. 0. 0. 0. 0.]\n",
      " [0. 0. 0. 0. 0.]\n",
      " [0. 0. 0. 0. 0.]\n",
      " [0. 0. 0. 0. 0.]\n",
      " [0. 0. 0. 0. 0.]\n",
      " [0. 0. 0. 0. 0.]\n",
      " [0. 0. 0. 0. 0.]\n",
      " [0. 0. 0. 0. 0.]\n",
      " [0. 0. 0. 0. 0.]\n",
      " [0. 0. 0. 0. 0.]\n",
      " [0. 0. 0. 0. 0.]\n",
      " [0. 0. 0. 0. 0.]\n",
      " [0. 0. 0. 0. 0.]\n",
      " [0. 0. 0. 0. 0.]\n",
      " [0. 0. 0. 0. 0.]\n",
      " [0. 0. 0. 0. 0.]\n",
      " [0. 0. 0. 0. 0.]\n",
      " [0. 0. 0. 0. 0.]\n",
      " [0. 0. 0. 0. 0.]\n",
      " [0. 0. 0. 0. 0.]\n",
      " [0. 0. 0. 0. 0.]\n",
      " [0. 0. 0. 0. 0.]\n",
      " [0. 0. 0. 0. 0.]\n",
      " [0. 0. 0. 0. 0.]\n",
      " [0. 0. 0. 0. 0.]\n",
      " [0. 0. 0. 0. 0.]\n",
      " [0. 0. 0. 0. 0.]\n",
      " [0. 0. 0. 0. 0.]\n",
      " [0. 0. 0. 0. 0.]\n",
      " [0. 0. 0. 0. 0.]]\n"
     ]
    }
   ],
   "metadata": {}
  },
  {
   "cell_type": "code",
   "execution_count": 120,
   "source": [
    "def get_dar_df(dar_matrix):\n",
    "    assert(dar_matrix.shape[1] == 5)\n",
    "    print(\"path ID, departure assign interval (1 min), link ID, time interval (5 s), flow\")\n",
    "    dar_df = pd.DataFrame(\n",
    "                    data = dar_matrix, \n",
    "                    columns = [\"path_ID\", \"depart_assign_interval\", \"link_ID\", \"time_interval\", \"flow\"],\n",
    "                    dtype = np.float\n",
    "                )\n",
    "    dar_df[\"path_ID\"] = dar_df[\"path_ID\"].astype(np.int)\n",
    "    dar_df[\"depart_assign_interval\"] = dar_df[\"depart_assign_interval\"].astype(np.int)\n",
    "    dar_df[\"link_ID\"] = dar_df[\"link_ID\"].astype(np.int)\n",
    "    dar_df[\"time_interval\"] = dar_df[\"time_interval\"].astype(np.int)\n",
    "    dar_df[\"flow\"] = dar_df[\"flow\"].astype(np.float)\n",
    "    return dar_df"
   ],
   "outputs": [],
   "metadata": {}
  },
  {
   "cell_type": "code",
   "execution_count": 121,
   "source": [
    "car_dar_driving_matrix = a.get_car_dar_matrix_driving(start_intervals, end_intervals)\n",
    "car_dar_driving_df = get_dar_df(car_dar_driving_matrix)\n",
    "print(car_dar_driving_df)\n",
    "print(car_dar_driving_df.shape)"
   ],
   "outputs": [
    {
     "output_type": "error",
     "ename": "AttributeError",
     "evalue": "'MNMAPI.mmdta_api' object has no attribute 'get_car_dar_matrix_driving'",
     "traceback": [
      "\u001b[0;31m\u001b[0m",
      "\u001b[0;31mAttributeError\u001b[0mTraceback (most recent call last)",
      "\u001b[0;32m<ipython-input-121-077014e8f087>\u001b[0m in \u001b[0;36m<module>\u001b[0;34m()\u001b[0m\n\u001b[0;32m----> 1\u001b[0;31m \u001b[0mcar_dar_driving_matrix\u001b[0m \u001b[0;34m=\u001b[0m \u001b[0ma\u001b[0m\u001b[0;34m.\u001b[0m\u001b[0mget_car_dar_matrix_driving\u001b[0m\u001b[0;34m(\u001b[0m\u001b[0mstart_intervals\u001b[0m\u001b[0;34m,\u001b[0m \u001b[0mend_intervals\u001b[0m\u001b[0;34m)\u001b[0m\u001b[0;34m\u001b[0m\u001b[0m\n\u001b[0m\u001b[1;32m      2\u001b[0m \u001b[0mcar_dar_driving_df\u001b[0m \u001b[0;34m=\u001b[0m \u001b[0mget_dar_df\u001b[0m\u001b[0;34m(\u001b[0m\u001b[0mcar_dar_driving_matrix\u001b[0m\u001b[0;34m)\u001b[0m\u001b[0;34m\u001b[0m\u001b[0m\n\u001b[1;32m      3\u001b[0m \u001b[0;32mprint\u001b[0m\u001b[0;34m(\u001b[0m\u001b[0mcar_dar_driving_df\u001b[0m\u001b[0;34m)\u001b[0m\u001b[0;34m\u001b[0m\u001b[0m\n\u001b[1;32m      4\u001b[0m \u001b[0;32mprint\u001b[0m\u001b[0;34m(\u001b[0m\u001b[0mcar_dar_driving_df\u001b[0m\u001b[0;34m.\u001b[0m\u001b[0mshape\u001b[0m\u001b[0;34m)\u001b[0m\u001b[0;34m\u001b[0m\u001b[0m\n",
      "\u001b[0;31mAttributeError\u001b[0m: 'MNMAPI.mmdta_api' object has no attribute 'get_car_dar_matrix_driving'"
     ]
    }
   ],
   "metadata": {}
  },
  {
   "cell_type": "code",
   "execution_count": null,
   "source": [
    "truck_dar_driving_matrix = a.get_truck_dar_matrix_driving(start_intervals, end_intervals)\n",
    "truck_dar_driving_df = get_dar_df(truck_dar_driving_matrix)\n",
    "print(truck_dar_driving_df)\n",
    "print(truck_dar_driving_df.shape)\n",
    "print(len(nb.path_table_driving.ID2path) * len(link_driving_array) * end_interval)"
   ],
   "outputs": [],
   "metadata": {}
  },
  {
   "cell_type": "code",
   "execution_count": null,
   "source": [
    "car_dar_pnr_matrix = a.get_car_dar_matrix_pnr(start_intervals, end_intervals)\n",
    "car_dar_pnr_df = get_dar_df(car_dar_pnr_matrix)\n",
    "print(car_dar_pnr_df)\n",
    "print(car_dar_pnr_df.shape)"
   ],
   "outputs": [],
   "metadata": {}
  },
  {
   "cell_type": "code",
   "execution_count": null,
   "source": [
    "bus_dar_matrix = a.get_bus_dar_matrix(start_intervals, end_intervals)\n",
    "bus_dar_df = get_dar_df(bus_dar_matrix)\n",
    "print(bus_dar_df)\n",
    "print(bus_dar_df.shape)"
   ],
   "outputs": [],
   "metadata": {}
  },
  {
   "cell_type": "code",
   "execution_count": null,
   "source": [
    "passenger_dar_bustransit_matrix = a.get_passenger_dar_matrix_bustransit(start_intervals, end_intervals)\n",
    "passenger_dar_bustransit_df = get_dar_df(passenger_dar_bustransit_matrix)\n",
    "print(passenger_dar_bustransit_df)\n",
    "print(passenger_dar_bustransit_df.shape)"
   ],
   "outputs": [],
   "metadata": {}
  },
  {
   "cell_type": "code",
   "execution_count": null,
   "source": [
    "passenger_dar_pnr_matrix = a.get_passenger_dar_matrix_pnr(start_intervals, end_intervals)\n",
    "passenger_dar_pnr_df = get_dar_df(passenger_dar_pnr_matrix)\n",
    "print(passenger_dar_pnr_df)\n",
    "print(passenger_dar_pnr_df.shape)"
   ],
   "outputs": [],
   "metadata": {}
  }
 ],
 "metadata": {
  "orig_nbformat": 4,
  "language_info": {
   "mimetype": "text/x-python",
   "nbconvert_exporter": "python",
   "name": "python",
   "pygments_lexer": "ipython2",
   "version": "2.7.18",
   "file_extension": ".py",
   "codemirror_mode": {
    "version": 2,
    "name": "ipython"
   }
  },
  "kernelspec": {
   "name": "python3",
   "display_name": "Python 2.7.18 64-bit ('mac_posts': conda)"
  },
  "interpreter": {
   "hash": "2b5a2be2fabc70dcc46d6ab9fd0971448c0d451a6d368e6969d42856549ea446"
  }
 },
 "nbformat": 4,
 "nbformat_minor": 2
}