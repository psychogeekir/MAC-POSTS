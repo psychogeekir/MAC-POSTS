{
 "cells": [
  {
   "cell_type": "code",
   "execution_count": 10,
   "source": [
    "%load_ext autoreload\n",
    "%autoreload 2"
   ],
   "outputs": [
    {
     "output_type": "stream",
     "name": "stdout",
     "text": [
      "The autoreload extension is already loaded. To reload it, use:\n",
      "  %reload_ext autoreload\n"
     ]
    }
   ],
   "metadata": {}
  },
  {
   "cell_type": "code",
   "execution_count": 11,
   "source": [
    "import os\n",
    "import numpy as np\n",
    "import pandas as pd\n",
    "\n",
    "from MNM_mmnb import MNM_network_builder\n",
    "import MNMAPI"
   ],
   "outputs": [],
   "metadata": {}
  },
  {
   "cell_type": "code",
   "execution_count": 12,
   "source": [
    "data_folder = os.path.join('.', 'MNM_cache', 'input_files_7link_multimodal_dode_generated')\n",
    "# data_folder = os.path.join('..', '..', '1ba7911876e71e84e8676318706254d18327c62c')"
   ],
   "outputs": [],
   "metadata": {}
  },
  {
   "cell_type": "code",
   "execution_count": 13,
   "source": [
    "nb = MNM_network_builder()\n",
    "nb.load_from_folder(data_folder)\n",
    "nb.ID2path"
   ],
   "outputs": [
    {
     "output_type": "execute_result",
     "data": {
      "text/plain": [
       "OrderedDict([(0, ('driving', MNM_path, path ID 0, O node: 1, D node 6)),\n",
       "             (1, ('driving', MNM_path, path ID 1, O node: 1, D node 6)),\n",
       "             (2, ('driving', MNM_path, path ID 2, O node: 1, D node 6)),\n",
       "             (3,\n",
       "              ('bustransit',\n",
       "               MNM_path_bustransit, path ID 3, O node: 1, D node 6)),\n",
       "             (4,\n",
       "              ('bustransit',\n",
       "               MNM_path_bustransit, path ID 4, O node: 1, D node 6)),\n",
       "             (5,\n",
       "              ('bustransit',\n",
       "               MNM_path_bustransit, path ID 5, O node: 1, D node 6)),\n",
       "             (6, ('pnr', MNM_path_pnr, path ID 6, O node: 1, D node 6)),\n",
       "             (7, ('pnr', MNM_path_pnr, path ID 7, O node: 1, D node 6)),\n",
       "             (8, ('pnr', MNM_path_pnr, path ID 8, O node: 1, D node 6)),\n",
       "             (9,\n",
       "              ('bus',\n",
       "               MNM_bus_route, path ID 9, route ID 1, O node: 101, D node 106)),\n",
       "             (10,\n",
       "              ('bus',\n",
       "               MNM_bus_route, path ID 10, route ID 2, O node: 101, D node 106)),\n",
       "             (11,\n",
       "              ('bus',\n",
       "               MNM_bus_route, path ID 11, route ID 3, O node: 101, D node 106))])"
      ]
     },
     "metadata": {},
     "execution_count": 13
    }
   ],
   "metadata": {}
  },
  {
   "cell_type": "code",
   "execution_count": 14,
   "source": [
    "# test destructor\n",
    "def test_dta(data_folder):\n",
    "    a = MNMAPI.mmdta_api()\n",
    "    a.initialize(data_folder)\n",
    "    print(\"test_dta\")\n",
    "\n",
    "test_dta(data_folder)"
   ],
   "outputs": [
    {
     "output_type": "stream",
     "name": "stdout",
     "text": [
      "test_dta\n"
     ]
    }
   ],
   "metadata": {}
  },
  {
   "cell_type": "code",
   "execution_count": 15,
   "source": [
    "a = MNMAPI.mmdta_api()\n",
    "a.initialize(data_folder)\n",
    "a"
   ],
   "outputs": [
    {
     "output_type": "execute_result",
     "data": {
      "text/plain": [
       "<MNMAPI.mmdta_api at 0x7fe32c8699f0>"
      ]
     },
     "metadata": {},
     "execution_count": 15
    }
   ],
   "metadata": {}
  },
  {
   "cell_type": "code",
   "execution_count": 16,
   "source": [
    "# link_driving_array = np.array([e.ID for e in nb.link_driving_list], dtype=np.int)\n",
    "link_driving_array = np.array([4, 5])\n",
    "a.register_links_driving(link_driving_array)"
   ],
   "outputs": [
    {
     "output_type": "execute_result",
     "data": {
      "text/plain": [
       "0L"
      ]
     },
     "metadata": {},
     "execution_count": 16
    }
   ],
   "metadata": {}
  },
  {
   "cell_type": "code",
   "execution_count": 17,
   "source": [
    "# link_bus_array = np.array([e.ID for e in nb.link_bus_list], dtype=np.int)\n",
    "link_bus_array = np.array([205, 206])\n",
    "a.register_links_bus(link_bus_array)"
   ],
   "outputs": [
    {
     "output_type": "execute_result",
     "data": {
      "text/plain": [
       "0L"
      ]
     },
     "metadata": {},
     "execution_count": 17
    }
   ],
   "metadata": {}
  },
  {
   "cell_type": "code",
   "execution_count": 18,
   "source": [
    "# link_walking_array = np.array([e.ID for e in nb.link_walking_list], dtype=np.int)\n",
    "link_walking_array = np.array([16, 17, 20])\n",
    "a.register_links_walking(link_walking_array)"
   ],
   "outputs": [
    {
     "output_type": "execute_result",
     "data": {
      "text/plain": [
       "0L"
      ]
     },
     "metadata": {},
     "execution_count": 18
    }
   ],
   "metadata": {}
  },
  {
   "cell_type": "code",
   "execution_count": 19,
   "source": [
    "path_array = np.array(list(nb.ID2path.keys()), dtype=np.int)\n",
    "a.register_paths(path_array)"
   ],
   "outputs": [
    {
     "output_type": "execute_result",
     "data": {
      "text/plain": [
       "0L"
      ]
     },
     "metadata": {},
     "execution_count": 19
    }
   ],
   "metadata": {}
  },
  {
   "cell_type": "code",
   "execution_count": 20,
   "source": [
    "a.install_cc()"
   ],
   "outputs": [
    {
     "output_type": "execute_result",
     "data": {
      "text/plain": [
       "0L"
      ]
     },
     "metadata": {},
     "execution_count": 20
    }
   ],
   "metadata": {}
  },
  {
   "cell_type": "code",
   "execution_count": 21,
   "source": [
    "a.install_cc_tree()"
   ],
   "outputs": [
    {
     "output_type": "execute_result",
     "data": {
      "text/plain": [
       "0L"
      ]
     },
     "metadata": {},
     "execution_count": 21
    }
   ],
   "metadata": {}
  },
  {
   "cell_type": "code",
   "execution_count": 22,
   "source": [
    "a.run_whole()"
   ],
   "outputs": [
    {
     "output_type": "execute_result",
     "data": {
      "text/plain": [
       "0L"
      ]
     },
     "metadata": {},
     "execution_count": 22
    }
   ],
   "metadata": {}
  },
  {
   "cell_type": "code",
   "execution_count": 23,
   "source": [
    "assign_freq = nb.config.config_dict['DTA']['assign_frq']\n",
    "assign_intervals = np.arange(nb.config.config_dict['FIXED']['buffer_length']//2) * assign_freq\n",
    "print(\"assign_intervals: \")\n",
    "print(assign_intervals)\n",
    "end_interval = a.get_cur_loading_interval()\n",
    "print(\"end interval: {}\\n\".format(end_interval))\n",
    "assert(assign_intervals[-1] < end_interval)"
   ],
   "outputs": [
    {
     "output_type": "stream",
     "name": "stdout",
     "text": [
      "assign_intervals: \n",
      "[  0 180 360 540 720]\n",
      "end interval: 970\n",
      "\n"
     ]
    }
   ],
   "metadata": {}
  },
  {
   "cell_type": "code",
   "execution_count": 24,
   "source": [
    "travel_stats = a.get_travel_stats()\n",
    "print(\"\\n************ travel stats ************\\n\")\n",
    "print(\"car count: {}\\n\".format(travel_stats[0]))\n",
    "print(\"truck count: {}\\n\".format(travel_stats[1]))\n",
    "print(\"bus count: {}\\n\".format(travel_stats[2]))\n",
    "print(\"passenger count: {}\\n\".format(travel_stats[3]))\n",
    "print(\"car total travel time (hours): {}\\n\".format(travel_stats[4]))\n",
    "print(\"truck total travel time (hours): {}\\n\".format(travel_stats[5]))\n",
    "print(\"bus total travel time (hours): {}\\n\".format(travel_stats[6]))\n",
    "print(\"passenger total travel time (hours): {}\\n\".format(travel_stats[7]))\n",
    "print(\"\\n************ travel stats ************\\n\")"
   ],
   "outputs": [
    {
     "output_type": "stream",
     "name": "stdout",
     "text": [
      "\n",
      "************ travel stats ************\n",
      "\n",
      "car count: 0.0\n",
      "\n",
      "truck count: 52.8\n",
      "\n",
      "bus count: 45.0\n",
      "\n",
      "passenger count: 0.0\n",
      "\n",
      "car total travel time (hours): 0.0\n",
      "\n",
      "truck total travel time (hours): 2.45277777778\n",
      "\n",
      "bus total travel time (hours): 2.385\n",
      "\n",
      "passenger total travel time (hours): 0.0\n",
      "\n",
      "\n",
      "************ travel stats ************\n",
      "\n"
     ]
    }
   ],
   "metadata": {}
  },
  {
   "cell_type": "code",
   "execution_count": 25,
   "source": [
    "start_intervals = assign_intervals\n",
    "print(start_intervals)"
   ],
   "outputs": [
    {
     "output_type": "stream",
     "name": "stdout",
     "text": [
      "[  0 180 360 540 720]\n"
     ]
    }
   ],
   "metadata": {}
  },
  {
   "cell_type": "code",
   "execution_count": 26,
   "source": [
    "\n",
    "car_link_tt = a.get_car_link_tt(start_intervals)\n",
    "assert(car_link_tt.shape[0] == len(link_driving_array))\n",
    "print(car_link_tt)  # seconds"
   ],
   "outputs": [
    {
     "output_type": "stream",
     "name": "stdout",
     "text": [
      "[[56.57142857 56.57142857 56.57142857 56.57142857 56.57142857]\n",
      " [56.57142857 56.57142857 56.57142857 56.57142857 56.57142857]]\n"
     ]
    }
   ],
   "metadata": {}
  },
  {
   "cell_type": "code",
   "execution_count": 27,
   "source": [
    "truck_link_tt = a.get_truck_link_tt(start_intervals)\n",
    "assert(truck_link_tt.shape[0] == len(link_driving_array))\n",
    "print(truck_link_tt)  # seconds"
   ],
   "outputs": [
    {
     "output_type": "stream",
     "name": "stdout",
     "text": [
      "[[79.2 79.2 79.2 80.  79.2]\n",
      " [79.2 79.2 79.2 79.2 79.2]]\n"
     ]
    }
   ],
   "metadata": {}
  },
  {
   "cell_type": "code",
   "execution_count": 28,
   "source": [
    "bus_link_tt = a.get_bus_link_tt(start_intervals)\n",
    "assert(bus_link_tt.shape[0] == len(link_bus_array))\n",
    "print(bus_link_tt)  # seconds"
   ],
   "outputs": [
    {
     "output_type": "stream",
     "name": "stdout",
     "text": [
      "[[92.88000315 92.88000315 92.88000315 92.88000315 92.88000315]\n",
      " [65.52000269 65.52000269 65.52000269 65.52000269 65.52000269]]\n"
     ]
    }
   ],
   "metadata": {}
  },
  {
   "cell_type": "code",
   "execution_count": 29,
   "source": [
    "walking_link_tt = a.get_passenger_walking_link_tt(start_intervals)\n",
    "assert(walking_link_tt.shape[0] == len(link_walking_array))\n",
    "print(walking_link_tt)  # seconds"
   ],
   "outputs": [
    {
     "output_type": "stream",
     "name": "stdout",
     "text": [
      "[[2.  2.  2.  2.  2. ]\n",
      " [1.5 1.5 1.5 1.5 1.5]\n",
      " [2.  2.  2.  2.  2. ]]\n"
     ]
    }
   ],
   "metadata": {}
  },
  {
   "cell_type": "code",
   "execution_count": 57,
   "source": [
    "truck_path_tt = a.get_registered_path_tt_truck(start_intervals)\n",
    "print(truck_path_tt)  # seconds"
   ],
   "outputs": [
    {
     "output_type": "stream",
     "name": "stdout",
     "text": [
      "[[158.47200072 199.2        199.2        189.2        185.        ]\n",
      " [158.47200072 225.         225.         209.2        230.        ]\n",
      " [243.43600036 278.4        294.2        279.2        269.2       ]]\n"
     ]
    }
   ],
   "metadata": {}
  },
  {
   "cell_type": "code",
   "execution_count": 27,
   "source": [
    "driving_path_tt = a.get_registered_path_tt_driving(start_intervals)\n",
    "print(driving_path_tt)  # seconds\n",
    "driving_path_cost = a.get_registered_path_cost_driving(start_intervals)\n",
    "print(driving_path_cost)"
   ],
   "outputs": [
    {
     "output_type": "stream",
     "name": "stdout",
     "text": [
      "[[293.21485786 293.21485786 293.21485786 293.21485786 293.21485786]\n",
      " [293.21485786 293.21485786 293.21485786 293.21485786 293.21485786]\n",
      " [349.78628643 349.78628643 349.78628643 349.78628643 349.78628643]]\n",
      "[[19.95362143 18.97862143 18.00362143 17.02862143 16.05362143]\n",
      " [19.95362143 18.97862143 18.00362143 17.02862143 16.05362143]\n",
      " [19.99290714 19.01790714 18.04290714 17.06790714 16.09290714]]\n"
     ]
    }
   ],
   "metadata": {}
  },
  {
   "cell_type": "code",
   "execution_count": 28,
   "source": [
    "bustransit_path_tt = a.get_registered_path_tt_bustransit(start_intervals)\n",
    "print(bustransit_path_tt)  # seconds\n",
    "bustransit_path_cost = a.get_registered_path_cost_bustransit(start_intervals)\n",
    "print(bustransit_path_cost)"
   ],
   "outputs": [
    {
     "output_type": "stream",
     "name": "stdout",
     "text": [
      "[[402.62000127 402.62000127 402.62000127 402.62000127 402.62000127]\n",
      " [453.48000173 453.48000173 453.48000173 453.48000173 453.48000173]\n",
      " [477.96000709 477.96000709 477.96000709 477.96000709 477.96000709]]\n",
      "[[12.77959722 11.80459722 10.82959722  9.85459722  8.87959722]\n",
      " [15.56491667 14.58991667 13.61491667 12.63991667 11.66491667]\n",
      " [15.58191667 14.60691667 13.63191667 12.65691667 11.68191667]]\n"
     ]
    }
   ],
   "metadata": {}
  },
  {
   "cell_type": "code",
   "execution_count": 29,
   "source": [
    "pnr_path_tt = a.get_registered_path_tt_pnr(start_intervals)\n",
    "print(pnr_path_tt)  # seconds\n",
    "pnr_path_cost = a.get_registered_path_cost_pnr(start_intervals)\n",
    "print(pnr_path_cost)"
   ],
   "outputs": [
    {
     "output_type": "stream",
     "name": "stdout",
     "text": [
      "[[350.35485727 350.35485727 350.35485727 350.35485727 350.35485727]\n",
      " [286.42342991 286.42342991 286.42342991 286.42342991 286.42342991]\n",
      " [293.7834287  293.7834287  293.7834287  293.7834287  293.7834287 ]]\n",
      "[[12.74330198 11.76830198 10.79330198  9.81830198  8.84330198]\n",
      " [12.69890516 11.72390516 10.74890516  9.77390516  8.79890516]\n",
      " [12.70401627 11.72901627 10.75401627  9.77901627  8.80401627]]\n"
     ]
    }
   ],
   "metadata": {}
  },
  {
   "cell_type": "code",
   "execution_count": 30,
   "source": [
    "start_intervals = assign_intervals\n",
    "end_intervals = assign_intervals + assign_freq\n",
    "assert(end_intervals[-1] < end_interval)"
   ],
   "outputs": [],
   "metadata": {}
  },
  {
   "cell_type": "code",
   "execution_count": 31,
   "source": [
    "car_link_inflow = a.get_link_car_inflow(start_intervals, end_intervals)\n",
    "print(car_link_inflow)\n",
    "assert(car_link_inflow.shape[0] == len(link_driving_array))"
   ],
   "outputs": [
    {
     "output_type": "stream",
     "name": "stdout",
     "text": [
      "[[0. 0. 0. 0. 0.]\n",
      " [0. 0. 0. 0. 0.]\n",
      " [0. 0. 0. 0. 0.]\n",
      " [0. 0. 0. 0. 0.]\n",
      " [0. 0. 0. 0. 0.]\n",
      " [0. 0. 0. 0. 0.]\n",
      " [0. 0. 0. 0. 0.]\n",
      " [0. 0. 0. 0. 0.]\n",
      " [0. 0. 0. 0. 0.]\n",
      " [0. 0. 0. 0. 0.]]\n"
     ]
    }
   ],
   "metadata": {}
  },
  {
   "cell_type": "code",
   "execution_count": 32,
   "source": [
    "truck_link_inflow = a.get_link_truck_inflow(start_intervals, end_intervals)\n",
    "print(truck_link_inflow)\n",
    "assert(truck_link_inflow.shape[0] == len(link_driving_array))"
   ],
   "outputs": [
    {
     "output_type": "stream",
     "name": "stdout",
     "text": [
      "[[ 9.2  9.  15.   7.  12. ]\n",
      " [13.6 14.2 17.6 12.2 15.4]\n",
      " [ 4.6  3.8  6.4  3.8  5.6]\n",
      " [ 8.6  9.2 12.   8.6 10.2]\n",
      " [ 8.2  8.8 11.2  8.2 10.4]\n",
      " [ 4.2  5.   5.2  4.   5. ]\n",
      " [ 7.8  9.  14.2  8.2 11.2]\n",
      " [ 0.   0.   0.   0.   0. ]\n",
      " [ 9.   9.   9.   9.   9. ]\n",
      " [ 7.6  8.8  9.2  9.   8.8]]\n"
     ]
    }
   ],
   "metadata": {}
  },
  {
   "cell_type": "code",
   "execution_count": 33,
   "source": [
    "bus_link_inflow = a.get_link_bus_inflow(start_intervals, end_intervals)\n",
    "print(bus_link_inflow)\n",
    "assert(bus_link_inflow.shape[0] == len(link_bus_array))"
   ],
   "outputs": [
    {
     "output_type": "stream",
     "name": "stdout",
     "text": [
      "[[3.  3.  3.  3.  3. ]\n",
      " [2.8 3.  3.  3.  3. ]\n",
      " [2.6 3.2 2.8 3.  3. ]\n",
      " [3.  3.  3.  3.  3. ]\n",
      " [3.  3.  3.  3.  2.8]\n",
      " [2.6 3.2 2.8 3.2 2.8]\n",
      " [2.4 3.2 2.8 3.2 2.8]\n",
      " [3.  3.  3.  3.  3. ]\n",
      " [2.8 3.2 3.  3.  3. ]\n",
      " [2.6 3.  3.2 3.  3. ]\n",
      " [2.6 3.  3.  3.2 2.8]]\n"
     ]
    }
   ],
   "metadata": {}
  },
  {
   "cell_type": "code",
   "execution_count": 34,
   "source": [
    "bus_busstop_inflow = a.get_busstop_bus_inflow(start_intervals, end_intervals)\n",
    "print(bus_busstop_inflow)\n",
    "assert(bus_busstop_inflow.shape[0] == len(link_bus_array))"
   ],
   "outputs": [
    {
     "output_type": "stream",
     "name": "stdout",
     "text": [
      "[[3.  2.8 3.  3.2 2.8]\n",
      " [2.8 3.  2.8 3.2 2.8]\n",
      " [2.6 3.  3.  3.  3. ]\n",
      " [3.  3.  3.  3.  3. ]\n",
      " [2.8 3.  3.  3.  2.8]\n",
      " [2.6 3.  2.8 3.2 2.8]\n",
      " [2.4 2.8 3.2 3.  2.8]\n",
      " [3.  3.  3.  3.  3. ]\n",
      " [2.6 3.  3.2 3.  3. ]\n",
      " [2.6 3.  3.  3.2 2.8]\n",
      " [2.6 3.  3.  3.  3. ]]\n"
     ]
    }
   ],
   "metadata": {}
  },
  {
   "cell_type": "code",
   "execution_count": 35,
   "source": [
    "bus_passenger_link_inflow = a.get_link_bus_passenger_inflow(start_intervals, end_intervals)\n",
    "print(bus_passenger_link_inflow)\n",
    "assert(bus_passenger_link_inflow.shape[0] == len(link_bus_array))"
   ],
   "outputs": [
    {
     "output_type": "stream",
     "name": "stdout",
     "text": [
      "[[0. 0. 0. 0. 0.]\n",
      " [0. 0. 0. 0. 0.]\n",
      " [0. 0. 0. 0. 0.]\n",
      " [0. 0. 0. 0. 0.]\n",
      " [0. 0. 0. 0. 0.]\n",
      " [0. 0. 0. 0. 0.]\n",
      " [0. 0. 0. 0. 0.]\n",
      " [0. 0. 0. 0. 0.]\n",
      " [0. 0. 0. 0. 0.]\n",
      " [0. 0. 0. 0. 0.]\n",
      " [0. 0. 0. 0. 0.]]\n"
     ]
    }
   ],
   "metadata": {}
  },
  {
   "cell_type": "code",
   "execution_count": 36,
   "source": [
    "walking_passenger_link_inflow = a.get_link_walking_passenger_inflow(start_intervals, end_intervals)\n",
    "print(walking_passenger_link_inflow)\n",
    "assert(walking_passenger_link_inflow.shape[0] == len(link_walking_array))"
   ],
   "outputs": [
    {
     "output_type": "stream",
     "name": "stdout",
     "text": [
      "[[0. 0. 0. 0. 0.]\n",
      " [0. 0. 0. 0. 0.]\n",
      " [0. 0. 0. 0. 0.]\n",
      " [0. 0. 0. 0. 0.]\n",
      " [0. 0. 0. 0. 0.]\n",
      " [0. 0. 0. 0. 0.]\n",
      " [0. 0. 0. 0. 0.]\n",
      " [0. 0. 0. 0. 0.]\n",
      " [0. 0. 0. 0. 0.]\n",
      " [0. 0. 0. 0. 0.]\n",
      " [0. 0. 0. 0. 0.]\n",
      " [0. 0. 0. 0. 0.]\n",
      " [0. 0. 0. 0. 0.]\n",
      " [0. 0. 0. 0. 0.]\n",
      " [0. 0. 0. 0. 0.]\n",
      " [0. 0. 0. 0. 0.]\n",
      " [0. 0. 0. 0. 0.]\n",
      " [0. 0. 0. 0. 0.]\n",
      " [0. 0. 0. 0. 0.]\n",
      " [0. 0. 0. 0. 0.]\n",
      " [0. 0. 0. 0. 0.]\n",
      " [0. 0. 0. 0. 0.]\n",
      " [0. 0. 0. 0. 0.]\n",
      " [0. 0. 0. 0. 0.]\n",
      " [0. 0. 0. 0. 0.]\n",
      " [0. 0. 0. 0. 0.]\n",
      " [0. 0. 0. 0. 0.]\n",
      " [0. 0. 0. 0. 0.]\n",
      " [0. 0. 0. 0. 0.]\n",
      " [0. 0. 0. 0. 0.]\n",
      " [0. 0. 0. 0. 0.]\n",
      " [0. 0. 0. 0. 0.]\n",
      " [0. 0. 0. 0. 0.]]\n"
     ]
    }
   ],
   "metadata": {}
  },
  {
   "cell_type": "code",
   "execution_count": 37,
   "source": [
    "def get_dar_df(dar_matrix):\n",
    "    assert(dar_matrix.shape[1] == 5)\n",
    "    print(\"path ID, departure assign interval (1 min), link ID, time interval (5 s), flow\")\n",
    "    dar_df = pd.DataFrame(\n",
    "                    data = dar_matrix, \n",
    "                    columns = [\"path_ID\", \"depart_assign_interval\", \"link_ID\", \"time_interval\", \"flow\"],\n",
    "                    dtype = np.float\n",
    "                )\n",
    "    dar_df[\"path_ID\"] = dar_df[\"path_ID\"].astype(np.int)\n",
    "    dar_df[\"depart_assign_interval\"] = dar_df[\"depart_assign_interval\"].astype(np.int)\n",
    "    dar_df[\"link_ID\"] = dar_df[\"link_ID\"].astype(np.int)\n",
    "    dar_df[\"time_interval\"] = dar_df[\"time_interval\"].astype(np.int)\n",
    "    dar_df[\"flow\"] = dar_df[\"flow\"].astype(np.float)\n",
    "    return dar_df"
   ],
   "outputs": [],
   "metadata": {}
  },
  {
   "cell_type": "code",
   "execution_count": 38,
   "source": [
    "car_dar_driving_matrix = a.get_car_dar_matrix_driving(start_intervals, end_intervals)\n",
    "car_dar_driving_df = get_dar_df(car_dar_driving_matrix)\n",
    "print(car_dar_driving_df)\n",
    "print(car_dar_driving_df.shape)"
   ],
   "outputs": [
    {
     "output_type": "stream",
     "name": "stdout",
     "text": [
      "path ID, departure assign interval (1 min), link ID, time interval (5 s), flow\n",
      "Empty DataFrame\n",
      "Columns: [path_ID, depart_assign_interval, link_ID, time_interval, flow]\n",
      "Index: []\n",
      "(0, 5)\n"
     ]
    }
   ],
   "metadata": {}
  },
  {
   "cell_type": "code",
   "execution_count": 39,
   "source": [
    "truck_dar_driving_matrix = a.get_truck_dar_matrix_driving(start_intervals, end_intervals)\n",
    "truck_dar_driving_df = get_dar_df(truck_dar_driving_matrix)\n",
    "print(truck_dar_driving_df)\n",
    "print(truck_dar_driving_df.shape)\n",
    "print(len(nb.path_table_driving.ID2path) * len(link_driving_array) * end_interval)"
   ],
   "outputs": [
    {
     "output_type": "stream",
     "name": "stdout",
     "text": [
      "path ID, departure assign interval (1 min), link ID, time interval (5 s), flow\n",
      "     path_ID  depart_assign_interval  link_ID  time_interval  flow\n",
      "0          0                      12        2              0   0.2\n",
      "1          0                      10        2              0   0.2\n",
      "2          0                       4        2              0   0.2\n",
      "3          0                      13        2              0   0.2\n",
      "4          0                       2        2              0   0.2\n",
      "5          0                       7        2              0   0.2\n",
      "6          0                       6        2              0   0.2\n",
      "7          0                       8        2              0   0.2\n",
      "8          1                      14        2              0   0.2\n",
      "9          1                      11        2              0   0.2\n",
      "10         1                      10        2              0   0.2\n",
      "11         1                       8        2              0   0.2\n",
      "12         1                      13        2              0   0.2\n",
      "13         1                       2        2              0   0.2\n",
      "14         1                       7        2              0   0.2\n",
      "15         1                       1        2              0   0.2\n",
      "16         1                       6        2              0   0.2\n",
      "17         1                       5        2              0   0.2\n",
      "18         2                      14        2              0   0.2\n",
      "19         2                      13        2              0   0.2\n",
      "20         2                      12        2              0   0.2\n",
      "21         2                      11        2              0   0.4\n",
      "22         2                       4        2              0   0.2\n",
      "23         2                       3        2              0   0.4\n",
      "24         2                       2        2              0   0.2\n",
      "25         2                       0        2              0   0.4\n",
      "26         2                       1        2              0   0.4\n",
      "27         2                       5        2              0   0.2\n",
      "28         2                       6        2              0   0.4\n",
      "29         2                       7        2              0   0.2\n",
      "..       ...                     ...      ...            ...   ...\n",
      "554        2                      67        7            720   0.2\n",
      "555        2                      66        7            720   0.2\n",
      "556        2                      64        7            720   0.6\n",
      "557        2                      63        7            720   0.4\n",
      "558        2                      62        7            720   0.6\n",
      "559        2                      60        7            720   0.6\n",
      "560        2                      59        7            720   0.4\n",
      "561        2                      57        7            720   0.2\n",
      "562        2                      58        7            720   0.4\n",
      "563        0                      70        7            720   0.4\n",
      "564        0                      69        7            720   0.2\n",
      "565        0                      63        7            720   0.2\n",
      "566        0                      61        7            720   0.4\n",
      "567        0                      72        7            720   0.4\n",
      "568        0                      65        7            720   0.4\n",
      "569        0                      66        7            720   0.2\n",
      "570        0                      68        7            720   0.6\n",
      "571        0                      71        7            720   0.2\n",
      "572        1                      72        7            720   0.2\n",
      "573        1                      71        7            720   0.4\n",
      "574        1                      70        7            720   0.2\n",
      "575        1                      69        7            720   0.4\n",
      "576        1                      67        7            720   0.6\n",
      "577        1                      66        7            720   0.4\n",
      "578        1                      65        7            720   0.4\n",
      "579        1                      64        7            720   0.2\n",
      "580        1                      63        7            720   0.2\n",
      "581        1                      62        7            720   0.2\n",
      "582        1                      61        7            720   0.4\n",
      "583        1                      60        7            720   0.2\n",
      "\n",
      "[584 rows x 5 columns]\n",
      "(584, 5)\n",
      "29100\n"
     ]
    }
   ],
   "metadata": {}
  },
  {
   "cell_type": "code",
   "execution_count": 40,
   "source": [
    "car_dar_pnr_matrix = a.get_car_dar_matrix_pnr(start_intervals, end_intervals)\n",
    "car_dar_pnr_df = get_dar_df(car_dar_pnr_matrix)\n",
    "print(car_dar_pnr_df)\n",
    "print(car_dar_pnr_df.shape)"
   ],
   "outputs": [
    {
     "output_type": "stream",
     "name": "stdout",
     "text": [
      "path ID, departure assign interval (1 min), link ID, time interval (5 s), flow\n",
      "Empty DataFrame\n",
      "Columns: [path_ID, depart_assign_interval, link_ID, time_interval, flow]\n",
      "Index: []\n",
      "(0, 5)\n"
     ]
    }
   ],
   "metadata": {}
  },
  {
   "cell_type": "code",
   "execution_count": 41,
   "source": [
    "bus_dar_matrix = a.get_bus_dar_matrix(start_intervals, end_intervals)\n",
    "bus_dar_df = get_dar_df(bus_dar_matrix)\n",
    "print(bus_dar_df)\n",
    "print(bus_dar_df.shape)"
   ],
   "outputs": [
    {
     "output_type": "stream",
     "name": "stdout",
     "text": [
      "path ID, departure assign interval (1 min), link ID, time interval (5 s), flow\n",
      "     path_ID  depart_assign_interval  link_ID  time_interval  flow\n",
      "0         10                      14      201              0   0.2\n",
      "1         10                      13      201              0   0.2\n",
      "2         10                      12      201              0   0.2\n",
      "3         10                      11      201              0   0.2\n",
      "4         10                       4      201              0   0.2\n",
      "5         10                       3      201              0   0.2\n",
      "6         10                       2      201              0   0.2\n",
      "7         10                       0      201              0   0.2\n",
      "8         10                       1      201              0   0.2\n",
      "9         10                       5      201              0   0.2\n",
      "10        10                       6      201              0   0.2\n",
      "11        10                       7      201              0   0.2\n",
      "12        10                       8      201              0   0.2\n",
      "13        10                       9      201              0   0.2\n",
      "14        10                      10      201              0   0.2\n",
      "15        10                      13      202              0   0.2\n",
      "16        10                      12      202              0   0.2\n",
      "17        10                      11      202              0   0.2\n",
      "18        10                       4      202              0   0.2\n",
      "19        10                       3      202              0   0.2\n",
      "20        10                       2      202              0   0.2\n",
      "21        10                       0      202              0   0.2\n",
      "22        10                       1      202              0   0.2\n",
      "23        10                       5      202              0   0.2\n",
      "24        10                       6      202              0   0.2\n",
      "25        10                       7      202              0   0.2\n",
      "26        10                       8      202              0   0.2\n",
      "27        10                       9      202              0   0.2\n",
      "28        10                      10      202              0   0.2\n",
      "29        10                      12      203              0   0.2\n",
      "..       ...                     ...      ...            ...   ...\n",
      "783        9                      60      209            720   0.2\n",
      "784        9                      73      210            720   0.2\n",
      "785        9                      72      210            720   0.2\n",
      "786        9                      71      210            720   0.2\n",
      "787        9                      70      210            720   0.2\n",
      "788        9                      69      210            720   0.2\n",
      "789        9                      68      210            720   0.2\n",
      "790        9                      67      210            720   0.2\n",
      "791        9                      66      210            720   0.2\n",
      "792        9                      65      210            720   0.2\n",
      "793        9                      64      210            720   0.2\n",
      "794        9                      63      210            720   0.2\n",
      "795        9                      62      210            720   0.2\n",
      "796        9                      61      210            720   0.2\n",
      "797        9                      60      210            720   0.2\n",
      "798        9                      59      210            720   0.2\n",
      "799        9                      72      211            720   0.2\n",
      "800        9                      71      211            720   0.2\n",
      "801        9                      70      211            720   0.2\n",
      "802        9                      69      211            720   0.2\n",
      "803        9                      68      211            720   0.2\n",
      "804        9                      67      211            720   0.2\n",
      "805        9                      66      211            720   0.2\n",
      "806        9                      65      211            720   0.2\n",
      "807        9                      64      211            720   0.2\n",
      "808        9                      63      211            720   0.2\n",
      "809        9                      62      211            720   0.2\n",
      "810        9                      61      211            720   0.2\n",
      "811        9                      60      211            720   0.2\n",
      "812        9                      59      211            720   0.2\n",
      "\n",
      "[813 rows x 5 columns]\n",
      "(813, 5)\n"
     ]
    }
   ],
   "metadata": {}
  },
  {
   "cell_type": "code",
   "execution_count": 42,
   "source": [
    "passenger_dar_bustransit_matrix = a.get_passenger_dar_matrix_bustransit(start_intervals, end_intervals)\n",
    "passenger_dar_bustransit_df = get_dar_df(passenger_dar_bustransit_matrix)\n",
    "print(passenger_dar_bustransit_df)\n",
    "print(passenger_dar_bustransit_df.shape)"
   ],
   "outputs": [
    {
     "output_type": "stream",
     "name": "stdout",
     "text": [
      "path ID, departure assign interval (1 min), link ID, time interval (5 s), flow\n",
      "Empty DataFrame\n",
      "Columns: [path_ID, depart_assign_interval, link_ID, time_interval, flow]\n",
      "Index: []\n",
      "(0, 5)\n"
     ]
    }
   ],
   "metadata": {}
  },
  {
   "cell_type": "code",
   "execution_count": 43,
   "source": [
    "passenger_dar_pnr_matrix = a.get_passenger_dar_matrix_pnr(start_intervals, end_intervals)\n",
    "passenger_dar_pnr_df = get_dar_df(passenger_dar_pnr_matrix)\n",
    "print(passenger_dar_pnr_df)\n",
    "print(passenger_dar_pnr_df.shape)"
   ],
   "outputs": [
    {
     "output_type": "stream",
     "name": "stdout",
     "text": [
      "path ID, departure assign interval (1 min), link ID, time interval (5 s), flow\n",
      "Empty DataFrame\n",
      "Columns: [path_ID, depart_assign_interval, link_ID, time_interval, flow]\n",
      "Index: []\n",
      "(0, 5)\n"
     ]
    }
   ],
   "metadata": {}
  }
 ],
 "metadata": {
  "orig_nbformat": 4,
  "language_info": {
   "mimetype": "text/x-python",
   "nbconvert_exporter": "python",
   "name": "python",
   "pygments_lexer": "ipython2",
   "version": "2.7.18",
   "file_extension": ".py",
   "codemirror_mode": {
    "version": 2,
    "name": "ipython"
   }
  },
  "kernelspec": {
   "name": "python3",
   "display_name": "Python 2.7.18 64-bit ('mac_posts': conda)"
  },
  "interpreter": {
   "hash": "2b5a2be2fabc70dcc46d6ab9fd0971448c0d451a6d368e6969d42856549ea446"
  }
 },
 "nbformat": 4,
 "nbformat_minor": 2
}