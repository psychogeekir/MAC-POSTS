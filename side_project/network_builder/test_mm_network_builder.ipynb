{
 "cells": [
  {
   "cell_type": "code",
   "execution_count": 256,
   "source": [
    "%load_ext autoreload\n",
    "%autoreload 2"
   ],
   "outputs": [
    {
     "output_type": "stream",
     "name": "stdout",
     "text": [
      "The autoreload extension is already loaded. To reload it, use:\n",
      "  %reload_ext autoreload\n"
     ]
    }
   ],
   "metadata": {}
  },
  {
   "cell_type": "code",
   "execution_count": 257,
   "source": [
    "import os\n",
    "import matplotlib.pyplot as plt\n",
    "import networkx as nx\n",
    "\n",
    "from MNM_mmnb import MNM_network_builder"
   ],
   "outputs": [],
   "metadata": {}
  },
  {
   "cell_type": "code",
   "execution_count": 258,
   "source": [
    "data_folder = os.path.join('..', '..', 'data', 'input_files_7link_multimodal_dode')\n",
    "new_folder = os.path.join('.', 'MNM_cache', 'input_files_7link_multimodal_dode_generated')\n"
   ],
   "outputs": [],
   "metadata": {}
  },
  {
   "cell_type": "code",
   "execution_count": 259,
   "source": [
    "nb = MNM_network_builder()\n",
    "nb.load_from_folder(data_folder)"
   ],
   "outputs": [],
   "metadata": {}
  },
  {
   "cell_type": "code",
   "execution_count": 260,
   "source": [
    "nb.config"
   ],
   "outputs": [
    {
     "output_type": "execute_result",
     "data": {
      "text/plain": [
       "[DTA]\n",
       "unit_time = 5\n",
       "total_interval = 970\n",
       "assign_frq = 180\n",
       "start_assign_interval = 0\n",
       "max_interval = 5\n",
       "flow_scalar = 5\n",
       "network_name = driving_graph\n",
       "num_of_link = 10\n",
       "num_of_node = 9\n",
       "num_of_O = 2\n",
       "num_of_D = 3\n",
       "OD_pair_passenger = 1\n",
       "OD_pair_driving = 1\n",
       "num_bus_routes = 3\n",
       "num_of_bus_stop_physical = 9\n",
       "num_of_bus_stop_virtual = 14\n",
       "num_of_bus_link = 11\n",
       "num_of_walking_link = 33\n",
       "num_of_parking_lot = 2\n",
       "OD_pair_pnr = 1\n",
       "OD_pair_bustransit = 1\n",
       "adaptive_ratio_passenger = 0.6\n",
       "adaptive_ratio_car = 0.6\n",
       "adaptive_ratio_truck = 0.6\n",
       "routing_type = Multimodal_Hybrid\n",
       "bus_capacity = 30\n",
       "boarding_lost_time = 5.0\n",
       "fixed_dwell_time = 5.0\n",
       "boarding_time_per_passenger = 2.0\n",
       "alighting_time_per_passenger = 1.5\n",
       "\n",
       "[STAT]\n",
       "rec_mode = LRn\n",
       "rec_mode_para = 12\n",
       "rec_folder = record\n",
       "rec_volume = 1\n",
       "volume_load_automatic_rec = 1\n",
       "volume_record_automatic_rec = 0\n",
       "rec_tt = 1\n",
       "tt_load_automatic_rec = 1\n",
       "tt_record_automatic_rec = 1\n",
       "\n",
       "[ADAPTIVE]\n",
       "route_frq = 5\n",
       "\n",
       "[FIXED]\n",
       "route_frq = 180\n",
       "buffer_length = 10\n",
       "choice_portion = Buffer\n",
       "driving_path_file_name = driving_path_table\n",
       "num_driving_path = 3\n",
       "bus_path_file_name = bus_path_table\n",
       "bus_route_file_name = bus_route\n",
       "num_bus_routes = 3\n",
       "pnr_path_file_name = pnr_path_table\n",
       "num_pnr_path = 3\n",
       "bustransit_path_file_name = bustransit_path_table\n",
       "num_bustransit_path = 3\n",
       "\n",
       "[MMDUE]\n",
       "driving = 1\n",
       "transit = 1\n",
       "pnr = 1\n",
       "alpha1_driving = 1.0\n",
       "alpha1_transit = 1.5\n",
       "alpha1_pnr = 2.0\n",
       "beta1 = 1.0\n",
       "max_iter = 50\n",
       "step_size = 0.1\n",
       "vot = 6.4\n",
       "early_penalty = 3.9\n",
       "late_penalty = 15.2\n",
       "target_time = 150\n",
       "carpool_cost_multiplier = 1.0\n",
       "pnr_inconvenience = 0.0\n",
       "bus_inconvenience = 0.0\n",
       "parking_lot_to_destination_walking_time = 60.0\n",
       "bus_fare = 2.75\n",
       "metro_fare = 3.75\n",
       "init_demand_split = 0"
      ]
     },
     "metadata": {},
     "execution_count": 260
    }
   ],
   "metadata": {}
  },
  {
   "cell_type": "code",
   "execution_count": 261,
   "source": [
    "nb.config.config_dict"
   ],
   "outputs": [
    {
     "output_type": "execute_result",
     "data": {
      "text/plain": [
       "OrderedDict([('DTA',\n",
       "              OrderedDict([('unit_time', 5),\n",
       "                           ('total_interval', 970),\n",
       "                           ('assign_frq', 180),\n",
       "                           ('start_assign_interval', 0),\n",
       "                           ('max_interval', 5),\n",
       "                           ('flow_scalar', 5),\n",
       "                           ('network_name', 'driving_graph'),\n",
       "                           ('num_of_link', 10),\n",
       "                           ('num_of_node', 9),\n",
       "                           ('num_of_O', 2),\n",
       "                           ('num_of_D', 3),\n",
       "                           ('OD_pair_passenger', 1),\n",
       "                           ('OD_pair_driving', 1),\n",
       "                           ('num_bus_routes', 3),\n",
       "                           ('num_of_bus_stop_physical', 9),\n",
       "                           ('num_of_bus_stop_virtual', 14),\n",
       "                           ('num_of_bus_link', 11),\n",
       "                           ('num_of_walking_link', 33),\n",
       "                           ('num_of_parking_lot', 2),\n",
       "                           ('OD_pair_pnr', 1),\n",
       "                           ('OD_pair_bustransit', 1),\n",
       "                           ('adaptive_ratio_passenger', 0.6),\n",
       "                           ('adaptive_ratio_car', 0.6),\n",
       "                           ('adaptive_ratio_truck', 0.6),\n",
       "                           ('routing_type', 'Multimodal_Hybrid'),\n",
       "                           ('bus_capacity', 30),\n",
       "                           ('boarding_lost_time', 5.0),\n",
       "                           ('fixed_dwell_time', 5.0),\n",
       "                           ('boarding_time_per_passenger', 2.0),\n",
       "                           ('alighting_time_per_passenger', 1.5)])),\n",
       "             ('STAT',\n",
       "              OrderedDict([('rec_mode', 'LRn'),\n",
       "                           ('rec_mode_para', '12'),\n",
       "                           ('rec_folder', 'record'),\n",
       "                           ('rec_volume', 1),\n",
       "                           ('volume_load_automatic_rec', 1),\n",
       "                           ('volume_record_automatic_rec', 0),\n",
       "                           ('rec_tt', 1),\n",
       "                           ('tt_load_automatic_rec', 1),\n",
       "                           ('tt_record_automatic_rec', 1)])),\n",
       "             ('ADAPTIVE', OrderedDict([('route_frq', 5)])),\n",
       "             ('FIXED',\n",
       "              OrderedDict([('route_frq', 180),\n",
       "                           ('buffer_length', 10),\n",
       "                           ('choice_portion', 'Buffer'),\n",
       "                           ('driving_path_file_name', 'driving_path_table'),\n",
       "                           ('num_driving_path', 3),\n",
       "                           ('bus_path_file_name', 'bus_path_table'),\n",
       "                           ('bus_route_file_name', 'bus_route'),\n",
       "                           ('num_bus_routes', 3),\n",
       "                           ('pnr_path_file_name', 'pnr_path_table'),\n",
       "                           ('num_pnr_path', 3),\n",
       "                           ('bustransit_path_file_name',\n",
       "                            'bustransit_path_table'),\n",
       "                           ('num_bustransit_path', 3)])),\n",
       "             ('MMDUE',\n",
       "              OrderedDict([('driving', 1),\n",
       "                           ('transit', 1),\n",
       "                           ('pnr', 1),\n",
       "                           ('alpha1_driving', 1.0),\n",
       "                           ('alpha1_transit', 1.5),\n",
       "                           ('alpha1_pnr', 2.0),\n",
       "                           ('beta1', 1.0),\n",
       "                           ('max_iter', 50),\n",
       "                           ('step_size', 0.1),\n",
       "                           ('vot', 6.4),\n",
       "                           ('early_penalty', 3.9),\n",
       "                           ('late_penalty', 15.2),\n",
       "                           ('target_time', 150),\n",
       "                           ('carpool_cost_multiplier', 1.0),\n",
       "                           ('pnr_inconvenience', 0.0),\n",
       "                           ('bus_inconvenience', 0.0),\n",
       "                           ('parking_lot_to_destination_walking_time', 60.0),\n",
       "                           ('bus_fare', 2.75),\n",
       "                           ('metro_fare', 3.75),\n",
       "                           ('init_demand_split', 0)]))])"
      ]
     },
     "metadata": {},
     "execution_count": 261
    }
   ],
   "metadata": {}
  },
  {
   "cell_type": "code",
   "execution_count": 262,
   "source": [
    "nb.link_driving_list"
   ],
   "outputs": [
    {
     "output_type": "execute_result",
     "data": {
      "text/plain": [
       "[MNM_dlink, ID: 1, type: PQ, length: 1.0 miles, ffs_car: 99999.0 mi/h, ffs_truck: 99999.0,\n",
       " MNM_dlink, ID: 2, type: CTM, length: 0.55 miles, ffs_car: 35.0 mi/h, ffs_truck: 25.0,\n",
       " MNM_dlink, ID: 3, type: CTM, length: 0.55 miles, ffs_car: 35.0 mi/h, ffs_truck: 25.0,\n",
       " MNM_dlink, ID: 4, type: CTM, length: 0.55 miles, ffs_car: 35.0 mi/h, ffs_truck: 25.0,\n",
       " MNM_dlink, ID: 5, type: CTM, length: 0.55 miles, ffs_car: 35.0 mi/h, ffs_truck: 25.0,\n",
       " MNM_dlink, ID: 6, type: CTM, length: 0.55 miles, ffs_car: 35.0 mi/h, ffs_truck: 25.0,\n",
       " MNM_dlink, ID: 7, type: PQ, length: 1.0 miles, ffs_car: 99999.0 mi/h, ffs_truck: 99999.0,\n",
       " MNM_dlink, ID: 8, type: PQ, length: 1.0 miles, ffs_car: 99999.0 mi/h, ffs_truck: 99999.0,\n",
       " MNM_dlink, ID: 101, type: PQ, length: 1.0 miles, ffs_car: 99999.0 mi/h, ffs_truck: 99999.0,\n",
       " MNM_dlink, ID: 106, type: PQ, length: 1.0 miles, ffs_car: 99999.0 mi/h, ffs_truck: 99999.0]"
      ]
     },
     "metadata": {},
     "execution_count": 262
    }
   ],
   "metadata": {}
  },
  {
   "cell_type": "code",
   "execution_count": 263,
   "source": [
    "nb.link_bus_list"
   ],
   "outputs": [
    {
     "output_type": "execute_result",
     "data": {
      "text/plain": [
       "[MNM_link_bus, ID: 201, from_busstop_ID: 31001, to_busstop_ID: 30201, length: 1.37 miles, fftt: 0.0149 hours, route_ID: 1, overlapped_dlink_ID_vec: 101 2,\n",
       " MNM_link_bus, ID: 202, from_busstop_ID: 30201, to_busstop_ID: 30301, length: 0.46 miles, fftt: 0.0182 hours, route_ID: 1, overlapped_dlink_ID_vec: 2 4,\n",
       " MNM_link_bus, ID: 203, from_busstop_ID: 30301, to_busstop_ID: 31101, length: 1.275 miles, fftt: 0.0111 hours, route_ID: 1, overlapped_dlink_ID_vec: 4 106,\n",
       " MNM_link_bus, ID: 204, from_busstop_ID: 31002, to_busstop_ID: 30101, length: 1.18 miles, fftt: 0.0073 hours, route_ID: 2, overlapped_dlink_ID_vec: 101 2,\n",
       " MNM_link_bus, ID: 205, from_busstop_ID: 30101, to_busstop_ID: 30401, length: 0.64 miles, fftt: 0.0258 hours, route_ID: 2, overlapped_dlink_ID_vec: 2 6,\n",
       " MNM_link_bus, ID: 206, from_busstop_ID: 30401, to_busstop_ID: 30601, length: 0.46 miles, fftt: 0.0182 hours, route_ID: 2, overlapped_dlink_ID_vec: 6 5,\n",
       " MNM_link_bus, ID: 207, from_busstop_ID: 30601, to_busstop_ID: 31102, length: 1.37 miles, fftt: 0.0149 hours, route_ID: 2, overlapped_dlink_ID_vec: 5 106,\n",
       " MNM_link_bus, ID: 208, from_busstop_ID: 31003, to_busstop_ID: 30501, length: 1.275 miles, fftt: 0.0111 hours, route_ID: 3, overlapped_dlink_ID_vec: 101 3,\n",
       " MNM_link_bus, ID: 209, from_busstop_ID: 30501, to_busstop_ID: 30602, length: 0.46 miles, fftt: 0.0182 hours, route_ID: 3, overlapped_dlink_ID_vec: 3 5,\n",
       " MNM_link_bus, ID: 210, from_busstop_ID: 30602, to_busstop_ID: 30701, length: 0.18 miles, fftt: 0.0076 hours, route_ID: 3, overlapped_dlink_ID_vec: 5,\n",
       " MNM_link_bus, ID: 211, from_busstop_ID: 30701, to_busstop_ID: 31103, length: 1.18 miles, fftt: 0.0073 hours, route_ID: 3, overlapped_dlink_ID_vec: 5 106]"
      ]
     },
     "metadata": {},
     "execution_count": 263
    }
   ],
   "metadata": {}
  },
  {
   "cell_type": "code",
   "execution_count": 264,
   "source": [
    "nb.link_walking_list"
   ],
   "outputs": [
    {
     "output_type": "execute_result",
     "data": {
      "text/plain": [
       "[MNM_link_walking, ID: 1, from_node_ID: 1, to_node_ID: 310, from_node_type: origin, to_node_type: bus_stop_physical, walking_type: normal, walking_time: 120.0 seconds,\n",
       " MNM_link_walking, ID: 2, from_node_ID: 7, to_node_ID: 306, from_node_type: parking_lot, to_node_type: bus_stop_physical, walking_type: normal, walking_time: 60.0 seconds,\n",
       " MNM_link_walking, ID: 3, from_node_ID: 306, to_node_ID: 307, from_node_type: bus_stop_physical, to_node_type: bus_stop_physical, walking_type: normal, walking_time: 20.0 seconds,\n",
       " MNM_link_walking, ID: 4, from_node_ID: 307, to_node_ID: 306, from_node_type: bus_stop_physical, to_node_type: bus_stop_physical, walking_type: normal, walking_time: 20.0 seconds,\n",
       " MNM_link_walking, ID: 5, from_node_ID: 311, to_node_ID: 6, from_node_type: bus_stop_physical, to_node_type: destination, walking_type: normal, walking_time: 120.0 seconds,\n",
       " MNM_link_walking, ID: 6, from_node_ID: 310, to_node_ID: 31001, from_node_type: bus_stop_physical, to_node_type: bus_stop_virtual, walking_type: boarding, walking_time: 2.0 seconds,\n",
       " MNM_link_walking, ID: 7, from_node_ID: 31001, to_node_ID: 310, from_node_type: bus_stop_virtual, to_node_type: bus_stop_physical, walking_type: alighting, walking_time: 1.5 seconds,\n",
       " MNM_link_walking, ID: 8, from_node_ID: 310, to_node_ID: 31002, from_node_type: bus_stop_physical, to_node_type: bus_stop_virtual, walking_type: boarding, walking_time: 2.0 seconds,\n",
       " MNM_link_walking, ID: 9, from_node_ID: 31002, to_node_ID: 310, from_node_type: bus_stop_virtual, to_node_type: bus_stop_physical, walking_type: alighting, walking_time: 1.5 seconds,\n",
       " MNM_link_walking, ID: 10, from_node_ID: 310, to_node_ID: 31003, from_node_type: bus_stop_physical, to_node_type: bus_stop_virtual, walking_type: boarding, walking_time: 2.0 seconds,\n",
       " MNM_link_walking, ID: 11, from_node_ID: 31003, to_node_ID: 310, from_node_type: bus_stop_virtual, to_node_type: bus_stop_physical, walking_type: alighting, walking_time: 1.5 seconds,\n",
       " MNM_link_walking, ID: 12, from_node_ID: 301, to_node_ID: 30101, from_node_type: bus_stop_physical, to_node_type: bus_stop_virtual, walking_type: boarding, walking_time: 2.0 seconds,\n",
       " MNM_link_walking, ID: 13, from_node_ID: 30101, to_node_ID: 301, from_node_type: bus_stop_virtual, to_node_type: bus_stop_physical, walking_type: alighting, walking_time: 1.5 seconds,\n",
       " MNM_link_walking, ID: 14, from_node_ID: 302, to_node_ID: 30201, from_node_type: bus_stop_physical, to_node_type: bus_stop_virtual, walking_type: boarding, walking_time: 2.0 seconds,\n",
       " MNM_link_walking, ID: 15, from_node_ID: 30201, to_node_ID: 302, from_node_type: bus_stop_virtual, to_node_type: bus_stop_physical, walking_type: alighting, walking_time: 1.5 seconds,\n",
       " MNM_link_walking, ID: 16, from_node_ID: 303, to_node_ID: 30301, from_node_type: bus_stop_physical, to_node_type: bus_stop_virtual, walking_type: boarding, walking_time: 2.0 seconds,\n",
       " MNM_link_walking, ID: 17, from_node_ID: 30301, to_node_ID: 303, from_node_type: bus_stop_virtual, to_node_type: bus_stop_physical, walking_type: alighting, walking_time: 1.5 seconds,\n",
       " MNM_link_walking, ID: 18, from_node_ID: 304, to_node_ID: 30401, from_node_type: bus_stop_physical, to_node_type: bus_stop_virtual, walking_type: boarding, walking_time: 2.0 seconds,\n",
       " MNM_link_walking, ID: 19, from_node_ID: 30401, to_node_ID: 304, from_node_type: bus_stop_virtual, to_node_type: bus_stop_physical, walking_type: alighting, walking_time: 1.5 seconds,\n",
       " MNM_link_walking, ID: 20, from_node_ID: 305, to_node_ID: 30501, from_node_type: bus_stop_physical, to_node_type: bus_stop_virtual, walking_type: boarding, walking_time: 2.0 seconds,\n",
       " MNM_link_walking, ID: 21, from_node_ID: 30501, to_node_ID: 305, from_node_type: bus_stop_virtual, to_node_type: bus_stop_physical, walking_type: alighting, walking_time: 1.5 seconds,\n",
       " MNM_link_walking, ID: 22, from_node_ID: 306, to_node_ID: 30601, from_node_type: bus_stop_physical, to_node_type: bus_stop_virtual, walking_type: boarding, walking_time: 2.0 seconds,\n",
       " MNM_link_walking, ID: 23, from_node_ID: 30601, to_node_ID: 306, from_node_type: bus_stop_virtual, to_node_type: bus_stop_physical, walking_type: alighting, walking_time: 1.5 seconds,\n",
       " MNM_link_walking, ID: 24, from_node_ID: 306, to_node_ID: 30602, from_node_type: bus_stop_physical, to_node_type: bus_stop_virtual, walking_type: boarding, walking_time: 2.0 seconds,\n",
       " MNM_link_walking, ID: 25, from_node_ID: 30602, to_node_ID: 306, from_node_type: bus_stop_virtual, to_node_type: bus_stop_physical, walking_type: alighting, walking_time: 1.5 seconds,\n",
       " MNM_link_walking, ID: 26, from_node_ID: 307, to_node_ID: 30701, from_node_type: bus_stop_physical, to_node_type: bus_stop_virtual, walking_type: boarding, walking_time: 2.0 seconds,\n",
       " MNM_link_walking, ID: 27, from_node_ID: 30701, to_node_ID: 307, from_node_type: bus_stop_virtual, to_node_type: bus_stop_physical, walking_type: alighting, walking_time: 1.5 seconds,\n",
       " MNM_link_walking, ID: 28, from_node_ID: 311, to_node_ID: 31101, from_node_type: bus_stop_physical, to_node_type: bus_stop_virtual, walking_type: boarding, walking_time: 2.0 seconds,\n",
       " MNM_link_walking, ID: 29, from_node_ID: 31101, to_node_ID: 311, from_node_type: bus_stop_virtual, to_node_type: bus_stop_physical, walking_type: alighting, walking_time: 1.5 seconds,\n",
       " MNM_link_walking, ID: 30, from_node_ID: 311, to_node_ID: 31102, from_node_type: bus_stop_physical, to_node_type: bus_stop_virtual, walking_type: boarding, walking_time: 2.0 seconds,\n",
       " MNM_link_walking, ID: 31, from_node_ID: 31102, to_node_ID: 311, from_node_type: bus_stop_virtual, to_node_type: bus_stop_physical, walking_type: alighting, walking_time: 1.5 seconds,\n",
       " MNM_link_walking, ID: 32, from_node_ID: 311, to_node_ID: 31103, from_node_type: bus_stop_physical, to_node_type: bus_stop_virtual, walking_type: boarding, walking_time: 2.0 seconds,\n",
       " MNM_link_walking, ID: 33, from_node_ID: 31103, to_node_ID: 311, from_node_type: bus_stop_virtual, to_node_type: bus_stop_physical, walking_type: alighting, walking_time: 1.5 seconds]"
      ]
     },
     "metadata": {},
     "execution_count": 264
    }
   ],
   "metadata": {}
  },
  {
   "cell_type": "code",
   "execution_count": 265,
   "source": [
    "print(nb.od.generate_text())"
   ],
   "outputs": [
    {
     "output_type": "stream",
     "name": "stdout",
     "text": [
      "#OriginID <-> NodeID pickup_waiting_time(s)\n",
      "1 1 300.0\n",
      "101 101 300.0\n",
      "#Dest_ID <-> node_ID\n",
      "1 6\n",
      "2 7\n",
      "106 106\n",
      "\n"
     ]
    }
   ],
   "metadata": {}
  },
  {
   "cell_type": "code",
   "execution_count": 266,
   "source": [
    "nb.busstop_physical_list"
   ],
   "outputs": [
    {
     "output_type": "execute_result",
     "data": {
      "text/plain": [
       "[MNM_busstop_physical, physical_busstop_ID: 310, link_ID: 101, location: 0.0, route_ID_vec: 1 2 3,\n",
       " MNM_busstop_physical, physical_busstop_ID: 301, link_ID: 2, location: 0.18, route_ID_vec: 2,\n",
       " MNM_busstop_physical, physical_busstop_ID: 302, link_ID: 2, location: 0.37, route_ID_vec: 1,\n",
       " MNM_busstop_physical, physical_busstop_ID: 303, link_ID: 4, location: 0.275, route_ID_vec: 1,\n",
       " MNM_busstop_physical, physical_busstop_ID: 304, link_ID: 6, location: 0.275, route_ID_vec: 2,\n",
       " MNM_busstop_physical, physical_busstop_ID: 305, link_ID: 3, location: 0.275, route_ID_vec: 3,\n",
       " MNM_busstop_physical, physical_busstop_ID: 306, link_ID: 5, location: 0.18, route_ID_vec: 2 3,\n",
       " MNM_busstop_physical, physical_busstop_ID: 307, link_ID: 5, location: 0.37, route_ID_vec: 3,\n",
       " MNM_busstop_physical, physical_busstop_ID: 311, link_ID: 106, location: 1.0, route_ID_vec: 1 2 3]"
      ]
     },
     "metadata": {},
     "execution_count": 266
    }
   ],
   "metadata": {}
  },
  {
   "cell_type": "code",
   "execution_count": 267,
   "source": [
    "nb.busstop_virtual_list"
   ],
   "outputs": [
    {
     "output_type": "execute_result",
     "data": {
      "text/plain": [
       "[MNM_busstop_virtual, virtual_busstop_ID: 31001, physical_busstop_ID: 310, route_ID: 1 ,\n",
       " MNM_busstop_virtual, virtual_busstop_ID: 31002, physical_busstop_ID: 310, route_ID: 2 ,\n",
       " MNM_busstop_virtual, virtual_busstop_ID: 31003, physical_busstop_ID: 310, route_ID: 3 ,\n",
       " MNM_busstop_virtual, virtual_busstop_ID: 30101, physical_busstop_ID: 301, route_ID: 2 ,\n",
       " MNM_busstop_virtual, virtual_busstop_ID: 30201, physical_busstop_ID: 302, route_ID: 1 ,\n",
       " MNM_busstop_virtual, virtual_busstop_ID: 30301, physical_busstop_ID: 303, route_ID: 1 ,\n",
       " MNM_busstop_virtual, virtual_busstop_ID: 30401, physical_busstop_ID: 304, route_ID: 2 ,\n",
       " MNM_busstop_virtual, virtual_busstop_ID: 30501, physical_busstop_ID: 305, route_ID: 3 ,\n",
       " MNM_busstop_virtual, virtual_busstop_ID: 30601, physical_busstop_ID: 306, route_ID: 2 ,\n",
       " MNM_busstop_virtual, virtual_busstop_ID: 30602, physical_busstop_ID: 306, route_ID: 3 ,\n",
       " MNM_busstop_virtual, virtual_busstop_ID: 30701, physical_busstop_ID: 307, route_ID: 3 ,\n",
       " MNM_busstop_virtual, virtual_busstop_ID: 31101, physical_busstop_ID: 311, route_ID: 1 ,\n",
       " MNM_busstop_virtual, virtual_busstop_ID: 31102, physical_busstop_ID: 311, route_ID: 2 ,\n",
       " MNM_busstop_virtual, virtual_busstop_ID: 31103, physical_busstop_ID: 311, route_ID: 3 ]"
      ]
     },
     "metadata": {},
     "execution_count": 267
    }
   ],
   "metadata": {}
  },
  {
   "cell_type": "code",
   "execution_count": 268,
   "source": [
    "nb.parkinglot_list"
   ],
   "outputs": [
    {
     "output_type": "execute_result",
     "data": {
      "text/plain": [
       "[MNM_parkinglot, ID: 1, dest_node_ID: 6, price: 10.0, price_surge_coeff: 1.0, avg_parking_time: 120.0, capacity: 30000,\n",
       " MNM_parkinglot, ID: 2, dest_node_ID: 7, price: 3.0, price_surge_coeff: 1.0, avg_parking_time: 60.0, capacity: 50000]"
      ]
     },
     "metadata": {},
     "execution_count": 268
    }
   ],
   "metadata": {}
  },
  {
   "cell_type": "code",
   "execution_count": 269,
   "source": [
    "nb.node_driving_list"
   ],
   "outputs": [
    {
     "output_type": "execute_result",
     "data": {
      "text/plain": [
       "[MNM_dnode, ID: 1, type: DMOND, convert_factor: 2.1,\n",
       " MNM_dnode, ID: 2, type: FWJ, convert_factor: 2.1,\n",
       " MNM_dnode, ID: 3, type: FWJ, convert_factor: 2.1,\n",
       " MNM_dnode, ID: 4, type: FWJ, convert_factor: 2.1,\n",
       " MNM_dnode, ID: 5, type: FWJ, convert_factor: 2.1,\n",
       " MNM_dnode, ID: 6, type: DMDND, convert_factor: 2.1,\n",
       " MNM_dnode, ID: 7, type: DMDND, convert_factor: 2.1,\n",
       " MNM_dnode, ID: 101, type: DMOND, convert_factor: 2.1,\n",
       " MNM_dnode, ID: 106, type: DMDND, convert_factor: 2.1]"
      ]
     },
     "metadata": {},
     "execution_count": 269
    }
   ],
   "metadata": {}
  },
  {
   "cell_type": "code",
   "execution_count": 270,
   "source": [
    "print(nb.demand_driving.generate_text())"
   ],
   "outputs": [
    {
     "output_type": "stream",
     "name": "stdout",
     "text": [
      "#Origin_ID Destination_ID <car demand by interval> <truck demand by interval>\n",
      "1 1 0.0 0.0 0.0 0.0 0.0 10.0 9.0 15.0 7.0 12.0\n",
      "\n"
     ]
    }
   ],
   "metadata": {}
  },
  {
   "cell_type": "code",
   "execution_count": 271,
   "source": [
    "print(nb.demand_bus.generate_text())"
   ],
   "outputs": [
    {
     "output_type": "stream",
     "name": "stdout",
     "text": [
      "#OriginID DestID RouteID <bus demand by interval>\n",
      "101 106 1 3.0 3.0 3.0 3.0 3.0\n",
      "101 106 2 3.0 3.0 3.0 3.0 3.0\n",
      "101 106 3 3.0 3.0 3.0 3.0 3.0\n",
      "\n"
     ]
    }
   ],
   "metadata": {}
  },
  {
   "cell_type": "code",
   "execution_count": 272,
   "source": [
    "print(nb.demand_bustransit.generate_text())"
   ],
   "outputs": [
    {
     "output_type": "stream",
     "name": "stdout",
     "text": [
      "#Origin_ID Destination_ID <passenger demand by interval>\n",
      "1 1 0.0 0.0 0.0 0.0 0.0\n",
      "\n"
     ]
    }
   ],
   "metadata": {}
  },
  {
   "cell_type": "code",
   "execution_count": 273,
   "source": [
    "print(nb.demand_pnr.generate_text())"
   ],
   "outputs": [
    {
     "output_type": "stream",
     "name": "stdout",
     "text": [
      "#OriginID DestID <passenger demand by interval>\n",
      "1 1 0.0 0.0 0.0 0.0 0.0\n",
      "\n"
     ]
    }
   ],
   "metadata": {}
  },
  {
   "cell_type": "code",
   "execution_count": 274,
   "source": [
    "print(nb.demand_total_passenger.generate_text())"
   ],
   "outputs": [
    {
     "output_type": "stream",
     "name": "stdout",
     "text": [
      "#OriginID DestID <passenger demand by interval>\n",
      "1 1 600.0 600.0 600.0 600.0 600.0\n",
      "\n"
     ]
    }
   ],
   "metadata": {}
  },
  {
   "cell_type": "code",
   "execution_count": 275,
   "source": [
    "nb.path_table_driving.path_dict"
   ],
   "outputs": [
    {
     "output_type": "execute_result",
     "data": {
      "text/plain": [
       "{1: {6: MNM_pathset, O node: 1, D node: 6, number_of_paths: 3}}"
      ]
     },
     "metadata": {},
     "execution_count": 275
    }
   ],
   "metadata": {}
  },
  {
   "cell_type": "code",
   "execution_count": 276,
   "source": [
    "nb.path_table_bus.path_dict"
   ],
   "outputs": [
    {
     "output_type": "execute_result",
     "data": {
      "text/plain": [
       "{101: {106: MNM_pathset_bus_route, O node: 101, D node: 106, number_of_paths: 3}}"
      ]
     },
     "metadata": {},
     "execution_count": 276
    }
   ],
   "metadata": {}
  },
  {
   "cell_type": "code",
   "execution_count": 277,
   "source": [
    "nb.path_table_bustransit.path_dict"
   ],
   "outputs": [
    {
     "output_type": "execute_result",
     "data": {
      "text/plain": [
       "{1: {6: MNM_pathset_bustransit, O node: 1, D node: 6, number_of_paths: 3}}"
      ]
     },
     "metadata": {},
     "execution_count": 277
    }
   ],
   "metadata": {}
  },
  {
   "cell_type": "code",
   "execution_count": 278,
   "source": [
    "nb.path_table_pnr.path_dict"
   ],
   "outputs": [
    {
     "output_type": "execute_result",
     "data": {
      "text/plain": [
       "{1: {6: MNM_pathset_bustransit, O node: 1, D node: 6, number_of_paths: 3}}"
      ]
     },
     "metadata": {},
     "execution_count": 278
    }
   ],
   "metadata": {}
  },
  {
   "cell_type": "code",
   "execution_count": 279,
   "source": [
    "path_ID_array = list(nb.path_table_driving.ID2path.keys())\n",
    "nb.path_table_driving.ID2path[path_ID_array[0]].node_list"
   ],
   "outputs": [
    {
     "output_type": "execute_result",
     "data": {
      "text/plain": [
       "[1, 2, 3, 5, 6]"
      ]
     },
     "metadata": {},
     "execution_count": 279
    }
   ],
   "metadata": {}
  },
  {
   "cell_type": "code",
   "execution_count": 280,
   "source": [
    "path_ID_array = list(nb.path_table_bus.ID2path.keys())\n",
    "nb.path_table_bus.ID2path[path_ID_array[0]].node_list"
   ],
   "outputs": [
    {
     "output_type": "execute_result",
     "data": {
      "text/plain": [
       "[101, 2, 3, 5, 106]"
      ]
     },
     "metadata": {},
     "execution_count": 280
    }
   ],
   "metadata": {}
  },
  {
   "cell_type": "code",
   "execution_count": 281,
   "source": [
    "path_ID_array = list(nb.path_table_bustransit.ID2path.keys())\n",
    "nb.path_table_bustransit.ID2path[path_ID_array[0]].node_list"
   ],
   "outputs": [
    {
     "output_type": "execute_result",
     "data": {
      "text/plain": [
       "[1, 310, 31001, 30201, 30301, 31101, 311, 6]"
      ]
     },
     "metadata": {},
     "execution_count": 281
    }
   ],
   "metadata": {}
  },
  {
   "cell_type": "code",
   "execution_count": 282,
   "source": [
    "path_ID_array = list(nb.path_table_pnr.ID2path.keys())\n",
    "nb.path_table_pnr.ID2path[path_ID_array[0]].driving_path\n",
    "nb.path_table_pnr.ID2path[path_ID_array[0]].bustransit_path"
   ],
   "outputs": [
    {
     "output_type": "execute_result",
     "data": {
      "text/plain": [
       "MNM_path_bustransit, path ID 0, O node: 7, D node 6"
      ]
     },
     "metadata": {},
     "execution_count": 282
    }
   ],
   "metadata": {}
  },
  {
   "cell_type": "code",
   "execution_count": 283,
   "source": [
    "print(nb.path_table_driving.generate_table_text())"
   ],
   "outputs": [
    {
     "output_type": "stream",
     "name": "stdout",
     "text": [
      "1 2 3 5 6\n",
      "1 2 4 5 6\n",
      "1 2 3 4 5 6\n",
      "\n"
     ]
    }
   ],
   "metadata": {}
  },
  {
   "cell_type": "code",
   "execution_count": 284,
   "source": [
    "print(nb.path_table_driving.generate_portion_text())"
   ],
   "outputs": [
    {
     "output_type": "stream",
     "name": "stdout",
     "text": [
      "0.0 0.0 0.0 0.0 0.0 30.0 30.0 30.0 30.0 30.0\n",
      "0.0 0.0 0.0 0.0 0.0 40.0 40.0 40.0 40.0 40.0\n",
      "0.0 0.0 0.0 0.0 0.0 40.0 40.0 40.0 40.0 40.0\n",
      "\n"
     ]
    }
   ],
   "metadata": {}
  },
  {
   "cell_type": "code",
   "execution_count": 285,
   "source": [
    "print(nb.path_table_bus.generate_table_text())"
   ],
   "outputs": [
    {
     "output_type": "stream",
     "name": "stdout",
     "text": [
      "#OriginNodeID DestNodeID RouteID <driving node IDs>\n",
      "101 106 1 101 2 3 5 106\n",
      "101 106 2 101 2 3 4 5 106\n",
      "101 106 3 101 2 4 5 106\n",
      "\n"
     ]
    }
   ],
   "metadata": {}
  },
  {
   "cell_type": "code",
   "execution_count": 286,
   "source": [
    "print(nb.path_table_bustransit.generate_table_text())"
   ],
   "outputs": [
    {
     "output_type": "stream",
     "name": "stdout",
     "text": [
      "#OriginNodeID DestNodeID <transit link IDs in MultiGraph>\n",
      "1 6 1 6 201 202 203 29 5\n",
      "1 6 1 10 208 209 210 27 4 22 207 31 5\n",
      "1 6 1 8 204 205 206 23 3 26 211 33 5\n",
      "\n"
     ]
    }
   ],
   "metadata": {}
  },
  {
   "cell_type": "code",
   "execution_count": 287,
   "source": [
    "print(nb.path_table_bustransit.generate_portion_text())"
   ],
   "outputs": [
    {
     "output_type": "stream",
     "name": "stdout",
     "text": [
      "0.0 0.0 0.0 0.0 0.0\n",
      "0.0 0.0 0.0 0.0 0.0\n",
      "0.0 0.0 0.0 0.0 0.0\n",
      "\n"
     ]
    }
   ],
   "metadata": {}
  },
  {
   "cell_type": "code",
   "execution_count": 288,
   "source": [
    "print(nb.path_table_pnr.generate_table_text())"
   ],
   "outputs": [
    {
     "output_type": "stream",
     "name": "stdout",
     "text": [
      "#OriginNodeID DestNodeID MidParkinglotID MidDestNodeID <driving node IDs> <transit link IDs in MultiGraph>\n",
      "1 6 2 7 1 2 3 4 7 2 22 207 31 5\n",
      "1 6 2 7 1 2 4 7 2 3 26 211 33 5\n",
      "1 6 2 7 1 2 4 7 2 22 207 31 5\n",
      "\n"
     ]
    }
   ],
   "metadata": {}
  },
  {
   "cell_type": "code",
   "execution_count": 289,
   "source": [
    "print(nb.path_table_pnr.generate_portion_text())"
   ],
   "outputs": [
    {
     "output_type": "stream",
     "name": "stdout",
     "text": [
      "0.0 0.0 0.0 0.0 0.0\n",
      "0.0 0.0 0.0 0.0 0.0\n",
      "0.0 0.0 0.0 0.0 0.0\n",
      "\n"
     ]
    }
   ],
   "metadata": {}
  },
  {
   "cell_type": "code",
   "execution_count": 290,
   "source": [
    "nb.ID2path[0][0]"
   ],
   "outputs": [
    {
     "output_type": "execute_result",
     "data": {
      "text/plain": [
       "'driving'"
      ]
     },
     "metadata": {},
     "execution_count": 290
    }
   ],
   "metadata": {}
  },
  {
   "cell_type": "code",
   "execution_count": 291,
   "source": [
    "nb.ID2path[0][1].truck_route_portions"
   ],
   "outputs": [
    {
     "output_type": "execute_result",
     "data": {
      "text/plain": [
       "array([30., 30., 30., 30., 30.])"
      ]
     },
     "metadata": {},
     "execution_count": 291
    }
   ],
   "metadata": {}
  },
  {
   "cell_type": "code",
   "execution_count": 292,
   "source": [
    "nx.draw(nb.graph_driving.G)"
   ],
   "outputs": [
    {
     "output_type": "display_data",
     "data": {
      "image/png": "[encoded data removed]",
      "text/plain": [
       "<Figure size 432x288 with 1 Axes>"
      ]
     },
     "metadata": {}
    }
   ],
   "metadata": {}
  },
  {
   "cell_type": "code",
   "execution_count": 293,
   "source": [
    "nx.draw(nb.graph_bustransit.G)"
   ],
   "outputs": [
    {
     "output_type": "display_data",
     "data": {
      "image/png": "[encoded data removed]",
      "text/plain": [
       "<Figure size 432x288 with 1 Axes>"
      ]
     },
     "metadata": {}
    }
   ],
   "metadata": {}
  },
  {
   "cell_type": "code",
   "execution_count": 294,
   "source": [
    "nb.dump_to_folder(new_folder)"
   ],
   "outputs": [],
   "metadata": {}
  }
 ],
 "metadata": {
  "orig_nbformat": 4,
  "language_info": {
   "mimetype": "text/x-python",
   "nbconvert_exporter": "python",
   "name": "python",
   "pygments_lexer": "ipython2",
   "version": "2.7.18",
   "file_extension": ".py",
   "codemirror_mode": {
    "version": 2,
    "name": "ipython"
   }
  },
  "kernelspec": {
   "name": "python3",
   "display_name": "Python 2.7.18 64-bit ('mac_posts': conda)"
  },
  "interpreter": {
   "hash": "2b5a2be2fabc70dcc46d6ab9fd0971448c0d451a6d368e6969d42856549ea446"
  }
 },
 "nbformat": 4,
 "nbformat_minor": 2
}