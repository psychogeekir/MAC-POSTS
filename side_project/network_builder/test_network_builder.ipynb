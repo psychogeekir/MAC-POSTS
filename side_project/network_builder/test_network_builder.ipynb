{
 "cells": [
  {
   "cell_type": "code",
   "execution_count": 2,
   "metadata": {},
   "outputs": [],
   "source": [
    "%load_ext autoreload\n",
    "%autoreload 2"
   ]
  },
  {
   "cell_type": "code",
   "execution_count": 3,
   "metadata": {},
   "outputs": [],
   "source": [
    "from MNM_nb import *"
   ]
  },
  {
   "cell_type": "code",
   "execution_count": 4,
   "metadata": {},
   "outputs": [],
   "source": [
    "import os\n",
    "import matplotlib.pyplot as plt"
   ]
  },
  {
   "cell_type": "code",
   "execution_count": 5,
   "metadata": {},
   "outputs": [
    {
     "name": "stdout",
     "output_type": "stream",
     "text": [
      "MNM_config\n",
      "MNM_pathtable\n"
     ]
    }
   ],
   "source": [
    "nb = MNM_network_builder()"
   ]
  },
  {
   "cell_type": "code",
   "execution_count": 6,
   "metadata": {},
   "outputs": [],
   "source": [
    "data_folder = os.path.join('..', '..', 'data', 'input_files_7link_fix')"
   ]
  },
  {
   "cell_type": "code",
   "execution_count": 92,
   "metadata": {},
   "outputs": [],
   "source": [
    "new_folder = os.path.join('MNM_cache', 'input_files_2link_fix')"
   ]
  },
  {
   "cell_type": "code",
   "execution_count": 7,
   "metadata": {},
   "outputs": [],
   "source": [
    "nb.load_from_folder(data_folder)"
   ]
  },
  {
   "cell_type": "code",
   "execution_count": 96,
   "metadata": {},
   "outputs": [],
   "source": [
    "nb.dump_to_folder(new_folder)"
   ]
  },
  {
   "cell_type": "code",
   "execution_count": 8,
   "metadata": {},
   "outputs": [
    {
     "data": {
      "text/plain": [
       "array([ 0.,  0.,  0.,  0.,  0.,  0.,  0.,  0.,  0.,  0.])"
      ]
     },
     "execution_count": 8,
     "metadata": {},
     "output_type": "execute_result"
    }
   ],
   "source": [
    "nb.path_table.ID2path[1].route_portions"
   ]
  },
  {
   "cell_type": "code",
   "execution_count": 9,
   "metadata": {},
   "outputs": [
    {
     "data": {
      "image/png": "[encoded data removed]",
      "text/plain": [
       "<matplotlib.figure.Figure at 0x7f7878986050>"
      ]
     },
     "metadata": {},
     "output_type": "display_data"
    }
   ],
   "source": [
    "nx.draw(nb.graph.G)"
   ]
  },
  {
   "cell_type": "code",
   "execution_count": 56,
   "metadata": {},
   "outputs": [
    {
     "data": {
      "text/plain": [
       "[MNM_dlink, ID: 1, type: PQ, length: 1.0 miles, ffs: 99999.0 mi/h,\n",
       " MNM_dlink, ID: 2, type: PQ, length: 1.0 miles, ffs: 99999.0 mi/h,\n",
       " MNM_dlink, ID: 3, type: CTM, length: 0.8 miles, ffs: 45.0 mi/h,\n",
       " MNM_dlink, ID: 4, type: PQ, length: 1.0 miles, ffs: 99999.0 mi/h]"
      ]
     },
     "execution_count": 56,
     "metadata": {},
     "output_type": "execute_result"
    }
   ],
   "source": [
    "nb.link_list"
   ]
  },
  {
   "cell_type": "code",
   "execution_count": 57,
   "metadata": {},
   "outputs": [
    {
     "data": {
      "text/plain": [
       "{1: {5: MNM_pathset, O node: 1, D node: 5, number_of_paths: 1},\n",
       " 2: {5: MNM_pathset, O node: 2, D node: 5, number_of_paths: 1}}"
      ]
     },
     "execution_count": 57,
     "metadata": {},
     "output_type": "execute_result"
    }
   ],
   "source": [
    "nb.path_table.path_dict"
   ]
  },
  {
   "cell_type": "code",
   "execution_count": 85,
   "metadata": {},
   "outputs": [
    {
     "data": {
      "text/plain": [
       "[DTA]\n",
       "network_name = Snap_graph\n",
       "unit_time = 5\n",
       "total_interval = 200\n",
       "assign_frq = 10\n",
       "start_assign_interval = 0\n",
       "max_interval = 10\n",
       "flow_scalar = 10\n",
       "num_of_link = 4\n",
       "num_of_node = 5\n",
       "num_of_O = 2\n",
       "num_of_D = 1\n",
       "OD_pair = 2\n",
       "routing_type = Fixed\n",
       "\n",
       "[STAT]\n",
       "rec_mode = LRn\n",
       "rec_mode_para = 12\n",
       "rec_folder = record\n",
       "rec_volume = 0\n",
       "volume_load_automatic_rec = 0\n",
       "volume_record_automatic_rec = 0\n",
       "rec_tt = 0\n",
       "tt_load_automatic_rec = 0\n",
       "tt_record_automatic_rec = 0\n",
       "\n",
       "[FIXED]\n",
       "path_file_name = path_table\n",
       "num_path = 2\n",
       "choice_portion = Buffer\n",
       "route_frq = 10"
      ]
     },
     "execution_count": 85,
     "metadata": {},
     "output_type": "execute_result"
    }
   ],
   "source": [
    "nb.config"
   ]
  },
  {
   "cell_type": "code",
   "execution_count": 79,
   "metadata": {},
   "outputs": [
    {
     "data": {
      "text/plain": [
       "OrderedDict([('DTA',\n",
       "              OrderedDict([('network_name', 'Snap_graph'),\n",
       "                           ('unit_time', 5),\n",
       "                           ('total_interval', 200),\n",
       "                           ('assign_frq', 10),\n",
       "                           ('start_assign_interval', 0),\n",
       "                           ('max_interval', 10),\n",
       "                           ('flow_scalar', 10),\n",
       "                           ('num_of_link', 4),\n",
       "                           ('num_of_node', 5),\n",
       "                           ('num_of_O', 2),\n",
       "                           ('num_of_D', 1),\n",
       "                           ('OD_pair', 2),\n",
       "                           ('routing_type', 'Fixed')])),\n",
       "             ('STAT',\n",
       "              OrderedDict([('rec_mode', 'LRn'),\n",
       "                           ('rec_mode_para', '12'),\n",
       "                           ('rec_folder', 'record'),\n",
       "                           ('rec_volume', 0),\n",
       "                           ('volume_load_automatic_rec', 0),\n",
       "                           ('volume_record_automatic_rec', 0),\n",
       "                           ('rec_tt', 0),\n",
       "                           ('tt_load_automatic_rec', 0),\n",
       "                           ('tt_record_automatic_rec', 0)])),\n",
       "             ('HYBRID', OrderedDict([('route_frq', 2)])),\n",
       "             ('FIXED',\n",
       "              OrderedDict([('path_file_name', 'path_table'),\n",
       "                           ('num_path', 2),\n",
       "                           ('choice_portion', 'Buffer'),\n",
       "                           ('route_frq', 10)]))])"
      ]
     },
     "execution_count": 79,
     "metadata": {},
     "output_type": "execute_result"
    }
   ],
   "source": [
    "nb.config.config_dict"
   ]
  },
  {
   "cell_type": "code",
   "execution_count": 73,
   "metadata": {},
   "outputs": [
    {
     "data": {
      "text/plain": [
       "'DTA'"
      ]
     },
     "execution_count": 73,
     "metadata": {},
     "output_type": "execute_result"
    }
   ],
   "source": [
    "'[DTA]\\n'.strip('[]\\n')"
   ]
  },
  {
   "cell_type": "code",
   "execution_count": 88,
   "metadata": {},
   "outputs": [
    {
     "data": {
      "text/plain": [
       "[0.8581090481234539, 0.9423685733055558, 0.06039229566950621]"
      ]
     },
     "execution_count": 88,
     "metadata": {},
     "output_type": "execute_result"
    }
   ],
   "source": [
    "np.random.rand(3).tolist()"
   ]
  },
  {
   "cell_type": "code",
   "execution_count": null,
   "metadata": {},
   "outputs": [],
   "source": []
  }
 ],
 "metadata": {
  "kernelspec": {
   "display_name": "Python 3",
   "language": "python",
   "name": "python3"
  },
  "language_info": {
   "codemirror_mode": {
    "name": "ipython",
    "version": 3
   },
   "file_extension": ".py",
   "mimetype": "text/x-python",
   "name": "python",
   "nbconvert_exporter": "python",
   "pygments_lexer": "ipython3",
   "version": "3.6.5"
  }
 },
 "nbformat": 4,
 "nbformat_minor": 2
}
