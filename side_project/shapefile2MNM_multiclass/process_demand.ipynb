{
 "cells": [
  {
   "cell_type": "code",
   "execution_count": 1,
   "metadata": {},
   "outputs": [],
   "source": [
    "import os\n",
    "import pandas as pd\n",
    "import numpy as np\n",
    "import sys\n",
    "import shapefile\n",
    "import operator"
   ]
  },
  {
   "cell_type": "code",
   "execution_count": 2,
   "metadata": {},
   "outputs": [],
   "source": [
    "out_path = os.path.join('input_files_MckeesRocks_SPC')\n",
    "demand_file_name = 'MNM_input_demand'"
   ]
  },
  {
   "cell_type": "code",
   "execution_count": 3,
   "metadata": {},
   "outputs": [
    {
     "name": "stdout",
     "output_type": "stream",
     "text": [
      "[18604.257694123164, 18604.257694123164, 20667.922152852036, 21921.8723766516, 22420.737795370755, 22420.737795370755, 22433.81535317002, 22350.80634974682, 21779.07501986962, 21779.07501986962, 22041.826522244723, 21904.978810033186, 19495.145253529212, 19495.145253529212, 20313.262099806052, 20640.110741198292, 17442.773271383965, 17442.773271383965, 18516.971924598078, 19024.25946133982, 16758.889857895134, 16758.889857895134, 17857.034926836754, 18287.38725193074, 914.6201832215677, 914.6201832215677, 944.9802457544475, 974.2243281572505, 981.1291858771865, 981.1291858771865, 991.9293696433248, 1023.1106613401814, 1037.6333683206192, 1037.6333683206192, 1053.1389229325011, 1096.4766149956974, 1047.5260070082243, 1047.5260070082243, 1048.1479111737794, 1059.2624699180903, 1038.2466203665103, 1038.2466203665103, 1047.8851358206118, 1025.5505340609989, 1025.7182862181517, 1025.7182862181517, 1026.3139859917817, 720.7618002408673]\n",
      "503063.535037\n"
     ]
    }
   ],
   "source": [
    "demand_str = '# Origin_ID Destination_ID <demand by interval> <truck demand by interval>\\n'\n",
    "\n",
    "with open(input_file_name, 'r') as infile:\n",
    "    for line in infile.readlines():\n",
    "        if line[0] != '#':\n",
    "            demands = line.rstrip('\\n').split(' ')\n",
    "            num_int = (len(demands) - 2)//2\n",
    "            int_sums = [0 for i in range(num_int*2)]\n",
    "            break\n",
    "\n",
    "with open(demand_file_name, 'r') as infile:\n",
    "    for line in infile.readlines():\n",
    "        if line[0] != '#':\n",
    "            demands = line.rstrip('\\n').split(' ')\n",
    "            for i in range(12):\n",
    "                demands[2 + i*4] = demands[2 + i*4 + 1]\n",
    "            demand_str += ' '.join(demands) + '\\n'\n",
    "            \n",
    "            for i in range(num_int):\n",
    "                int_sums[i] += float(demands[2 + i])\n",
    "                int_sums[i + num_int] += float(demands[2 + i + num_int])\n",
    "                \n",
    "print(int_sums)\n",
    "print(sum(int_sums))\n",
    "\n",
    "f = open(os.path.join(out_path, demand_file_name), 'w')\n",
    "f.write(demand_str)\n",
    "f.close()"
   ]
  },
  {
   "cell_type": "code",
   "execution_count": 3,
   "metadata": {},
   "outputs": [
    {
     "name": "stdout",
     "output_type": "stream",
     "text": [
      "[18063.133811896805, 18063.133811896805, 19321.887413212753, 19308.876658877616, 19840.251044406145, 19840.251044406145, 21029.79783910821, 21088.117882717484, 21870.945915547538, 21870.945915547538, 23214.498955536088, 23193.54420348858, 21590.446934012944, 21590.446934012944, 23120.234051005486, 23172.980906335077, 19615.333862902447, 19615.333862902447, 21049.576892052613, 21065.57872209264, 18025.493834978177, 18025.493834978177, 19282.714794847838, 19325.776517009977, 1806.3133811897142, 1806.3133811897142, 1932.1887413212637, 1930.8876658877493, 1984.0251044406227, 1984.0251044406227, 2102.9797839108483, 2108.8117882717615, 2187.0945915547604, 2187.0945915547604, 2321.449895553574, 2319.3544203488746, 2159.044693401307, 2159.044693401307, 2312.0234051005564, 2317.298090633482, 1961.5333862902144, 1961.5333862902144, 2104.9576892052605, 2106.5578722092664, 1802.5493834978408, 1802.5493834978408, 1928.271479484784, 1932.5776517010142]\n",
      "541403.275208\n"
     ]
    }
   ],
   "source": [
    "# demand_str = '# Origin_ID Destination_ID <demand by interval> <truck demand by interval>\\n'\n",
    "\n",
    "# with open(demand_file_name, 'r') as infile:\n",
    "#     for line in infile.readlines():\n",
    "#         if line[0] != '#':\n",
    "#             demands = line.rstrip('\\n').split(' ')\n",
    "#             num_int = (len(demands) - 2)\n",
    "#             int_sums = [0 for i in range(num_int*2)]\n",
    "#             break\n",
    "\n",
    "# with open(demand_file_name, 'r') as infile:\n",
    "#     for line in infile.readlines():\n",
    "#         if line[0] != '#':\n",
    "#             demands = line.rstrip('\\n').split(' ')\n",
    "#             for i in range(2, 2+num_int):\n",
    "#                 demands[i] = str(float(demands[i]) / 1.9)\n",
    "#             for i in range(6):\n",
    "#                 demands[2 + i*4] = demands[2 + i*4 + 1]\n",
    "#             for i in range(2, 2+4):\n",
    "#                 demands[i] = str(float(demands[i]) / 1.2)\n",
    "#             for i in range(2+4, 2+8):\n",
    "#                 demands[i] = str(float(demands[i]) / 1.1)\n",
    "#             for i in range(2+16, 2+20):\n",
    "#                 demands[i] = str(float(demands[i]) / 1.1)\n",
    "#             for i in range(2+20, 2+24):\n",
    "#                 demands[i] = str(float(demands[i]) / 1.2)\n",
    "            \n",
    "#             for i in range(2, 2+num_int):\n",
    "#                 demands[i] = str(float(demands[i]) * 1.1)\n",
    "                \n",
    "#             demands += [str(float(e)/10) for e in demands[2 : 2 + num_int]]\n",
    "# #             demands += ['0' for e in demands[2 : 2 + num_int]]\n",
    "#             demand_str += ' '.join(demands) + '\\n'\n",
    "            \n",
    "#             for i in range(num_int):\n",
    "#                 int_sums[i] += float(demands[2 + i])\n",
    "#                 int_sums[i + num_int] += float(demands[2 + i + num_int])\n",
    "                \n",
    "# print(int_sums)\n",
    "# print(sum(int_sums))\n",
    "\n",
    "# f = open(os.path.join(out_path, demand_file_name), 'w')\n",
    "# f.write(demand_str)\n",
    "# f.close()"
   ]
  },
  {
   "cell_type": "code",
   "execution_count": 7,
   "metadata": {},
   "outputs": [],
   "source": [
    "# demand_str = '# Origin_ID Destination_ID <demand by interval> <truck demand by interval>\\n'\n",
    "\n",
    "# hour = 5\n",
    "\n",
    "# with open(demand_file_name, 'r') as infile:\n",
    "#     for line in infile.readlines():\n",
    "#         if line[0] != '#':\n",
    "#             demands = line.rstrip('\\n').split(' ')\n",
    "#             num_int = (len(demands) - 2) * hour\n",
    "#             int_sums = [0 for i in range(num_int)]\n",
    "#             break\n",
    "\n",
    "# with open(demand_file_name, 'r') as infile:\n",
    "#     for line in infile.readlines():\n",
    "#         if line[0] != '#':\n",
    "#             demands = line.rstrip('\\n').split(' ')\n",
    "#             for i in range(2, 5):\n",
    "#                 demands[i] = demands[i + 1]\n",
    "        \n",
    "#             for i in range(2, 6):\n",
    "#                 demands[i] = str(float(demands[i]) / 3)\n",
    "#             for i in range(hour-1):\n",
    "#                 demands += demands[2:6]\n",
    "                \n",
    "#             demands += ['0' for i in range(num_int)]\n",
    "#             demand_str += ' '.join(demands) + '\\n'\n",
    "            \n",
    "#             for i in range(num_int):\n",
    "#                 int_sums[i] += float(demands[2 + i])\n",
    "                \n",
    "# print(int_sums)\n",
    "# print(sum(int_sums)*2)\n",
    "\n",
    "# f = open(os.path.join(out_path, demand_file_name), 'w')\n",
    "# f.write(demand_str)\n",
    "# f.close()"
   ]
  },
  {
   "cell_type": "code",
   "execution_count": null,
   "metadata": {
    "collapsed": true
   },
   "outputs": [],
   "source": []
  }
 ],
 "metadata": {
  "anaconda-cloud": {},
  "kernelspec": {
   "display_name": "Python 2",
   "language": "python",
   "name": "python2"
  },
  "language_info": {
   "codemirror_mode": {
    "name": "ipython",
    "version": 2
   },
   "file_extension": ".py",
   "mimetype": "text/x-python",
   "name": "python",
   "nbconvert_exporter": "python",
   "pygments_lexer": "ipython2",
   "version": "2.7.15"
  }
 },
 "nbformat": 4,
 "nbformat_minor": 1
}
