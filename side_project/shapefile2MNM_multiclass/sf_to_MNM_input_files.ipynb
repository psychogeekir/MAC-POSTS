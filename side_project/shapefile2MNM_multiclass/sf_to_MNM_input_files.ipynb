{
 "cells": [
  {
   "cell_type": "code",
   "execution_count": 1,
   "metadata": {},
   "outputs": [],
   "source": [
    "import os\n",
    "import pandas as pd\n",
    "import numpy as np\n",
    "import sys\n",
    "import shapefile\n",
    "import operator"
   ]
  },
  {
   "cell_type": "markdown",
   "metadata": {},
   "source": [
    "## Read shapefiles"
   ]
  },
  {
   "cell_type": "code",
   "execution_count": 2,
   "metadata": {},
   "outputs": [
    {
     "name": "stdout",
     "output_type": "stream",
     "text": [
      "['8290', '1', '2114', '25', '1', '0.04', '0', '8290', 1388147.792, 448212.542, 1387767.306, 449855.597]\n"
     ]
    }
   ],
   "source": [
    "sf_link = os.path.join('directed', 'new_link')\n",
    "sf_node = os.path.join('directed', 'new_node')\n",
    "\n",
    "link_sf = shapefile.Reader(sf_link)\n",
    "link_records = link_sf.records()\n",
    "node_sf = shapefile.Reader(sf_node)\n",
    "node_records = node_sf.records()\n",
    "\n",
    "for data in link_records:\n",
    "    print(data)\n",
    "    break"
   ]
  },
  {
   "cell_type": "code",
   "execution_count": 3,
   "metadata": {},
   "outputs": [
    {
     "data": {
      "text/plain": [
       "[('DeletionFlag', 'C', 1, 0),\n",
       " ['linkID', 'C', 80, 0],\n",
       " ['N1', 'C', 80, 0],\n",
       " ['N2', 'C', 80, 0],\n",
       " ['spd', 'C', 80, 0],\n",
       " ['lanes', 'C', 80, 0],\n",
       " ['l', 'C', 80, 0],\n",
       " ['isOD', 'C', 80, 0],\n",
       " ['note', 'C', 80, 0],\n",
       " ['X1', 'N', 11, 3],\n",
       " ['Y1', 'N', 11, 3],\n",
       " ['X2', 'N', 11, 3],\n",
       " ['Y2', 'N', 11, 3]]"
      ]
     },
     "execution_count": 3,
     "metadata": {},
     "output_type": "execute_result"
    }
   ],
   "source": [
    "link_sf.fields"
   ]
  },
  {
   "cell_type": "code",
   "execution_count": 4,
   "metadata": {},
   "outputs": [
    {
     "name": "stdout",
     "output_type": "stream",
     "text": [
      "[1, 0]\n"
     ]
    }
   ],
   "source": [
    "for data in node_records:\n",
    "    print(data)\n",
    "    break"
   ]
  },
  {
   "cell_type": "code",
   "execution_count": 5,
   "metadata": {},
   "outputs": [
    {
     "data": {
      "text/plain": [
       "[('DeletionFlag', 'C', 1, 0), ['ID', 'N', 9, 0], ['isOD', 'N', 9, 0]]"
      ]
     },
     "execution_count": 5,
     "metadata": {},
     "output_type": "execute_result"
    }
   ],
   "source": [
    "node_sf.fields"
   ]
  },
  {
   "cell_type": "code",
   "execution_count": 6,
   "metadata": {
    "scrolled": true
   },
   "outputs": [
    {
     "name": "stdout",
     "output_type": "stream",
     "text": [
      "0\n"
     ]
    }
   ],
   "source": [
    "# check if some O directly link to some D, if 0 it is good!\n",
    "node_isod ={}\n",
    "for data in node_records:\n",
    "    node_isod[data[0]] = data[1]\n",
    "_count = 0\n",
    "for data in link_records:\n",
    "    if node_isod[int(data[1])] and node_isod[int(data[2])]:\n",
    "        print(data)\n",
    "#         print(\"{}, {}\".format(node_isod[int(data[1])], node_isod[int(data[2])]))\n",
    "        _count += 1\n",
    "print(_count)"
   ]
  },
  {
   "cell_type": "code",
   "execution_count": 7,
   "metadata": {},
   "outputs": [
    {
     "name": "stdout",
     "output_type": "stream",
     "text": [
      "801\n"
     ]
    }
   ],
   "source": [
    "# check if some link length=0, change to 0.01?\n",
    "_count = 0\n",
    "for data in link_records:\n",
    "    if float(data[5]) == 0:\n",
    "        data[5] = '0.01'\n",
    "#         print(data)\n",
    "        _count += 1\n",
    "print(_count)"
   ]
  },
  {
   "cell_type": "code",
   "execution_count": 8,
   "metadata": {},
   "outputs": [
    {
     "name": "stdout",
     "output_type": "stream",
     "text": [
      "0\n"
     ]
    }
   ],
   "source": [
    "_count = 0\n",
    "for data in link_records:\n",
    "    if float(data[5]) == 0:\n",
    "        _count += 1\n",
    "print(_count)"
   ]
  },
  {
   "cell_type": "markdown",
   "metadata": {},
   "source": [
    "## MNM_input_link"
   ]
  },
  {
   "cell_type": "code",
   "execution_count": 9,
   "metadata": {},
   "outputs": [],
   "source": [
    "out_path = 'input_files_MckeesRocks_SPC'\n",
    "\n",
    "config_file_name = 'config.conf'\n",
    "link_file_name = 'MNM_input_link'\n",
    "node_file_name = 'MNM_input_node'\n",
    "graph_file_name = 'Snap_graph'\n",
    "od_file_name = 'MNM_input_od'\n",
    "pathtable_file_name = 'path_table'\n",
    "path_p_file_name = 'path_table_buffer'\n",
    "demand_file_name = 'MNM_input_demand'"
   ]
  },
  {
   "cell_type": "code",
   "execution_count": 10,
   "metadata": {},
   "outputs": [
    {
     "name": "stdout",
     "output_type": "stream",
     "text": [
      "1382\n",
      "3788\n",
      "10940\n"
     ]
    }
   ],
   "source": [
    "# ramps ID\n",
    "ramp_IDs = ['2584', '2650', '2585', '2658', '2568', '2657', '2668', '2673', '2780', '2774', '2726', '2729', '2782', '2784',\n",
    "            '2748', '2750', '2751', '4495', '4514', '4510', '4899', '4897', '4898', '4887', '4888', '4989', '4569', '4546',\n",
    "            '4547', '4987', '4986', '4559', '4991', '4580', '4579', '4576', '4586', '4565', '5027', '5012', '5022', '5005',\n",
    "            '5021', '5029', '4640', '5032', '5034', '5037', '4823', '4824', '4841', '4844', '4853', '4857', '4863', '4859',\n",
    "            '4860', '4849', '4848', '4862', '4861', '4858', '4832', '4851', '4829', '5094', '5101', '5100', '4515', '4516',\n",
    "            '4497', '4490', '4500', '1004490', '4496', '4512', '1005010', '5010', '5001', '1005001', '5024', '5023', '5026',\n",
    "            '4587', '5031', '5030', '5033', '5035', '4641', '5038', '2322', '2229', '2294', '2304', '2301', '2298', '1002298',\n",
    "            '2318', '2305', '2355', '2360', '2380', '2358', '2190', '2346', '2362', '2348', '2382', '2381', '2400', '2396',\n",
    "            '2323', '2324', '1002324', '1016422', '16422', '2378', '2191', '16307', '16294', '16295', '16284', '16286', \n",
    "            '4256', '4280', '4314', '16300', '16414', '16326', '16325', '16331', '16333', '16339', '16337', '16304', '16338',\n",
    "            '16345', '16343', '16409', '16371', '17777', '16365', '16373', '16355', '16383', '16377', '16387', '16382',\n",
    "            '16398', '16394', '16391', '16396', '7644', '7638', '7636', '7647', '2236', '2217', '2086', '2118', '2219', \n",
    "            '1953', '1920', '1949', '2035', '1984', '2023', '2033', '2018', '1916', '2019', '2021', '2017', '2010', '2009',\n",
    "            '2030', '2031', '2027', '2014', '2029', '2002', '2001', '2013', '2037', '2012', '1987', '1997', '3934', '3945',\n",
    "            '16402', '4218', '3920', '3940', '3943', '3968', '4065', '3956', '3963', '3967', '16570', '4073', '4046', '4070',\n",
    "            '4044', '3726', '3724', '3712', '6354', '3711', '3722', '3710', '3706', '3708', '3704', '3718', '3707', '17138',\n",
    "            '17135', '6341', '6347', '6346', '6425', '6345', '6324', '6325']\n",
    "\n",
    "OD_nearby = ['4064', '16571', '1004006', '4006', '4051', '1004051', '1003964', '3964', '1003962', '3962', '4067', '3959',\n",
    "             '4066', '3951', '4071', '1003655', '3655', '3656', '16179', '16178', '6357', '6356', '16180', '3668', '4052',\n",
    "             '1004052', '1003972', '3972', '1003909', '3909', '3908', '1003908', '3942', '3901', '3996', '1003996', '1003998',\n",
    "             '3998', '1003995', '3995', '1003994', '3994', '1003991', '3991']\n",
    "\n",
    "bridges = ['103655', '3655', '3929', '2026', '2072', '1002072', '2078', '1002078', '4216', '1004216', '16303', '2401', \n",
    "           '16810', '16423', '1002416', '2416', '2490', '1002490', '2914', '1002914', '2946', '1002946', '8126', '2999',\n",
    "           '2022', '3669', '1002090', '2090', '2293', '3530', '2312', '1002312', '2564', '3425', '17084', '1017084', '5626',\n",
    "           '2698', '2708', '1002708', '4922', '1004922', '4150', '7189']\n",
    "\n",
    "link_str = '# ID Type LEN(mile) FFS(mile/h) Cap(v/hour) RHOJ(v/miles) Lane FFS_truck(mile/h) Cap_truck(v/hour) RHOJ_truck(v/miles) Convert_factor(1)\\n'\n",
    "\n",
    "_count_ctm = 0\n",
    "_count_lq = 0\n",
    "_count_pq = 0\n",
    "\n",
    "veh_len_ratio = 0.7 # when jam, in average, (length occupied by 1 car) / (length occupied by 1 truck)\n",
    "veh_headway_ratio = 0.8 # when max flux, in average, (length occupied by 1 car) / (length occupied by 1 truck)\n",
    "convert_fc = 1.25\n",
    "for data in link_records:\n",
    "    _len = data[5]\n",
    "    _lane = data[4]\n",
    "    _cap_car = 2600\n",
    "    _cap_truck = _cap_car * veh_headway_ratio\n",
    "    _rhoJ_car = 280\n",
    "    _rhoJ_truck = _rhoJ_car * veh_len_ratio\n",
    "    _ffs_car = float(data[3])\n",
    "    if (data[0] in ramp_IDs) or (data[0] in OD_nearby) or (data[0] in bridges):\n",
    "        _ffs_car = 60\n",
    "    if _ffs_car <= 15:\n",
    "        _ffs_car = 30\n",
    "        _cap_car = 2200\n",
    "        _cap_truck = _cap_car * veh_headway_ratio\n",
    "        _ffs_truck = _ffs_car * 0.9\n",
    "    elif _ffs_car <= 25:\n",
    "        _ffs_car = 40\n",
    "        _cap_car = 2300\n",
    "        _cap_truck = _cap_car * veh_headway_ratio\n",
    "        _ffs_truck = _ffs_car * 0.85\n",
    "    elif _ffs_car <= 35:\n",
    "        _ffs_car = 50\n",
    "        _cap_car = 2500\n",
    "        _cap_truck = _cap_car * veh_headway_ratio\n",
    "        _ffs_truck = _ffs_car * 0.8\n",
    "    else:\n",
    "        _ffs_car += 15\n",
    "        _ffs_truck = _ffs_car * 0.8\n",
    "    \n",
    "    if data[6] == '1': # is_OD\n",
    "        _type = 'PQ'\n",
    "        _len = 1\n",
    "        _lane = 1\n",
    "        _cap_car = 99999\n",
    "        _cap_truck = 99999\n",
    "        _ffs_car = 99999\n",
    "        _ffs_truck = 99999\n",
    "        _rhoJ_car = 99999\n",
    "        _rhoJ_truck = 99999\n",
    "        _count_pq += 1\n",
    "    elif (_ffs_car * 1600 / 3600 * 5 * 2) < (float(_len) * 1600):\n",
    "        _type = 'CTM'\n",
    "        _count_ctm += 1\n",
    "    else:\n",
    "        _type = 'LQ'\n",
    "        _count_lq += 1\n",
    "        _cap_car = 2600\n",
    "        _cap_truck = _cap_car * veh_headway_ratio\n",
    "        _rhoJ_car = 280\n",
    "        _rhoJ_truck = _rhoJ_car * veh_len_ratio\n",
    "        \n",
    "    useful = [data[0], _type, _len, _ffs_car, _cap_car, _rhoJ_car, _lane, _ffs_truck, _cap_truck, _rhoJ_truck, convert_fc]\n",
    "    newline = ' '.join([str(e) for e in useful]) + '\\n'\n",
    "    link_str += newline\n",
    "\n",
    "# if not os.path.isdir(out_path):\n",
    "#     os.makedirs(out_path)\n",
    "# f = open(os.path.join(out_path, link_file_name), 'w')\n",
    "# f.write(link_str)\n",
    "# f.close()\n",
    "\n",
    "print(_count_pq)\n",
    "print(_count_ctm)\n",
    "print(_count_lq)"
   ]
  },
  {
   "cell_type": "markdown",
   "metadata": {},
   "source": [
    "## MNM_input_node"
   ]
  },
  {
   "cell_type": "code",
   "execution_count": 11,
   "metadata": {},
   "outputs": [
    {
     "name": "stdout",
     "output_type": "stream",
     "text": [
      "100123\n",
      "150123\n",
      "100251\n",
      "150251\n",
      "100063\n",
      "150063\n",
      "100247\n",
      "150247\n",
      "100010\n",
      "150010\n"
     ]
    }
   ],
   "source": [
    "node_str = '# ID Type Convert_factor\\n'\n",
    "node_to_DMOND = {}\n",
    "node_to_DMDND = {}\n",
    "_cur_ind_DMOND = 100001\n",
    "_cur_ind_DMDND = 150001\n",
    "node_count = 0\n",
    "# In-out node\n",
    "for data in node_records:\n",
    "    _id = data[0]\n",
    "    if data[1] == 1: # is_OD\n",
    "        node_to_DMOND[_id] = _cur_ind_DMOND\n",
    "        node_to_DMDND[_id] = _cur_ind_DMDND\n",
    "        _cur_ind_DMOND += 1\n",
    "        _cur_ind_DMDND += 1\n",
    "        node_count += 2\n",
    "    else:\n",
    "        useful = [_id, 'FWJ', convert_fc]\n",
    "        newline = ' '.join([str(e) for e in useful]) + '\\n'\n",
    "        node_str += newline\n",
    "        node_count += 1\n",
    "\n",
    "# DMOND\n",
    "for v in sorted(node_to_DMOND.items(), key=operator.itemgetter(1)):\n",
    "    useful = [v[1], 'DMOND', convert_fc]\n",
    "    newline = ' '.join([str(e) for e in useful]) + '\\n'\n",
    "    node_str += newline\n",
    "# DMOND\n",
    "for v in sorted(node_to_DMDND.items(), key=operator.itemgetter(1)):\n",
    "    useful = [v[1], 'DMDND', convert_fc]\n",
    "    newline = ' '.join([str(e) for e in useful]) + '\\n'\n",
    "    node_str += newline\n",
    "    \n",
    "# if not os.path.isdir(out_path):\n",
    "#     os.makedirs(out_path)\n",
    "# f = open(os.path.join(out_path, node_file_name), 'w')\n",
    "# f.write(node_str)\n",
    "# f.close()\n",
    "\n",
    "node_count\n",
    "\n",
    "for _id in [3577, 7425, 1963, 7393, 223]:\n",
    "    print(node_to_DMOND[_id])\n",
    "    print(node_to_DMDND[_id])"
   ]
  },
  {
   "cell_type": "markdown",
   "metadata": {},
   "source": [
    "## Snap_graph"
   ]
  },
  {
   "cell_type": "code",
   "execution_count": 23,
   "metadata": {
    "collapsed": true
   },
   "outputs": [],
   "source": [
    "graph_str = '# EdgeId FromNodeId ToNodeId\\n'\n",
    "for data in link_records:\n",
    "    _id = data[0]\n",
    "    _from = int(data[1])\n",
    "    _to = int(data[2])\n",
    "    if _from in node_to_DMOND:\n",
    "        _from = node_to_DMOND[_from]\n",
    "    if _to in node_to_DMDND:\n",
    "        _to = node_to_DMDND[_to]\n",
    "        \n",
    "    useful = [_id, _from, _to]\n",
    "    newline = ' '.join([str(e) for e in useful]) + '\\n'\n",
    "    graph_str += newline\n",
    "\n",
    "if not os.path.isdir(out_path):\n",
    "    os.makedirs(out_path)\n",
    "f = open(os.path.join(out_path, graph_file_name), 'w')\n",
    "f.write(graph_str)\n",
    "f.close()"
   ]
  },
  {
   "cell_type": "markdown",
   "metadata": {},
   "source": [
    "## MNM_input_od"
   ]
  },
  {
   "cell_type": "code",
   "execution_count": 24,
   "metadata": {},
   "outputs": [],
   "source": [
    "od_str = '# Origin_ID <-> node_ID\\n'\n",
    "all_origins = []\n",
    "for v in sorted(node_to_DMOND.items(), key=operator.itemgetter(1)):\n",
    "    od_str += ' '.join([str(e) for e in [v[1] + 100000, v[1]]]) + '\\n'\n",
    "    all_origins.append(v[1] + 100000)\n",
    "\n",
    "all_destinations = []\n",
    "od_str += '# Dest_ID <-> node_ID\\n'\n",
    "for v in sorted(node_to_DMDND.items(), key=operator.itemgetter(1)):\n",
    "    od_str += ' '.join([str(e) for e in [v[1] + 100000, v[1]]]) + '\\n'\n",
    "    all_destinations.append(v[1] + 100000)\n",
    "\n",
    "if not os.path.isdir(out_path):\n",
    "    os.makedirs(out_path)\n",
    "f = open(os.path.join(out_path, od_file_name), 'w')\n",
    "f.write(od_str)\n",
    "f.close()"
   ]
  },
  {
   "cell_type": "markdown",
   "metadata": {},
   "source": [
    "## MNM_input_demand"
   ]
  },
  {
   "cell_type": "code",
   "execution_count": 25,
   "metadata": {
    "collapsed": true
   },
   "outputs": [],
   "source": [
    "demand_str = '# Origin_ID Destination_ID <demand by interval> <truck demand by interval>\\n'\n",
    "\n",
    "# Randomly generate some demand for debug\n",
    "# 20 intervals * 15 min/interval = 5 hours\n",
    "np.random.seed(0)\n",
    "\n",
    "for o in all_origins:\n",
    "    for d in all_destinations:\n",
    "        s_car = np.random.uniform(0, 0.1, 20)\n",
    "        vari = np.random.uniform(-0.05, 0.05, 20)\n",
    "        s_truck = s_car * (1 + vari) / 20\n",
    "        demand_str += ' '.join([str(e) for e in ([o, d] + list(s_car) + list(s_truck))]) + '\\n'\n",
    "\n",
    "if not os.path.isdir(out_path):\n",
    "    os.makedirs(out_path)\n",
    "f = open(os.path.join(out_path, demand_file_name), 'w')\n",
    "f.write(demand_str)\n",
    "f.close()"
   ]
  },
  {
   "cell_type": "markdown",
   "metadata": {},
   "source": [
    "## path_table & path_table_buffer"
   ]
  },
  {
   "cell_type": "code",
   "execution_count": 26,
   "metadata": {
    "collapsed": true
   },
   "outputs": [],
   "source": [
    "# To be completed...\n",
    "path_table_str = ''\n",
    "\n",
    "# if not os.path.isdir(out_path):\n",
    "#     os.makedirs(out_path)\n",
    "# f = open(os.path.join(out_path, pathtable_file_name), 'w')\n",
    "# f.write(path_table_str)\n",
    "# f.close()\n",
    "\n",
    "\n",
    "path_p_str = ''\n",
    "\n",
    "# if not os.path.isdir(out_path):\n",
    "#     os.makedirs(out_path)\n",
    "# f = open(os.path.join(out_path, path_p_file_name), 'w')\n",
    "# f.write(path_p_str)\n",
    "# f.close()"
   ]
  },
  {
   "cell_type": "markdown",
   "metadata": {},
   "source": [
    "## config.conf"
   ]
  },
  {
   "cell_type": "code",
   "execution_count": 29,
   "metadata": {},
   "outputs": [],
   "source": [
    "pathtable_loc = os.path.join('..', '..', 'data', 'input_files_MckeesRocks_SPC', 'path_table')\n",
    "pathtable_file = open(pathtable_loc, 'r')\n",
    "num_path = len(pathtable_file.readlines())\n",
    "\n",
    "DTA_FIELDS = [('network_name', 'Snap_graph'), ('unit_time', 5), ('total_interval', -1), ('assign_frq', 180),\n",
    "              ('start_assign_interval', 0), ('max_interval', 4), ('flow_scalar', 2), ('num_of_link', len(link_records)),\n",
    "              ('num_of_node', node_count), ('num_of_O', len(all_origins)), ('num_of_D', len(all_destinations)),\n",
    "              ('OD_pair', len(all_origins) * len(all_destinations)), ('routing_type', 'Fixed'), ('adaptive_ratio', 0.50)]\n",
    "\n",
    "STAT_FIELDS = [('rec_mode', 'LRn'), ('rec_mode_para', 2), ('rec_folder', 'record'), ('rec_volume', 0), \n",
    "               ('volume_load_automatic_rec', 0), ('volume_record_automatic_rec', 0), ('rec_tt', 0), \n",
    "               ('tt_load_automatic_rec', 0), ('tt_record_automatic_rec', 0)]\n",
    "\n",
    "ADAPTIVE_FIELDS = [('route_frq', 180)]\n",
    "\n",
    "FIXED_FIELDS = [('path_file_name', 'path_table'), ('num_path', num_path), ('choice_portion', 'Buffer'), ('route_frq', 180)]\n",
    "\n",
    "config_str = '[DTA]\\n'\n",
    "for v in DTA_FIELDS:\n",
    "    config_str += \"{} = {}\\n\".format(str(v[0]), str(v[1]))\n",
    "\n",
    "config_str += '\\n[STAT]\\n'\n",
    "for v in STAT_FIELDS:\n",
    "    config_str += \"{} = {}\\n\".format(str(v[0]), str(v[1]))\n",
    "\n",
    "config_str += '\\n[ADAPTIVE]\\n'\n",
    "for v in ADAPTIVE_FIELDS:\n",
    "    config_str += \"{} = {}\\n\".format(str(v[0]), str(v[1]))\n",
    "    \n",
    "config_str += '\\n[FIXED]\\n'\n",
    "for v in FIXED_FIELDS:\n",
    "    config_str += \"{} = {}\\n\".format(str(v[0]), str(v[1]))\n",
    "    \n",
    "if not os.path.isdir(out_path):\n",
    "    os.makedirs(out_path)\n",
    "f = open(os.path.join(out_path, config_file_name), 'w')\n",
    "f.write(config_str)\n",
    "f.close()"
   ]
  },
  {
   "cell_type": "code",
   "execution_count": null,
   "metadata": {
    "collapsed": true
   },
   "outputs": [],
   "source": []
  }
 ],
 "metadata": {
  "anaconda-cloud": {},
  "kernelspec": {
   "display_name": "Python 3",
   "language": "python",
   "name": "python3"
  },
  "language_info": {
   "codemirror_mode": {
    "name": "ipython",
    "version": 3
   },
   "file_extension": ".py",
   "mimetype": "text/x-python",
   "name": "python",
   "nbconvert_exporter": "python",
   "pygments_lexer": "ipython3",
   "version": "3.6.5"
  }
 },
 "nbformat": 4,
 "nbformat_minor": 1
}
