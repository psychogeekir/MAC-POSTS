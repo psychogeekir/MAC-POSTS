{
 "cells": [
  {
   "cell_type": "code",
   "execution_count": 1,
   "metadata": {
    "collapsed": false
   },
   "outputs": [],
   "source": [
    "import pandas as pd\n",
    "import sys, os\n",
    "import numpy as np\n",
    "import json\n",
    "import shapefile"
   ]
  },
  {
   "cell_type": "markdown",
   "metadata": {},
   "source": [
    "## Read shapefile"
   ]
  },
  {
   "cell_type": "code",
   "execution_count": 2,
   "metadata": {
    "collapsed": false
   },
   "outputs": [],
   "source": [
    "sf_path = os.path.join('..', 'vehicle_based_heatmap', 'new_link', 'new_link_latlon')\n",
    "link_sf = shapefile.Reader(sf_path)\n",
    "shapeRecs = link_sf.shapeRecords()\n",
    "\n",
    "link_map = {}\n",
    "for data in shapeRecs:\n",
    "    link_map[data.record[1]] = {}\n",
    "    link_map[data.record[1]]['points'] = []\n",
    "    for _item in data.shape.points:\n",
    "        link_map[data.record[1]]['points'].append([round(_item[0], 5),  round(_item[1], 5)])\n",
    "    link_map[data.record[1]]['ffs'] = data.record[4]\n",
    "    link_map[data.record[1]]['lanes'] = data.record[5]\n",
    "    link_map[data.record[1]]['length'] = data.record[6]\n",
    "    link_map[data.record[1]]['isOD'] = data.record[7]\n",
    "#     print(data.record)\n",
    "#     print(link_map)\n",
    "#     break"
   ]
  },
  {
   "cell_type": "markdown",
   "metadata": {},
   "source": [
    "## Read link congestion file && process to geojson format"
   ]
  },
  {
   "cell_type": "code",
   "execution_count": 11,
   "metadata": {
    "collapsed": false
   },
   "outputs": [
    {
     "name": "stdout",
     "output_type": "stream",
     "text": [
      "132552 geotagged features saved to car file\n",
      "132552 geotagged features saved to truck file\n"
     ]
    }
   ],
   "source": [
    "vehloc_path = os.path.join('..', '..', '..', 'data', 'input_files_MckeesRocks_SPC', 'link_cong', 'link_cong_raw.txt')\n",
    "\n",
    "# create a new python dict to contain our geojson data, using geojson format\n",
    "geojson_car = {'type':'FeatureCollection', 'features':[]}\n",
    "geojson_truck = {'type':'FeatureCollection', 'features':[]}\n",
    "\n",
    "with open(vehloc_path, 'r') as infile:\n",
    "    lines = infile.readlines()\n",
    "    for line in lines:\n",
    "        data = line.rstrip().split(' ')\n",
    "        _link_ID = data[0]\n",
    "        _interval = int(data[1])//180\n",
    "        if (link_map[_link_ID]['isOD'] == '0') and (_interval % 2 == 0):\n",
    "            _interval //= 2\n",
    "            if _interval < 9:\n",
    "                _car_flow = float(data[2])\n",
    "                _truck_flow = float(data[3])\n",
    "                _car_fft = float(data[6])\n",
    "                _truck_fft = float(data[7])\n",
    "                _car_cong = float(data[4])/_car_fft\n",
    "                _truck_cong = float(data[5])/_truck_fft\n",
    "                if data[8] == 'inf':\n",
    "                    _car_speed = float(link_map[_link_ID]['ffs'])\n",
    "                else:\n",
    "                    _car_speed = float(data[8])\n",
    "                if data[9] == 'inf':\n",
    "                    _truck_speed = float(link_map[_link_ID]['ffs']) * 0.8\n",
    "                else:\n",
    "                    _truck_speed = float(data[9])\n",
    "\n",
    "                # create a feature template to fill in\n",
    "                feature_car = {'type':'Feature',\n",
    "                               'properties':{},\n",
    "                               'geometry':{'type': 'LineString',\n",
    "                                           'coordinates':[]\n",
    "                                }}\n",
    "                feature_truck = {'type':'Feature',\n",
    "                               'properties':{},\n",
    "                               'geometry':{'type': 'LineString',\n",
    "                                           'coordinates':[]\n",
    "                                }}\n",
    "\n",
    "                for i in range(len(link_map[_link_ID]['points'])):\n",
    "                    feature_car['geometry']['coordinates'].append(link_map[_link_ID]['points'][i])\n",
    "                    feature_truck['geometry']['coordinates'].append(link_map[_link_ID]['points'][i])\n",
    "\n",
    "                feature_car['properties']['ID'] = _link_ID\n",
    "                feature_car['properties']['ffs_car'] = link_map[_link_ID]['ffs']\n",
    "                feature_car['properties']['lanes'] = link_map[_link_ID]['lanes']\n",
    "                feature_car['properties']['length'] = link_map[_link_ID]['length']\n",
    "                feature_car['properties']['time_point'] = _interval\n",
    "                feature_car['properties']['car_flow'] = _car_flow\n",
    "                feature_car['properties']['car_fft'] = _car_fft\n",
    "                feature_car['properties']['car_cong'] = _car_cong\n",
    "                feature_car['properties']['car_speed'] = _car_speed\n",
    "\n",
    "                feature_truck['properties']['ID'] = _link_ID\n",
    "                feature_truck['properties']['ffs_car'] = link_map[_link_ID]['ffs']\n",
    "                feature_truck['properties']['lanes'] = link_map[_link_ID]['lanes']\n",
    "                feature_truck['properties']['length'] = link_map[_link_ID]['length']\n",
    "                feature_truck['properties']['time_point'] = _interval\n",
    "                feature_truck['properties']['truck_flow'] = _truck_flow\n",
    "                feature_truck['properties']['truck_fft'] = _truck_fft\n",
    "                feature_truck['properties']['truck_cong'] = _truck_cong\n",
    "                feature_truck['properties']['truck_speed'] = _truck_speed\n",
    "\n",
    "                # add this feature to the list of features inside our dict\n",
    "                geojson_car['features'].append(feature_car)\n",
    "                geojson_truck['features'].append(feature_truck)\n",
    "\n",
    "geojson_str_car = json.dumps(geojson_car, indent=2)\n",
    "geojson_str_truck = json.dumps(geojson_truck, indent=2)\n",
    "\n",
    "# save the geojson result to a file\n",
    "output_filename_car = 'link_cong_car.geojson'\n",
    "with open(output_filename_car, 'w') as output_file_car:\n",
    "    output_file_car.write('var data_cong_car = {};'.format(geojson_str_car))\n",
    "output_filename_truck = 'link_cong_truck.geojson'\n",
    "with open(output_filename_truck, 'w') as output_file_truck:\n",
    "    output_file_truck.write('var data_cong_truck = {};'.format(geojson_str_truck))\n",
    "\n",
    "# how many features did we save to the geojson file?\n",
    "print('{} geotagged features saved to car file'.format(len(geojson_car['features'])))\n",
    "print('{} geotagged features saved to truck file'.format(len(geojson_truck['features'])))"
   ]
  },
  {
   "cell_type": "code",
   "execution_count": null,
   "metadata": {
    "collapsed": true
   },
   "outputs": [],
   "source": []
  }
 ],
 "metadata": {
  "anaconda-cloud": {},
  "kernelspec": {
   "display_name": "Python [conda root]",
   "language": "python",
   "name": "conda-root-py"
  },
  "language_info": {
   "codemirror_mode": {
    "name": "ipython",
    "version": 3
   },
   "file_extension": ".py",
   "mimetype": "text/x-python",
   "name": "python",
   "nbconvert_exporter": "python",
   "pygments_lexer": "ipython3",
   "version": "3.5.2"
  }
 },
 "nbformat": 4,
 "nbformat_minor": 1
}
