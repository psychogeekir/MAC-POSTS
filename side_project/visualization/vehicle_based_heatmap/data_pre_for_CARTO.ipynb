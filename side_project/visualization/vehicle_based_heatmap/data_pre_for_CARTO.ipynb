{
 "cells": [
  {
   "cell_type": "code",
   "execution_count": 1,
   "metadata": {
    "collapsed": false
   },
   "outputs": [],
   "source": [
    "import os\n",
    "import pandas as pd\n",
    "import numpy as np\n",
    "import sys\n",
    "import shapefile\n",
    "import operator\n"
   ]
  },
  {
   "cell_type": "markdown",
   "metadata": {},
   "source": [
    "## Read shapefile"
   ]
  },
  {
   "cell_type": "code",
   "execution_count": 2,
   "metadata": {
    "collapsed": false
   },
   "outputs": [],
   "source": [
    "sf_path = os.path.join('new_link', 'new_link_latlon')\n",
    "link_sf = shapefile.Reader(sf_path)\n",
    "shapeRecs = link_sf.shapeRecords()\n",
    "\n",
    "link_map = {}\n",
    "for data in shapeRecs:\n",
    "    link_map[data.record[1]] = data.shape.points\n",
    "#     print(data.shape.points)\n",
    "#     break"
   ]
  },
  {
   "cell_type": "markdown",
   "metadata": {},
   "source": [
    "## Read veh loc file && process locs"
   ]
  },
  {
   "cell_type": "code",
   "execution_count": 4,
   "metadata": {
    "collapsed": false
   },
   "outputs": [
    {
     "name": "stdout",
     "output_type": "stream",
     "text": [
      "83\n",
      "1431113\n"
     ]
    }
   ],
   "source": [
    "vehloc_path = os.path.join('..', '..', '..', 'data', 'input_files_MckeesRocks_SPC', 'veh_loc', 'veh_loc_raw.txt')\n",
    "final_str = 'time_interval,longitude,latitude\\n'\n",
    "# final_str = ''\n",
    "_line_count = 0\n",
    "max_time = 0\n",
    "with open(vehloc_path, 'r') as infile:\n",
    "    lines = infile.readlines()\n",
    "    for line in lines:\n",
    "        data = line.rstrip().split(' ')\n",
    "        time = int(data[1]) // 60\n",
    "        if time > max_time:\n",
    "            max_time = time\n",
    "        if time < 90:\n",
    "            _line_count += 1\n",
    "            if _line_count % 3 == 0:\n",
    "                delta_h = time // 60\n",
    "                delta_m = time % 60\n",
    "                hour = str(5 + delta_h)\n",
    "                if len(hour) == 1:\n",
    "                    hour = '0' + hour\n",
    "                if delta_m < 10:\n",
    "                    minute = '0' + str(delta_m)\n",
    "                else:\n",
    "                    minute = str(delta_m)\n",
    "                link_points = link_map[data[2]]\n",
    "                porportion = float(data[3])\n",
    "                loc = int(np.floor(porportion * len(link_points)))\n",
    "                final_time = '2017-01-01T' + hour + ':' + minute + ':00Z'\n",
    "                final_str += ','.join([str(e) for e in [time, round(link_points[loc][0],7), round(link_points[loc][1], 7)]]) + '\\n'\n",
    "        #             print(final_str)\n",
    "        #             break\n",
    "\n",
    "out_path = os.path.join('..', '..', '..', 'data', 'input_files_MckeesRocks_SPC', 'veh_loc', 'veh_loc_final.csv')\n",
    "f = open(out_path, 'w')\n",
    "f.write(final_str)\n",
    "f.close()\n",
    "\n",
    "print(max_time)\n",
    "print(_line_count)"
   ]
  },
  {
   "cell_type": "code",
   "execution_count": null,
   "metadata": {
    "collapsed": true
   },
   "outputs": [],
   "source": []
  }
 ],
 "metadata": {
  "anaconda-cloud": {},
  "kernelspec": {
   "display_name": "Python [conda root]",
   "language": "python",
   "name": "conda-root-py"
  },
  "language_info": {
   "codemirror_mode": {
    "name": "ipython",
    "version": 3
   },
   "file_extension": ".py",
   "mimetype": "text/x-python",
   "name": "python",
   "nbconvert_exporter": "python",
   "pygments_lexer": "ipython3",
   "version": "3.5.2"
  }
 },
 "nbformat": 4,
 "nbformat_minor": 1
}
