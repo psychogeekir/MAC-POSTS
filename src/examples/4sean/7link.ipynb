{
 "cells": [
  {
   "cell_type": "code",
   "execution_count": 1,
   "metadata": {},
   "outputs": [],
   "source": [
    "%load_ext autoreload\n",
    "%autoreload 2"
   ]
  },
  {
   "cell_type": "code",
   "execution_count": 2,
   "metadata": {},
   "outputs": [],
   "source": [
    "import numpy as np\n",
    "import pandas as pd\n",
    "import sys\n",
    "import datetime\n",
    "import os\n",
    "import matplotlib.pyplot as plt\n",
    "import matplotlib\n",
    "import networkx as nx\n",
    "import pickle\n",
    "from collections import OrderedDict\n",
    "import copy\n",
    "from scipy.sparse import csr_matrix\n",
    "from scipy import io\n",
    "import seaborn as sns\n",
    "import joblib\n",
    "# from base import *\n",
    "from joblib import Parallel, delayed\n",
    "import random\n",
    "import scipy"
   ]
  },
  {
   "cell_type": "code",
   "execution_count": 3,
   "metadata": {},
   "outputs": [],
   "source": [
    "import matplotlib.pyplot as plt\n",
    "\n",
    "from matplotlib import colors\n",
    "import matplotlib\n",
    "import six\n",
    "import matplotlib.dates as mdates\n",
    "import datetime\n",
    "import pandas as pd\n",
    "import seaborn as sns\n",
    "sns.set()\n",
    "plt.style.use('seaborn-poster')\n",
    "from sklearn.metrics import r2_score"
   ]
  },
  {
   "cell_type": "code",
   "execution_count": 4,
   "metadata": {},
   "outputs": [],
   "source": [
    "MNM_nb_folder = os.path.join('..', '..', '..', 'side_project', 'network_builder') # MNM_nb, MNM_mcnb\n",
    "sys.path.append(MNM_nb_folder)\n",
    "python_lib_folder = os.path.join('..', '..', 'pylib') # covariance_tree and DODE, sDODE, mcDODE functions\n",
    "sys.path.append(python_lib_folder)"
   ]
  },
  {
   "cell_type": "code",
   "execution_count": 5,
   "metadata": {},
   "outputs": [
    {
     "output_type": "stream",
     "name": "stderr",
     "text": [
      "/home/qiling/.local/lib/python2.7/site-packages/bidict/compat.py:33: UserWarning: Python 2 support will be dropped in a future release.\n  warn('Python 2 support will be dropped in a future release.')\n"
     ]
    }
   ],
   "source": [
    "from MNMAPI import *   # main DTA package\n",
    "from MNM_mcnb import MNM_network_builder\n",
    "from mcDODE import MCDODE, mcSPSA  "
   ]
  },
  {
   "cell_type": "code",
   "execution_count": 6,
   "metadata": {},
   "outputs": [],
   "source": [
    "data_folder = os.path.join('/home/qiling/Documents/MAC-POSTS/data/input_files_7link_multiclass_new')"
   ]
  },
  {
   "cell_type": "markdown",
   "metadata": {},
   "source": [
    "### Use of network builder"
   ]
  },
  {
   "cell_type": "code",
   "execution_count": 9,
   "metadata": {},
   "outputs": [
    {
     "name": "stdout",
     "output_type": "stream",
     "text": [
      "<MNM_mcnb.MNM_network_builder instance at 0x7ff498f36128>\n"
     ]
    }
   ],
   "source": [
    "nb = MNM_network_builder()  # from MNM_mcnb, for python analysis\n",
    "nb.load_from_folder(data_folder)\n",
    "print(nb)"
   ]
  },
  {
   "cell_type": "markdown",
   "metadata": {},
   "source": [
    "### Use of DNL"
   ]
  },
  {
   "cell_type": "code",
   "execution_count": 8,
   "metadata": {},
   "outputs": [
    {
     "data": {
      "text/plain": [
       "0L"
      ]
     },
     "execution_count": 8,
     "metadata": {},
     "output_type": "execute_result"
    }
   ],
   "source": [
    "dta = MNMAPI.mcdta_api()\n",
    "# int Mcdta_Api::initialize(std::string folder) in MAC-POSTS/src/pybinder/src/dta_api.cpp\n",
    "# MNM_Dta_Multiclass::MNM_Dta_Multiclass(std::string file_folder) in MAC-POSTS/src/minami/multiclass.cpp\n",
    "dta.initialize(data_folder)  \n",
    "# int Mcdta_Api::run_whole() in MAC-POSTS/src/pybinder/src/dta_api.cpp\n",
    "# int MNM_Dta::loading(bool verbose) in in MAC-POSTS/src/minami/dta.cpp\n",
    "dta.run_whole()  "
   ]
  },
  {
   "cell_type": "code",
   "execution_count": null,
   "metadata": {},
   "outputs": [],
   "source": []
  },
  {
   "cell_type": "markdown",
   "metadata": {},
   "source": [
    "### MCDODE"
   ]
  },
  {
   "cell_type": "code",
   "execution_count": 8,
   "metadata": {},
   "outputs": [],
   "source": [
    "# nb.dump_to_folder('test')"
   ]
  },
  {
   "cell_type": "code",
   "execution_count": 10,
   "metadata": {},
   "outputs": [],
   "source": [
    "from sklearn.metrics import r2_score\n",
    "from scipy import stats\n",
    "def r2(predictions, targets):\n",
    "    y_bar = np.mean(targets)\n",
    "    # diff = np.minimum(np.abs(predictions - targets), targets)\n",
    "    diff = predictions - targets\n",
    "    ss_e = np.sum(diff ** 2)\n",
    "    ss_t = np.sum((targets) ** 2)\n",
    "    return 1 - ss_e / ss_t\n",
    "\n",
    "def rsquared(x, y):\n",
    "    slope, intercept, r_value, p_value, std_err = stats.linregress(x, y)\n",
    "    return r_value**2\n",
    "\n",
    "def rmse(predictions, targets):\n",
    "    return np.sqrt(((predictions - targets) ** 2).mean())\n",
    "\n",
    "def rmsn(predictions, targets):\n",
    "    return np.sqrt(np.sum((predictions - targets) ** 2) * len(predictions)) / np.sum(targets)"
   ]
  },
  {
   "cell_type": "code",
   "execution_count": 12,
   "metadata": {},
   "outputs": [],
   "source": [
    "observed_link_list = [3, 4, 5, 6]\n",
    "ml_car = 6\n",
    "ml_truck = 5\n",
    "data_dict = dict()\n",
    "num_interval = nb.config.config_dict['DTA']['max_interval']\n",
    "true_car_f = np.random.rand(num_interval * nb.config.config_dict['FIXED']['num_path']) * 300\n",
    "true_truck_f = np.random.rand(num_interval * nb.config.config_dict['FIXED']['num_path']) * 30\n",
    "# true_car_f, true_truck_f, _, _, _, _ = pickle.load(open('final_use.pickle', 'r'))\n",
    "# true_car_x = np.random.rand(num_interval * len(observed_link_list)) * 100\n",
    "# true_truck_x = np.random.rand(num_interval * len(observed_link_list)) * 10\n",
    "# L_car_one = np.random.randint(2, size = (ml_car, len(observed_link_list)))\n",
    "L_car_one = np.array([[1, 0, 0, 1],\n",
    "                      [0, 0, 1, 1],\n",
    "                      [1, 1, 0, 1],\n",
    "                      [1, 0, 1, 1],\n",
    "                      [1, 0, 0, 0],\n",
    "                      [0, 1, 0, 1]])\n",
    "L_truck_one = np.array([[1, 0, 0, 1],\n",
    "                        [0, 0, 0, 1],\n",
    "                        [1, 1, 0, 1],\n",
    "                        [1, 0, 1, 0],\n",
    "                        [0, 1, 0, 1]])\n",
    "# L_truck_one = np.random.randint(2, size = (ml_truck, len(observed_link_list)))\n",
    "L_car = csr_matrix(scipy.linalg.block_diag(*[L_car_one for i in range(num_interval)]))\n",
    "L_truck = csr_matrix(scipy.linalg.block_diag(*[L_truck_one for i in range(num_interval)]))\n",
    "\n",
    "config = dict()\n",
    "config['use_car_link_flow'] = True\n",
    "config['use_truck_link_flow'] = True\n",
    "config['use_car_link_tt'] = True\n",
    "config['use_truck_link_tt'] = True\n",
    "config['car_count_agg'] = True\n",
    "config['truck_count_agg'] = True\n",
    "config['link_car_flow_weight'] = 1\n",
    "config['link_truck_flow_weight'] = 1\n",
    "config['link_car_tt_weight'] = 0.1\n",
    "config['link_truck_tt_weight'] = 0.1\n",
    "config['num_data'] = 8\n",
    "config['observed_links'] = observed_link_list\n",
    "config['paths_list'] = range(nb.config.config_dict['FIXED']['num_path'])\n",
    "\n",
    "\n",
    "config['compute_car_link_flow_loss'] = True\n",
    "config['compute_truck_link_flow_loss'] = True\n",
    "config['compute_car_link_tt_loss'] = True\n",
    "config['compute_truck_link_tt_loss'] = True\n",
    "\n",
    "dode = MCDODE(nb, config)\n",
    "dta = dode._run_simulation(true_car_f, true_truck_f)\n",
    "true_car_dar, true_truck_dar = dode.get_dar(dta, true_car_f, true_truck_f)\n",
    "\n",
    "noise_level = 0.1\n",
    "(true_dar_car, true_dar_truck) = dode.get_dar(dta, true_car_f, true_truck_f)\n",
    "true_car_x = true_dar_car.dot(true_car_f)\n",
    "true_truck_x = true_dar_truck.dot(true_truck_f)\n",
    "data_dict['car_count_agg_L_list'] = list()\n",
    "data_dict['truck_count_agg_L_list'] = list()\n",
    "data_dict['car_link_flow'] = []\n",
    "data_dict['truck_link_flow'] = []\n",
    "data_dict['car_link_tt'] = []\n",
    "data_dict['truck_link_tt'] = []\n",
    "for i in range(config['num_data']):\n",
    "    true_car_x = dta.get_link_car_inflow(np.arange(0, dode.num_loading_interval, dode.ass_freq), \n",
    "                  np.arange(0, dode.num_loading_interval, dode.ass_freq) + dode.ass_freq).flatten(order = 'F')\n",
    "    true_truck_x = dta.get_link_truck_inflow(np.arange(0, dode.num_loading_interval, dode.ass_freq), \n",
    "                  np.arange(0, dode.num_loading_interval, dode.ass_freq) + dode.ass_freq).flatten(order = 'F')\n",
    "#     true_car_tt = dta.get_car_link_tt_robust(np.arange(0, dode.num_loading_interval, dode.ass_freq),\n",
    "#                              np.arange(0, dode.num_loading_interval, dode.ass_freq) + dode.ass_freq).flatten(order = 'F')\n",
    "    true_car_tt = dta.get_car_link_tt(np.arange(0, dode.num_loading_interval, dode.ass_freq)).flatten(order = 'F')\n",
    "    true_truck_tt = dta.get_truck_link_tt(np.arange(0, dode.num_loading_interval, dode.ass_freq)).flatten(order = 'F')\n",
    "    m_car = L_car.dot(true_car_x)\n",
    "    m_truck = L_truck.dot(true_truck_x)\n",
    "    data_dict['car_count_agg_L_list'].append(L_car)\n",
    "    data_dict['truck_count_agg_L_list'].append(L_truck)\n",
    "    data_dict['car_link_flow'].append(m_car + np.random.uniform(-1, 1, m_car.shape) * noise_level * m_car)\n",
    "    data_dict['truck_link_flow'].append(m_truck + np.random.uniform(-1, 1, m_truck.shape) * noise_level * m_truck)\n",
    "    data_dict['car_link_tt'].append(true_car_tt + np.random.uniform(-1, 1, true_car_tt.shape) * noise_level * true_car_tt)\n",
    "    data_dict['truck_link_tt'].append(true_truck_tt + np.random.uniform(-1, 1, true_truck_tt.shape) * noise_level * true_truck_tt)"
   ]
  },
  {
   "cell_type": "code",
   "execution_count": 13,
   "metadata": {},
   "outputs": [],
   "source": [
    "dode = mcSPSA(nb, config)"
   ]
  },
  {
   "cell_type": "code",
   "execution_count": 14,
   "metadata": {},
   "outputs": [],
   "source": [
    "dode.add_data(data_dict)"
   ]
  },
  {
   "cell_type": "code",
   "execution_count": 15,
   "metadata": {},
   "outputs": [],
   "source": [
    "# nb.update_demand_path2(true_car_f, true_truck_f)\n",
    "# nb.dump_to_folder(\"one\")\n",
    "# nb.update_demand_path2(car_flow, truck_flow)\n",
    "# nb.dump_to_folder(\"two\")"
   ]
  },
  {
   "cell_type": "code",
   "execution_count": 16,
   "metadata": {},
   "outputs": [],
   "source": [
    "# (car_flow, truck_flow) = dode.init_path_flow(car_scale = 10, truck_scale = 1)"
   ]
  },
  {
   "cell_type": "code",
   "execution_count": 17,
   "metadata": {},
   "outputs": [],
   "source": [
    "# pickle.dump((car_flow, truck_flow, None), open('test.pickle', 'w'))"
   ]
  },
  {
   "cell_type": "code",
   "execution_count": null,
   "metadata": {},
   "outputs": [
    {
     "name": "stdout",
     "output_type": "stream",
     "text": [
      "Epoch: 0 Loss: 3114.21 truck_count_loss: 313.97|car_tt_loss: 187.23|car_count_loss: 2494.78|truck_tt_loss: 118.24|\n",
      "Epoch: 1 Loss: 2346.46 truck_count_loss: 314.22|car_tt_loss: 112.61|car_count_loss: 1783.1|truck_tt_loss: 136.52|\n",
      "Epoch: 2 Loss: 2407.28 truck_count_loss: 314.4|car_tt_loss: 76.68|car_count_loss: 1923.8|truck_tt_loss: 92.4|\n",
      "Epoch: 3 Loss: 2802.37 truck_count_loss: 315.08|car_tt_loss: 186.17|car_count_loss: 2212.19|truck_tt_loss: 88.94|\n",
      "Epoch: 4 Loss: 3198.46 truck_count_loss: 315.51|car_tt_loss: 103.4|car_count_loss: 2662.5|truck_tt_loss: 117.05|\n",
      "Epoch: 5 Loss: 3494.28 truck_count_loss: 315.34|car_tt_loss: 92.67|car_count_loss: 2971.71|truck_tt_loss: 114.55|\n",
      "Epoch: 6 Loss: 3521.53 truck_count_loss: 315.4|car_tt_loss: 101.69|car_count_loss: 2985.42|truck_tt_loss: 119.02|\n",
      "Epoch: 7 Loss: 3527.96 truck_count_loss: 315.25|car_tt_loss: 107.76|car_count_loss: 2978.91|truck_tt_loss: 126.04|\n",
      "Epoch: 8 Loss: 3517.71 truck_count_loss: 315.25|car_tt_loss: 98.38|car_count_loss: 2981.45|truck_tt_loss: 122.62|\n",
      "Epoch: 9 Loss: 3459.24 truck_count_loss: 315.16|car_tt_loss: 160.13|car_count_loss: 2831.11|truck_tt_loss: 152.84|\n",
      "Epoch: 10 Loss: 3404.17 truck_count_loss: 315.15|car_tt_loss: 110.73|car_count_loss: 2834.41|truck_tt_loss: 143.88|\n",
      "Epoch: 11 Loss: 3378.68 truck_count_loss: 315.22|car_tt_loss: 97.39|car_count_loss: 2840.89|truck_tt_loss: 125.17|\n",
      "Epoch: 12 Loss: 3402.85 truck_count_loss: 315.2|car_tt_loss: 140.47|car_count_loss: 2825.93|truck_tt_loss: 121.25|\n",
      "Epoch: 13 Loss: 3364.74 truck_count_loss: 315.63|car_tt_loss: 141.52|car_count_loss: 2786.94|truck_tt_loss: 120.65|\n",
      "Epoch: 14 Loss: 3438.87 truck_count_loss: 315.6|car_tt_loss: 128.65|car_count_loss: 2863.71|truck_tt_loss: 130.91|\n",
      "Epoch: 15 Loss: 3646.61 truck_count_loss: 316.02|car_tt_loss: 249.61|car_count_loss: 2958.29|truck_tt_loss: 122.68|\n",
      "Epoch: 16 Loss: 3569.29 truck_count_loss: 316.59|car_tt_loss: 156.54|car_count_loss: 2969.01|truck_tt_loss: 127.15|\n",
      "Epoch: 17 Loss: 3646.57 truck_count_loss: 316.36|car_tt_loss: 243.83|car_count_loss: 2962.33|truck_tt_loss: 124.05|\n",
      "Epoch: 18 Loss: 3547.61 truck_count_loss: 316.17|car_tt_loss: 167.57|car_count_loss: 2943.37|truck_tt_loss: 120.5|\n",
      "Epoch: 19 Loss: 3501.66 truck_count_loss: 316.3|car_tt_loss: 103.25|car_count_loss: 2944.74|truck_tt_loss: 137.38|\n",
      "Epoch: 20 Loss: 3510.21 truck_count_loss: 316.47|car_tt_loss: 98.41|car_count_loss: 2952.61|truck_tt_loss: 142.73|\n",
      "Epoch: 21 Loss: 3689.96 truck_count_loss: 316.29|car_tt_loss: 239.29|car_count_loss: 3014.25|truck_tt_loss: 120.14|\n",
      "Epoch: 22 Loss: 3653.98 truck_count_loss: 316.5|car_tt_loss: 158.48|car_count_loss: 3068.12|truck_tt_loss: 110.88|\n",
      "Epoch: 23 Loss: 3595.02 truck_count_loss: 316.95|car_tt_loss: 93.45|car_count_loss: 3106.14|truck_tt_loss: 78.47|\n",
      "Epoch: 24 Loss: 3584.09 truck_count_loss: 317.02|car_tt_loss: 91.14|car_count_loss: 3104.0|truck_tt_loss: 71.92|\n",
      "Epoch: 25 Loss: 3689.13 truck_count_loss: 317.18|car_tt_loss: 188.62|car_count_loss: 3096.88|truck_tt_loss: 86.45|\n",
      "Epoch: 26 Loss: 3572.29 truck_count_loss: 317.14|car_tt_loss: 116.48|car_count_loss: 3065.07|truck_tt_loss: 73.6|\n",
      "Epoch: 27 Loss: 3485.25 truck_count_loss: 317.41|car_tt_loss: 87.5|car_count_loss: 3008.45|truck_tt_loss: 71.89|\n",
      "Epoch: 28 Loss: 3480.98 truck_count_loss: 317.45|car_tt_loss: 86.93|car_count_loss: 3007.13|truck_tt_loss: 69.47|\n",
      "Epoch: 29 Loss: 3535.62 truck_count_loss: 317.32|car_tt_loss: 138.77|car_count_loss: 3002.79|truck_tt_loss: 76.74|\n",
      "Epoch: 30 Loss: 3467.27 truck_count_loss: 317.35|car_tt_loss: 88.19|car_count_loss: 2993.11|truck_tt_loss: 68.61|\n",
      "Epoch: 31 Loss: 3440.75 truck_count_loss: 317.26|car_tt_loss: 87.31|car_count_loss: 2966.39|truck_tt_loss: 69.79|\n",
      "Epoch: 32 Loss: 3435.77 truck_count_loss: 317.19|car_tt_loss: 91.74|car_count_loss: 2924.29|truck_tt_loss: 102.55|\n",
      "Epoch: 33 Loss: 3589.57 truck_count_loss: 317.56|car_tt_loss: 102.62|car_count_loss: 3012.54|truck_tt_loss: 156.85|\n",
      "Epoch: 34 Loss: 3573.77 truck_count_loss: 317.53|car_tt_loss: 102.93|car_count_loss: 3005.75|truck_tt_loss: 147.57|\n",
      "Epoch: 35 Loss: 3573.57 truck_count_loss: 317.43|car_tt_loss: 125.78|car_count_loss: 3002.1|truck_tt_loss: 128.26|\n",
      "Epoch: 36 Loss: 3574.36 truck_count_loss: 317.48|car_tt_loss: 122.22|car_count_loss: 3008.5|truck_tt_loss: 126.16|\n",
      "Epoch: 37 Loss: 3575.86 truck_count_loss: 317.41|car_tt_loss: 111.58|car_count_loss: 3006.51|truck_tt_loss: 140.36|\n",
      "Epoch: 38 Loss: 3593.52 truck_count_loss: 317.26|car_tt_loss: 111.64|car_count_loss: 3005.03|truck_tt_loss: 159.59|\n",
      "Epoch: 39 Loss: 3534.61 truck_count_loss: 317.19|car_tt_loss: 111.44|car_count_loss: 2986.29|truck_tt_loss: 119.68|\n",
      "Epoch: 40 Loss: 3567.3 truck_count_loss: 317.45|car_tt_loss: 111.31|car_count_loss: 2993.77|truck_tt_loss: 144.77|\n",
      "Epoch: 41 Loss: 3236.19 truck_count_loss: 318.87|car_tt_loss: 135.24|car_count_loss: 2660.04|truck_tt_loss: 122.04|\n",
      "Epoch: 42 Loss: 3059.9 truck_count_loss: 319.44|car_tt_loss: 144.79|car_count_loss: 2481.65|truck_tt_loss: 114.03|\n",
      "Epoch: 43 Loss: 3044.07 truck_count_loss: 319.34|car_tt_loss: 146.0|car_count_loss: 2486.64|truck_tt_loss: 92.09|\n",
      "Epoch: 44 Loss: 3071.09 truck_count_loss: 319.32|car_tt_loss: 146.91|car_count_loss: 2482.33|truck_tt_loss: 122.53|\n",
      "Epoch: 45 Loss: 3082.01 truck_count_loss: 319.43|car_tt_loss: 148.02|car_count_loss: 2483.78|truck_tt_loss: 130.78|\n",
      "Epoch: 46 Loss: 3062.19 truck_count_loss: 319.38|car_tt_loss: 147.22|car_count_loss: 2480.22|truck_tt_loss: 115.37|\n",
      "Epoch: 47 Loss: 3020.77 truck_count_loss: 319.47|car_tt_loss: 144.18|car_count_loss: 2438.9|truck_tt_loss: 118.22|\n",
      "Epoch: 48 Loss: 3004.01 truck_count_loss: 319.49|car_tt_loss: 144.93|car_count_loss: 2423.19|truck_tt_loss: 116.41|\n",
      "Epoch: 49 Loss: 2997.75 truck_count_loss: 319.51|car_tt_loss: 144.72|car_count_loss: 2426.83|truck_tt_loss: 106.69|\n",
      "Epoch: 50 Loss: 3075.2 truck_count_loss: 319.52|car_tt_loss: 142.27|car_count_loss: 2462.58|truck_tt_loss: 150.82|\n",
      "Epoch: 51 Loss: 3066.5 truck_count_loss: 319.34|car_tt_loss: 141.43|car_count_loss: 2490.05|truck_tt_loss: 115.68|\n",
      "Epoch: 52 Loss: 3068.68 truck_count_loss: 319.32|car_tt_loss: 141.21|car_count_loss: 2488.27|truck_tt_loss: 119.88|\n",
      "Epoch: 53 Loss: 3066.98 truck_count_loss: 319.23|car_tt_loss: 141.77|car_count_loss: 2490.07|truck_tt_loss: 115.91|\n",
      "Epoch: 54 Loss: 3074.55 truck_count_loss: 319.19|car_tt_loss: 141.94|car_count_loss: 2492.48|truck_tt_loss: 120.94|\n",
      "Epoch: 55 Loss: 3080.11 truck_count_loss: 319.19|car_tt_loss: 142.1|car_count_loss: 2487.61|truck_tt_loss: 131.22|\n",
      "Epoch: 56 Loss: 3069.86 truck_count_loss: 319.35|car_tt_loss: 141.36|car_count_loss: 2483.72|truck_tt_loss: 125.43|\n",
      "Epoch: 57 Loss: 3058.19 truck_count_loss: 319.45|car_tt_loss: 140.4|car_count_loss: 2480.52|truck_tt_loss: 117.83|\n",
      "Epoch: 58 Loss: 3045.02 truck_count_loss: 319.43|car_tt_loss: 140.65|car_count_loss: 2472.86|truck_tt_loss: 112.08|\n",
      "Epoch: 59 Loss: 3043.07 truck_count_loss: 319.5|car_tt_loss: 141.32|car_count_loss: 2462.83|truck_tt_loss: 119.41|\n"
     ]
    }
   ],
   "source": [
    "(car_flow, truck_flow, l_list) = dode.estimate_path_flow(max_epoch = 100, car_step_size = 0.01, \n",
    "                                                         truck_step_size = 0.0, car_init_scale = 5, \n",
    "                                                          truck_init_scale = 1, adagrad = False,\n",
    "                                                         delta_car_scale = 0.1, \n",
    "                                                         delta_truck_scale = 0.00000000001)\n",
    "print r2_score(car_flow, true_car_f), r2_score(truck_flow, true_truck_f)"
   ]
  },
  {
   "cell_type": "code",
   "execution_count": null,
   "metadata": {},
   "outputs": [],
   "source": []
  }
 ],
 "metadata": {
  "kernelspec": {
   "display_name": "Python 2",
   "language": "python",
   "name": "python2"
  },
  "language_info": {
   "codemirror_mode": {
    "name": "ipython",
    "version": 2
   },
   "file_extension": ".py",
   "mimetype": "text/x-python",
   "name": "python",
   "nbconvert_exporter": "python",
   "pygments_lexer": "ipython2",
   "version": "2.7.12-final"
  }
 },
 "nbformat": 4,
 "nbformat_minor": 2
}