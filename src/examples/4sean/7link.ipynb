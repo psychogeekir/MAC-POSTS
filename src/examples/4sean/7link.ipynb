{
 "cells": [
  {
   "cell_type": "code",
   "execution_count": 20,
   "source": [
    "%load_ext autoreload\n",
    "%autoreload 2"
   ],
   "outputs": [
    {
     "output_type": "stream",
     "name": "stdout",
     "text": [
      "The autoreload extension is already loaded. To reload it, use:\n",
      "  %reload_ext autoreload\n"
     ]
    }
   ],
   "metadata": {}
  },
  {
   "cell_type": "code",
   "execution_count": 21,
   "source": [
    "import numpy as np\n",
    "import pandas as pd\n",
    "import sys\n",
    "import datetime\n",
    "import os\n",
    "import matplotlib.pyplot as plt\n",
    "import matplotlib\n",
    "import networkx as nx\n",
    "import pickle\n",
    "from collections import OrderedDict\n",
    "import copy\n",
    "from scipy.sparse import csr_matrix\n",
    "from scipy import io\n",
    "import seaborn as sns\n",
    "import joblib\n",
    "# from base import *\n",
    "from joblib import Parallel, delayed\n",
    "import random\n",
    "import scipy"
   ],
   "outputs": [],
   "metadata": {}
  },
  {
   "cell_type": "code",
   "execution_count": 22,
   "source": [
    "import matplotlib.pyplot as plt\n",
    "\n",
    "from matplotlib import colors\n",
    "import matplotlib\n",
    "import six\n",
    "import matplotlib.dates as mdates\n",
    "import datetime\n",
    "import pandas as pd\n",
    "import seaborn as sns\n",
    "sns.set()\n",
    "plt.style.use('seaborn-poster')\n",
    "from sklearn.metrics import r2_score"
   ],
   "outputs": [],
   "metadata": {}
  },
  {
   "cell_type": "code",
   "execution_count": 23,
   "source": [
    "MNM_nb_folder = os.path.join('..', '..', '..', 'side_project', 'network_builder') # MNM_nb, MNM_mcnb\n",
    "sys.path.append(MNM_nb_folder)\n",
    "python_lib_folder = os.path.join('..', '..', 'pylib') # covariance_tree and DODE, sDODE, mcDODE functions\n",
    "sys.path.append(python_lib_folder)"
   ],
   "outputs": [],
   "metadata": {}
  },
  {
   "cell_type": "code",
   "execution_count": 24,
   "source": [
    "import MNMAPI   # main DTA package\n",
    "from MNM_mcnb import MNM_network_builder\n",
    "from mcDODE import MCDODE, mcSPSA  "
   ],
   "outputs": [],
   "metadata": {}
  },
  {
   "cell_type": "code",
   "execution_count": 25,
   "source": [
    "print(os.getcwd())\n",
    "data_folder = os.path.join('/home/qiling/Documents/MAC-POSTS/data/input_files_7link_multiclass_new')"
   ],
   "outputs": [
    {
     "output_type": "stream",
     "name": "stdout",
     "text": [
      "/home/qiling/Documents/MAC-POSTS/src/examples/4sean\n"
     ]
    }
   ],
   "metadata": {}
  },
  {
   "cell_type": "markdown",
   "source": [
    "### Use of network builder"
   ],
   "metadata": {}
  },
  {
   "cell_type": "code",
   "execution_count": 26,
   "source": [
    "nb = MNM_network_builder()  # from MNM_mcnb, for python analysis\n",
    "nb.load_from_folder(data_folder)\n",
    "print(nb)"
   ],
   "outputs": [
    {
     "output_type": "stream",
     "name": "stdout",
     "text": [
      "<MNM_mcnb.MNM_network_builder instance at 0x7f16e47f61e0>\n"
     ]
    }
   ],
   "metadata": {}
  },
  {
   "cell_type": "markdown",
   "source": [
    "### Use of DNL"
   ],
   "metadata": {}
  },
  {
   "cell_type": "code",
   "execution_count": 27,
   "source": [
    "dta = MNMAPI.mcdta_api()\n",
    "# int Mcdta_Api::initialize(std::string folder) in MAC-POSTS/src/pybinder/src/dta_api.cpp\n",
    "# MNM_Dta_Multiclass::MNM_Dta_Multiclass(std::string file_folder) in MAC-POSTS/src/minami/multiclass.cpp\n",
    "dta.initialize(data_folder)  \n",
    "# int Mcdta_Api::run_whole() in MAC-POSTS/src/pybinder/src/dta_api.cpp\n",
    "# int MNM_Dta::loading(bool verbose) in in MAC-POSTS/src/minami/dta.cpp\n",
    "dta.run_whole()  "
   ],
   "outputs": [
    {
     "output_type": "execute_result",
     "data": {
      "text/plain": [
       "0L"
      ]
     },
     "metadata": {},
     "execution_count": 27
    }
   ],
   "metadata": {}
  },
  {
   "cell_type": "code",
   "execution_count": null,
   "source": [],
   "outputs": [],
   "metadata": {}
  },
  {
   "cell_type": "markdown",
   "source": [
    "### MCDODE"
   ],
   "metadata": {}
  },
  {
   "cell_type": "code",
   "execution_count": 28,
   "source": [
    "# nb.dump_to_folder('test')"
   ],
   "outputs": [],
   "metadata": {}
  },
  {
   "cell_type": "code",
   "execution_count": 29,
   "source": [
    "from sklearn.metrics import r2_score\n",
    "from scipy import stats\n",
    "def r2(predictions, targets):\n",
    "    y_bar = np.mean(targets)\n",
    "    # diff = np.minimum(np.abs(predictions - targets), targets)\n",
    "    diff = predictions - targets\n",
    "    ss_e = np.sum(diff ** 2)\n",
    "    ss_t = np.sum((targets) ** 2)\n",
    "    return 1 - ss_e / ss_t\n",
    "\n",
    "def rsquared(x, y):\n",
    "    slope, intercept, r_value, p_value, std_err = stats.linregress(x, y)\n",
    "    return r_value**2\n",
    "\n",
    "def rmse(predictions, targets):\n",
    "    return np.sqrt(((predictions - targets) ** 2).mean())\n",
    "\n",
    "def rmsn(predictions, targets):\n",
    "    return np.sqrt(np.sum((predictions - targets) ** 2) * len(predictions)) / np.sum(targets)"
   ],
   "outputs": [],
   "metadata": {}
  },
  {
   "cell_type": "code",
   "execution_count": 30,
   "source": [
    "observed_link_list = [3, 4, 5, 6]\n",
    "ml_car = 6\n",
    "ml_truck = 5\n",
    "data_dict = dict()\n",
    "num_interval = nb.config.config_dict['DTA']['max_interval']\n",
    "true_car_f = np.random.rand(num_interval * nb.config.config_dict['FIXED']['num_path']) * 300\n",
    "true_truck_f = np.random.rand(num_interval * nb.config.config_dict['FIXED']['num_path']) * 30\n",
    "# true_car_f, true_truck_f, _, _, _, _ = pickle.load(open('final_use.pickle', 'r'))\n",
    "# true_car_x = np.random.rand(num_interval * len(observed_link_list)) * 100\n",
    "# true_truck_x = np.random.rand(num_interval * len(observed_link_list)) * 10\n",
    "# L_car_one = np.random.randint(2, size = (ml_car, len(observed_link_list)))\n",
    "L_car_one = np.array([[1, 0, 0, 1],\n",
    "                      [0, 0, 1, 1],\n",
    "                      [1, 1, 0, 1],\n",
    "                      [1, 0, 1, 1],\n",
    "                      [1, 0, 0, 0],\n",
    "                      [0, 1, 0, 1]])\n",
    "L_truck_one = np.array([[1, 0, 0, 1],\n",
    "                        [0, 0, 0, 1],\n",
    "                        [1, 1, 0, 1],\n",
    "                        [1, 0, 1, 0],\n",
    "                        [0, 1, 0, 1]])\n",
    "# L_truck_one = np.random.randint(2, size = (ml_truck, len(observed_link_list)))\n",
    "L_car = csr_matrix(scipy.linalg.block_diag(*[L_car_one for i in range(num_interval)]))\n",
    "L_truck = csr_matrix(scipy.linalg.block_diag(*[L_truck_one for i in range(num_interval)]))\n",
    "\n",
    "config = dict()\n",
    "config['use_car_link_flow'] = True\n",
    "config['use_truck_link_flow'] = True\n",
    "config['use_car_link_tt'] = True\n",
    "config['use_truck_link_tt'] = True\n",
    "config['car_count_agg'] = True\n",
    "config['truck_count_agg'] = True\n",
    "config['link_car_flow_weight'] = 1\n",
    "config['link_truck_flow_weight'] = 1\n",
    "config['link_car_tt_weight'] = 0.1\n",
    "config['link_truck_tt_weight'] = 0.1\n",
    "config['num_data'] = 8\n",
    "config['observed_links'] = observed_link_list\n",
    "config['paths_list'] = range(nb.config.config_dict['FIXED']['num_path'])\n",
    "\n",
    "\n",
    "config['compute_car_link_flow_loss'] = True\n",
    "config['compute_truck_link_flow_loss'] = True\n",
    "config['compute_car_link_tt_loss'] = True\n",
    "config['compute_truck_link_tt_loss'] = True\n",
    "\n",
    "dode = MCDODE(nb, config)\n",
    "dta = dode._run_simulation(true_car_f, true_truck_f)\n",
    "(true_dar_car, true_dar_truck) = dode.get_dar(dta, true_car_f, true_truck_f)\n",
    "\n",
    "noise_level = 0.1\n",
    "true_car_x = true_dar_car.dot(true_car_f)\n",
    "true_truck_x = true_dar_truck.dot(true_truck_f)\n",
    "data_dict['car_count_agg_L_list'] = list()\n",
    "data_dict['truck_count_agg_L_list'] = list()\n",
    "data_dict['car_link_flow'] = []\n",
    "data_dict['truck_link_flow'] = []\n",
    "data_dict['car_link_tt'] = []\n",
    "data_dict['truck_link_tt'] = []\n",
    "for i in range(config['num_data']):\n",
    "    true_car_x = dta.get_link_car_inflow(np.arange(0, dode.num_loading_interval, dode.ass_freq), \n",
    "                  np.arange(0, dode.num_loading_interval, dode.ass_freq) + dode.ass_freq).flatten(order = 'F')\n",
    "    true_truck_x = dta.get_link_truck_inflow(np.arange(0, dode.num_loading_interval, dode.ass_freq), \n",
    "                  np.arange(0, dode.num_loading_interval, dode.ass_freq) + dode.ass_freq).flatten(order = 'F')\n",
    "#     true_car_tt = dta.get_car_link_tt_robust(np.arange(0, dode.num_loading_interval, dode.ass_freq),\n",
    "#                              np.arange(0, dode.num_loading_interval, dode.ass_freq) + dode.ass_freq).flatten(order = 'F')\n",
    "    true_car_tt = dta.get_car_link_tt(np.arange(0, dode.num_loading_interval, dode.ass_freq)).flatten(order = 'F')\n",
    "    true_truck_tt = dta.get_truck_link_tt(np.arange(0, dode.num_loading_interval, dode.ass_freq)).flatten(order = 'F')\n",
    "    m_car = L_car.dot(true_car_x)\n",
    "    m_truck = L_truck.dot(true_truck_x)\n",
    "    data_dict['car_count_agg_L_list'].append(L_car)\n",
    "    data_dict['truck_count_agg_L_list'].append(L_truck)\n",
    "    data_dict['car_link_flow'].append(m_car + np.random.uniform(-1, 1, m_car.shape) * noise_level * m_car)\n",
    "    data_dict['truck_link_flow'].append(m_truck + np.random.uniform(-1, 1, m_truck.shape) * noise_level * m_truck)\n",
    "    data_dict['car_link_tt'].append(true_car_tt + np.random.uniform(-1, 1, true_car_tt.shape) * noise_level * true_car_tt)\n",
    "    data_dict['truck_link_tt'].append(true_truck_tt + np.random.uniform(-1, 1, true_truck_tt.shape) * noise_level * true_truck_tt)"
   ],
   "outputs": [],
   "metadata": {}
  },
  {
   "cell_type": "code",
   "execution_count": 31,
   "source": [
    "# SPSA\n",
    "# dode = mcSPSA(nb, config)\n",
    "# Computational graph\n",
    "dode = MCDODE(nb, config)"
   ],
   "outputs": [],
   "metadata": {}
  },
  {
   "cell_type": "code",
   "execution_count": 32,
   "source": [
    "dode.add_data(data_dict)"
   ],
   "outputs": [],
   "metadata": {}
  },
  {
   "cell_type": "code",
   "execution_count": 33,
   "source": [
    "# nb.update_demand_path2(true_car_f, true_truck_f)\n",
    "# nb.dump_to_folder(\"one\")\n",
    "# nb.update_demand_path2(car_flow, truck_flow)\n",
    "# nb.dump_to_folder(\"two\")"
   ],
   "outputs": [],
   "metadata": {}
  },
  {
   "cell_type": "code",
   "execution_count": 34,
   "source": [
    "# (car_flow, truck_flow) = dode.init_path_flow(car_scale = 10, truck_scale = 1)"
   ],
   "outputs": [],
   "metadata": {}
  },
  {
   "cell_type": "code",
   "execution_count": 35,
   "source": [
    "# pickle.dump((car_flow, truck_flow, None), open('test.pickle', 'w'))"
   ],
   "outputs": [],
   "metadata": {}
  },
  {
   "cell_type": "code",
   "execution_count": 37,
   "source": [
    "# SPSA\n",
    "# (car_flow, truck_flow, l_list) = dode.estimate_path_flow(max_epoch = 100, car_step_size = 0.1, \n",
    "#                                                          truck_step_size = 0.01, car_init_scale = 100, \n",
    "#                                                          truck_init_scale = 10, adagrad = False,\n",
    "#                                                          delta_car_scale = 0.1, \n",
    "#                                                          delta_truck_scale = 0.01)\n",
    "# Computational graph\n",
    "(car_flow, truck_flow, l_list) = dode.estimate_path_flow(max_epoch = 100, car_step_size = 0.1, \n",
    "                                                         truck_step_size = 0.01, car_init_scale = 100, \n",
    "                                                         truck_init_scale = 10, adagrad = True)\n",
    "print r2_score(car_flow, true_car_f), r2_score(truck_flow, true_truck_f)"
   ],
   "outputs": [
    {
     "output_type": "stream",
     "name": "stdout",
     "text": [
      "('Epoch:', 0, 'Loss:', 2464.75, 'truck_count_loss: 183.54|car_tt_loss: 5.3|car_count_loss: 2269.24|truck_tt_loss: 6.66|')\n",
      "('Epoch:', 1, 'Loss:', 2453.9, 'truck_count_loss: 183.06|car_tt_loss: 5.24|car_count_loss: 2258.72|truck_tt_loss: 6.87|')\n",
      "('Epoch:', 2, 'Loss:', 2447.82, 'truck_count_loss: 182.86|car_tt_loss: 5.36|car_count_loss: 2253.13|truck_tt_loss: 6.47|')\n",
      "('Epoch:', 3, 'Loss:', 2437.23, 'truck_count_loss: 181.59|car_tt_loss: 5.38|car_count_loss: 2243.65|truck_tt_loss: 6.62|')\n",
      "('Epoch:', 4, 'Loss:', 2430.37, 'truck_count_loss: 181.56|car_tt_loss: 5.33|car_count_loss: 2237.3|truck_tt_loss: 6.18|')\n",
      "('Epoch:', 5, 'Loss:', 2422.02, 'truck_count_loss: 180.93|car_tt_loss: 5.36|car_count_loss: 2229.06|truck_tt_loss: 6.67|')\n",
      "('Epoch:', 6, 'Loss:', 2412.72, 'truck_count_loss: 180.6|car_tt_loss: 5.23|car_count_loss: 2220.49|truck_tt_loss: 6.39|')\n",
      "('Epoch:', 7, 'Loss:', 2404.48, 'truck_count_loss: 179.35|car_tt_loss: 5.23|car_count_loss: 2213.5|truck_tt_loss: 6.4|')\n",
      "('Epoch:', 8, 'Loss:', 2396.26, 'truck_count_loss: 178.77|car_tt_loss: 5.26|car_count_loss: 2205.96|truck_tt_loss: 6.27|')\n",
      "('Epoch:', 9, 'Loss:', 2390.1, 'truck_count_loss: 178.63|car_tt_loss: 5.22|car_count_loss: 2199.46|truck_tt_loss: 6.8|')\n",
      "('Epoch:', 10, 'Loss:', 2379.7, 'truck_count_loss: 177.82|car_tt_loss: 5.25|car_count_loss: 2190.33|truck_tt_loss: 6.3|')\n",
      "('Epoch:', 11, 'Loss:', 2372.47, 'truck_count_loss: 177.58|car_tt_loss: 5.28|car_count_loss: 2183.26|truck_tt_loss: 6.35|')\n",
      "('Epoch:', 12, 'Loss:', 2362.26, 'truck_count_loss: 176.39|car_tt_loss: 5.22|car_count_loss: 2174.28|truck_tt_loss: 6.37|')\n",
      "('Epoch:', 13, 'Loss:', 2354.37, 'truck_count_loss: 176.2|car_tt_loss: 5.33|car_count_loss: 2166.37|truck_tt_loss: 6.46|')\n",
      "('Epoch:', 14, 'Loss:', 2348.79, 'truck_count_loss: 175.64|car_tt_loss: 5.25|car_count_loss: 2161.37|truck_tt_loss: 6.52|')\n",
      "('Epoch:', 15, 'Loss:', 2337.3, 'truck_count_loss: 174.88|car_tt_loss: 5.21|car_count_loss: 2150.99|truck_tt_loss: 6.21|')\n",
      "('Epoch:', 16, 'Loss:', 2332.21, 'truck_count_loss: 174.22|car_tt_loss: 5.26|car_count_loss: 2146.45|truck_tt_loss: 6.28|')\n",
      "('Epoch:', 17, 'Loss:', 2323.85, 'truck_count_loss: 173.49|car_tt_loss: 5.23|car_count_loss: 2138.84|truck_tt_loss: 6.29|')\n",
      "('Epoch:', 18, 'Loss:', 2311.25, 'truck_count_loss: 172.99|car_tt_loss: 5.16|car_count_loss: 2126.94|truck_tt_loss: 6.16|')\n",
      "('Epoch:', 19, 'Loss:', 2305.24, 'truck_count_loss: 172.66|car_tt_loss: 5.17|car_count_loss: 2121.26|truck_tt_loss: 6.14|')\n",
      "('Epoch:', 20, 'Loss:', 2298.66, 'truck_count_loss: 171.71|car_tt_loss: 5.17|car_count_loss: 2115.74|truck_tt_loss: 6.04|')\n",
      "('Epoch:', 21, 'Loss:', 2287.73, 'truck_count_loss: 171.01|car_tt_loss: 5.18|car_count_loss: 2105.23|truck_tt_loss: 6.31|')\n",
      "('Epoch:', 22, 'Loss:', 2279.34, 'truck_count_loss: 170.4|car_tt_loss: 5.14|car_count_loss: 2097.61|truck_tt_loss: 6.19|')\n",
      "('Epoch:', 23, 'Loss:', 2270.31, 'truck_count_loss: 170.33|car_tt_loss: 5.16|car_count_loss: 2088.38|truck_tt_loss: 6.45|')\n",
      "('Epoch:', 24, 'Loss:', 2264.36, 'truck_count_loss: 169.48|car_tt_loss: 5.09|car_count_loss: 2083.42|truck_tt_loss: 6.36|')\n",
      "('Epoch:', 25, 'Loss:', 2252.62, 'truck_count_loss: 168.9|car_tt_loss: 5.15|car_count_loss: 2072.14|truck_tt_loss: 6.42|')\n",
      "('Epoch:', 26, 'Loss:', 2246.77, 'truck_count_loss: 167.91|car_tt_loss: 5.24|car_count_loss: 2067.27|truck_tt_loss: 6.35|')\n",
      "('Epoch:', 27, 'Loss:', 2236.4, 'truck_count_loss: 167.7|car_tt_loss: 5.16|car_count_loss: 2056.8|truck_tt_loss: 6.75|')\n",
      "('Epoch:', 28, 'Loss:', 2230.7, 'truck_count_loss: 167.47|car_tt_loss: 5.05|car_count_loss: 2051.82|truck_tt_loss: 6.37|')\n",
      "('Epoch:', 29, 'Loss:', 2224.4, 'truck_count_loss: 166.67|car_tt_loss: 5.04|car_count_loss: 2046.1|truck_tt_loss: 6.59|')\n",
      "('Epoch:', 30, 'Loss:', 2216.37, 'truck_count_loss: 166.32|car_tt_loss: 5.0|car_count_loss: 2038.93|truck_tt_loss: 6.13|')\n",
      "('Epoch:', 31, 'Loss:', 2208.08, 'truck_count_loss: 165.66|car_tt_loss: 5.11|car_count_loss: 2030.63|truck_tt_loss: 6.69|')\n",
      "('Epoch:', 32, 'Loss:', 2197.93, 'truck_count_loss: 165.08|car_tt_loss: 5.07|car_count_loss: 2021.57|truck_tt_loss: 6.21|')\n",
      "('Epoch:', 33, 'Loss:', 2188.59, 'truck_count_loss: 164.38|car_tt_loss: 4.95|car_count_loss: 2012.51|truck_tt_loss: 6.75|')\n",
      "('Epoch:', 34, 'Loss:', 2182.25, 'truck_count_loss: 163.85|car_tt_loss: 4.94|car_count_loss: 2007.21|truck_tt_loss: 6.24|')\n",
      "('Epoch:', 35, 'Loss:', 2173.52, 'truck_count_loss: 163.09|car_tt_loss: 4.94|car_count_loss: 1999.24|truck_tt_loss: 6.25|')\n",
      "('Epoch:', 36, 'Loss:', 2165.42, 'truck_count_loss: 162.1|car_tt_loss: 4.87|car_count_loss: 1992.09|truck_tt_loss: 6.36|')\n",
      "('Epoch:', 37, 'Loss:', 2158.26, 'truck_count_loss: 161.5|car_tt_loss: 4.91|car_count_loss: 1985.75|truck_tt_loss: 6.11|')\n",
      "('Epoch:', 38, 'Loss:', 2149.46, 'truck_count_loss: 161.63|car_tt_loss: 4.93|car_count_loss: 1976.53|truck_tt_loss: 6.37|')\n",
      "('Epoch:', 39, 'Loss:', 2141.51, 'truck_count_loss: 160.76|car_tt_loss: 4.84|car_count_loss: 1969.46|truck_tt_loss: 6.46|')\n",
      "('Epoch:', 40, 'Loss:', 2134.66, 'truck_count_loss: 160.26|car_tt_loss: 4.86|car_count_loss: 1962.97|truck_tt_loss: 6.57|')\n",
      "('Epoch:', 41, 'Loss:', 2123.78, 'truck_count_loss: 159.45|car_tt_loss: 4.87|car_count_loss: 1953.19|truck_tt_loss: 6.26|')\n",
      "('Epoch:', 42, 'Loss:', 2113.89, 'truck_count_loss: 158.84|car_tt_loss: 4.85|car_count_loss: 1943.56|truck_tt_loss: 6.64|')\n",
      "('Epoch:', 43, 'Loss:', 2111.41, 'truck_count_loss: 158.27|car_tt_loss: 4.89|car_count_loss: 1941.74|truck_tt_loss: 6.51|')\n",
      "('Epoch:', 44, 'Loss:', 2102.68, 'truck_count_loss: 157.88|car_tt_loss: 4.71|car_count_loss: 1933.72|truck_tt_loss: 6.36|')\n",
      "('Epoch:', 45, 'Loss:', 2093.77, 'truck_count_loss: 157.11|car_tt_loss: 4.85|car_count_loss: 1925.6|truck_tt_loss: 6.2|')\n",
      "('Epoch:', 46, 'Loss:', 2087.9, 'truck_count_loss: 157.16|car_tt_loss: 4.78|car_count_loss: 1919.33|truck_tt_loss: 6.63|')\n",
      "('Epoch:', 47, 'Loss:', 2077.6, 'truck_count_loss: 156.08|car_tt_loss: 4.59|car_count_loss: 1910.51|truck_tt_loss: 6.42|')\n",
      "('Epoch:', 48, 'Loss:', 2067.24, 'truck_count_loss: 155.01|car_tt_loss: 4.7|car_count_loss: 1900.94|truck_tt_loss: 6.58|')\n",
      "('Epoch:', 49, 'Loss:', 2061.22, 'truck_count_loss: 155.49|car_tt_loss: 4.58|car_count_loss: 1894.52|truck_tt_loss: 6.64|')\n",
      "('Epoch:', 50, 'Loss:', 2052.88, 'truck_count_loss: 154.55|car_tt_loss: 4.74|car_count_loss: 1886.97|truck_tt_loss: 6.63|')\n",
      "('Epoch:', 51, 'Loss:', 2045.67, 'truck_count_loss: 154.04|car_tt_loss: 4.73|car_count_loss: 1880.19|truck_tt_loss: 6.72|')\n",
      "('Epoch:', 52, 'Loss:', 2037.69, 'truck_count_loss: 153.39|car_tt_loss: 4.7|car_count_loss: 1872.67|truck_tt_loss: 6.93|')\n",
      "('Epoch:', 53, 'Loss:', 2031.1, 'truck_count_loss: 152.9|car_tt_loss: 4.49|car_count_loss: 1867.26|truck_tt_loss: 6.45|')\n",
      "('Epoch:', 54, 'Loss:', 2019.7, 'truck_count_loss: 151.71|car_tt_loss: 4.67|car_count_loss: 1856.78|truck_tt_loss: 6.55|')\n",
      "('Epoch:', 55, 'Loss:', 2012.32, 'truck_count_loss: 151.63|car_tt_loss: 4.54|car_count_loss: 1849.71|truck_tt_loss: 6.44|')\n",
      "('Epoch:', 56, 'Loss:', 2007.49, 'truck_count_loss: 150.98|car_tt_loss: 4.75|car_count_loss: 1845.1|truck_tt_loss: 6.66|')\n",
      "('Epoch:', 57, 'Loss:', 1995.39, 'truck_count_loss: 150.28|car_tt_loss: 4.59|car_count_loss: 1834.6|truck_tt_loss: 5.92|')\n",
      "('Epoch:', 58, 'Loss:', 1990.18, 'truck_count_loss: 149.83|car_tt_loss: 4.6|car_count_loss: 1829.0|truck_tt_loss: 6.76|')\n",
      "('Epoch:', 59, 'Loss:', 1983.12, 'truck_count_loss: 149.42|car_tt_loss: 4.63|car_count_loss: 1822.26|truck_tt_loss: 6.81|')\n",
      "('Epoch:', 60, 'Loss:', 1974.25, 'truck_count_loss: 148.33|car_tt_loss: 4.46|car_count_loss: 1815.23|truck_tt_loss: 6.23|')\n",
      "('Epoch:', 61, 'Loss:', 1966.94, 'truck_count_loss: 148.18|car_tt_loss: 4.56|car_count_loss: 1807.86|truck_tt_loss: 6.34|')\n",
      "('Epoch:', 62, 'Loss:', 1957.54, 'truck_count_loss: 147.53|car_tt_loss: 4.49|car_count_loss: 1798.78|truck_tt_loss: 6.74|')\n",
      "('Epoch:', 63, 'Loss:', 1949.87, 'truck_count_loss: 146.91|car_tt_loss: 4.6|car_count_loss: 1792.44|truck_tt_loss: 5.92|')\n",
      "('Epoch:', 64, 'Loss:', 1944.71, 'truck_count_loss: 146.73|car_tt_loss: 4.61|car_count_loss: 1786.79|truck_tt_loss: 6.57|')\n",
      "('Epoch:', 65, 'Loss:', 1934.16, 'truck_count_loss: 146.17|car_tt_loss: 4.42|car_count_loss: 1776.4|truck_tt_loss: 7.17|')\n",
      "('Epoch:', 66, 'Loss:', 1925.99, 'truck_count_loss: 145.17|car_tt_loss: 4.46|car_count_loss: 1769.93|truck_tt_loss: 6.44|')\n",
      "('Epoch:', 67, 'Loss:', 1920.19, 'truck_count_loss: 145.06|car_tt_loss: 4.42|car_count_loss: 1763.8|truck_tt_loss: 6.91|')\n",
      "('Epoch:', 68, 'Loss:', 1911.93, 'truck_count_loss: 144.65|car_tt_loss: 4.47|car_count_loss: 1756.43|truck_tt_loss: 6.37|')\n",
      "('Epoch:', 69, 'Loss:', 1905.79, 'truck_count_loss: 143.66|car_tt_loss: 4.46|car_count_loss: 1751.08|truck_tt_loss: 6.59|')\n",
      "('Epoch:', 70, 'Loss:', 1896.57, 'truck_count_loss: 143.53|car_tt_loss: 4.42|car_count_loss: 1742.04|truck_tt_loss: 6.58|')\n",
      "('Epoch:', 71, 'Loss:', 1885.4, 'truck_count_loss: 142.52|car_tt_loss: 4.32|car_count_loss: 1732.15|truck_tt_loss: 6.41|')\n",
      "('Epoch:', 72, 'Loss:', 1879.37, 'truck_count_loss: 142.26|car_tt_loss: 4.38|car_count_loss: 1726.21|truck_tt_loss: 6.52|')\n",
      "('Epoch:', 73, 'Loss:', 1872.92, 'truck_count_loss: 141.82|car_tt_loss: 4.38|car_count_loss: 1720.64|truck_tt_loss: 6.08|')\n",
      "('Epoch:', 74, 'Loss:', 1865.42, 'truck_count_loss: 141.05|car_tt_loss: 4.37|car_count_loss: 1713.88|truck_tt_loss: 6.11|')\n",
      "('Epoch:', 75, 'Loss:', 1859.51, 'truck_count_loss: 140.56|car_tt_loss: 4.35|car_count_loss: 1708.04|truck_tt_loss: 6.56|')\n",
      "('Epoch:', 76, 'Loss:', 1851.25, 'truck_count_loss: 139.55|car_tt_loss: 4.32|car_count_loss: 1701.02|truck_tt_loss: 6.36|')\n",
      "('Epoch:', 77, 'Loss:', 1841.91, 'truck_count_loss: 139.4|car_tt_loss: 4.28|car_count_loss: 1690.98|truck_tt_loss: 7.25|')\n",
      "('Epoch:', 78, 'Loss:', 1836.29, 'truck_count_loss: 138.31|car_tt_loss: 4.46|car_count_loss: 1687.38|truck_tt_loss: 6.14|')\n",
      "('Epoch:', 79, 'Loss:', 1826.73, 'truck_count_loss: 138.35|car_tt_loss: 4.32|car_count_loss: 1677.44|truck_tt_loss: 6.62|')\n",
      "('Epoch:', 80, 'Loss:', 1821.36, 'truck_count_loss: 137.66|car_tt_loss: 4.36|car_count_loss: 1673.28|truck_tt_loss: 6.05|')\n",
      "('Epoch:', 81, 'Loss:', 1806.42, 'truck_count_loss: 137.01|car_tt_loss: 4.22|car_count_loss: 1658.5|truck_tt_loss: 6.69|')\n",
      "('Epoch:', 82, 'Loss:', 1804.7, 'truck_count_loss: 136.42|car_tt_loss: 4.25|car_count_loss: 1657.68|truck_tt_loss: 6.34|')\n",
      "('Epoch:', 83, 'Loss:', 1795.3, 'truck_count_loss: 135.51|car_tt_loss: 4.27|car_count_loss: 1648.95|truck_tt_loss: 6.57|')\n",
      "('Epoch:', 84, 'Loss:', 1793.67, 'truck_count_loss: 135.73|car_tt_loss: 4.39|car_count_loss: 1647.26|truck_tt_loss: 6.28|')\n",
      "('Epoch:', 85, 'Loss:', 1780.36, 'truck_count_loss: 134.79|car_tt_loss: 4.25|car_count_loss: 1634.53|truck_tt_loss: 6.79|')\n",
      "('Epoch:', 86, 'Loss:', 1774.78, 'truck_count_loss: 134.76|car_tt_loss: 4.26|car_count_loss: 1629.52|truck_tt_loss: 6.24|')\n",
      "('Epoch:', 87, 'Loss:', 1765.32, 'truck_count_loss: 133.62|car_tt_loss: 4.3|car_count_loss: 1621.01|truck_tt_loss: 6.39|')\n",
      "('Epoch:', 88, 'Loss:', 1758.58, 'truck_count_loss: 133.43|car_tt_loss: 4.25|car_count_loss: 1614.29|truck_tt_loss: 6.61|')\n",
      "('Epoch:', 89, 'Loss:', 1749.97, 'truck_count_loss: 132.87|car_tt_loss: 4.17|car_count_loss: 1606.76|truck_tt_loss: 6.17|')\n",
      "('Epoch:', 90, 'Loss:', 1742.72, 'truck_count_loss: 132.24|car_tt_loss: 4.16|car_count_loss: 1600.26|truck_tt_loss: 6.07|')\n",
      "('Epoch:', 91, 'Loss:', 1736.51, 'truck_count_loss: 131.38|car_tt_loss: 4.27|car_count_loss: 1594.0|truck_tt_loss: 6.85|')\n",
      "('Epoch:', 92, 'Loss:', 1733.18, 'truck_count_loss: 130.31|car_tt_loss: 4.18|car_count_loss: 1591.3|truck_tt_loss: 7.4|')\n",
      "('Epoch:', 93, 'Loss:', 1721.42, 'truck_count_loss: 130.4|car_tt_loss: 4.09|car_count_loss: 1580.43|truck_tt_loss: 6.51|')\n",
      "('Epoch:', 94, 'Loss:', 1715.42, 'truck_count_loss: 129.47|car_tt_loss: 4.1|car_count_loss: 1575.3|truck_tt_loss: 6.55|')\n",
      "('Epoch:', 95, 'Loss:', 1709.18, 'truck_count_loss: 129.33|car_tt_loss: 4.2|car_count_loss: 1569.57|truck_tt_loss: 6.09|')\n",
      "('Epoch:', 96, 'Loss:', 1698.44, 'truck_count_loss: 128.75|car_tt_loss: 4.03|car_count_loss: 1559.06|truck_tt_loss: 6.6|')\n",
      "('Epoch:', 97, 'Loss:', 1693.86, 'truck_count_loss: 128.25|car_tt_loss: 4.21|car_count_loss: 1555.06|truck_tt_loss: 6.35|')\n",
      "('Epoch:', 98, 'Loss:', 1683.97, 'truck_count_loss: 127.99|car_tt_loss: 4.04|car_count_loss: 1545.17|truck_tt_loss: 6.78|')\n",
      "('Epoch:', 99, 'Loss:', 1678.1, 'truck_count_loss: 127.3|car_tt_loss: 4.16|car_count_loss: 1540.23|truck_tt_loss: 6.41|')\n",
      "-8.854157838465419 -9.895182530270088\n"
     ]
    }
   ],
   "metadata": {}
  },
  {
   "cell_type": "code",
   "execution_count": null,
   "source": [],
   "outputs": [],
   "metadata": {}
  }
 ],
 "metadata": {
  "kernelspec": {
   "name": "python3",
   "display_name": "Python 2.7.18 64-bit ('mac_posts': conda)"
  },
  "language_info": {
   "mimetype": "text/x-python",
   "nbconvert_exporter": "python",
   "name": "python",
   "pygments_lexer": "ipython2",
   "version": "2.7.18",
   "file_extension": ".py",
   "codemirror_mode": {
    "version": 2,
    "name": "ipython"
   }
  },
  "interpreter": {
   "hash": "2b5a2be2fabc70dcc46d6ab9fd0971448c0d451a6d368e6969d42856549ea446"
  }
 },
 "nbformat": 4,
 "nbformat_minor": 2
}