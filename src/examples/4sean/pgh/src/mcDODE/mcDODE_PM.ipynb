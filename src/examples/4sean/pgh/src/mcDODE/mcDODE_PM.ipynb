{
 "cells": [
  {
   "cell_type": "code",
   "execution_count": 1,
   "metadata": {},
   "outputs": [],
   "source": [
    "%load_ext autoreload\n",
    "%autoreload 2"
   ]
  },
  {
   "cell_type": "code",
   "execution_count": 2,
   "metadata": {},
   "outputs": [],
   "source": [
    "import numpy as np\n",
    "import pandas as pd\n",
    "import sys\n",
    "import datetime\n",
    "import os\n",
    "import matplotlib.pyplot as plt\n",
    "import matplotlib\n",
    "import networkx as nx\n",
    "import pickle\n",
    "from collections import OrderedDict\n",
    "import copy\n",
    "from scipy.sparse import csr_matrix\n",
    "from scipy import io\n",
    "import seaborn as sns\n",
    "import joblib\n",
    "# from base import *\n",
    "from joblib import Parallel, delayed\n",
    "import random\n",
    "import time"
   ]
  },
  {
   "cell_type": "code",
   "execution_count": 3,
   "metadata": {},
   "outputs": [],
   "source": [
    "MNM_nb_folder = os.path.join('..', '..','..', '..','..', '..', 'side_project', 'network_builder')\n",
    "sys.path.append(MNM_nb_folder)\n",
    "python_lib_folder = os.path.join('..', '..','..', '..','..', 'pylib')\n",
    "sys.path.append(python_lib_folder)"
   ]
  },
  {
   "cell_type": "code",
   "execution_count": 4,
   "metadata": {},
   "outputs": [
    {
     "name": "stderr",
     "output_type": "stream",
     "text": [
      "/home/lemma/.conda/envs/python2/lib/python2.7/site-packages/bidict/compat.py:33: UserWarning: Python 2 support will be dropped in a future release.\n",
      "  warn('Python 2 support will be dropped in a future release.')\n"
     ]
    }
   ],
   "source": [
    "from MNMAPI import *\n",
    "from MNM_mcnb import *\n",
    "from mcDODE import *"
   ]
  },
  {
   "cell_type": "code",
   "execution_count": 5,
   "metadata": {},
   "outputs": [],
   "source": [
    "origin_spc_folder = os.path.join('..' , '..', 'data', 'input_files_MckeesRocks_SPC_PM')\n",
    "cache_folder = os.path.join('cahce_PM')"
   ]
  },
  {
   "cell_type": "code",
   "execution_count": 6,
   "metadata": {},
   "outputs": [],
   "source": [
    "nb = MNM_network_builder()"
   ]
  },
  {
   "cell_type": "code",
   "execution_count": 7,
   "metadata": {},
   "outputs": [],
   "source": [
    "nb.load_from_folder(origin_spc_folder)"
   ]
  },
  {
   "cell_type": "code",
   "execution_count": 8,
   "metadata": {},
   "outputs": [
    {
     "data": {
      "text/plain": [
       "[DTA]\n",
       "network_name = Snap_graph\n",
       "unit_time = 5\n",
       "total_interval = 4320\n",
       "assign_frq = 180\n",
       "start_assign_interval = 0\n",
       "max_interval = 24\n",
       "flow_scalar = 2\n",
       "num_of_link = 16144\n",
       "num_of_node = 6317\n",
       "num_of_O = 290\n",
       "num_of_D = 290\n",
       "OD_pair = 14084\n",
       "routing_type = Hybrid\n",
       "adaptive_ratio = 0.6\n",
       "\n",
       "[STAT]\n",
       "rec_mode = LRn\n",
       "rec_mode_para = 2\n",
       "rec_folder = record\n",
       "rec_volume = 0\n",
       "volume_load_automatic_rec = 0\n",
       "volume_record_automatic_rec = 0\n",
       "rec_tt = 1\n",
       "tt_load_automatic_rec = 0\n",
       "tt_record_automatic_rec = 0\n",
       "\n",
       "[FIXED]\n",
       "path_file_name = path_table\n",
       "num_path = 14111\n",
       "buffer_length = 24\n",
       "choice_portion = Buffer\n",
       "route_frq = 180\n",
       "\n",
       "[ADAPTIVE]\n",
       "route_frq = 180"
      ]
     },
     "execution_count": 8,
     "metadata": {},
     "output_type": "execute_result"
    }
   ],
   "source": [
    "nb.config"
   ]
  },
  {
   "cell_type": "code",
   "execution_count": 9,
   "metadata": {},
   "outputs": [],
   "source": [
    "[m_car, L_car, m_truck, L_truck, \n",
    " m_spd_car, m_spd_truck, observed_link_list] = pickle.load(\n",
    "                                    open('../generate_observed_data/mc_PM_data.pickle', 'rb'))"
   ]
  },
  {
   "cell_type": "code",
   "execution_count": 10,
   "metadata": {},
   "outputs": [],
   "source": [
    "data_dict = dict()\n",
    "data_dict['car_count_agg_L_list'] = [L_car]\n",
    "data_dict['truck_count_agg_L_list'] = [L_truck]\n",
    "data_dict['car_link_flow'] = [m_car]\n",
    "data_dict['truck_link_flow'] = [m_truck]\n",
    "data_dict['car_link_tt'] = [m_spd_car]\n",
    "data_dict['truck_link_tt'] = [m_spd_truck]"
   ]
  },
  {
   "cell_type": "code",
   "execution_count": 11,
   "metadata": {},
   "outputs": [],
   "source": [
    "config = dict()\n",
    "config['use_car_link_flow'] = True\n",
    "config['use_car_link_tt'] = False\n",
    "config['use_truck_link_flow'] = True\n",
    "config['use_truck_link_tt'] = False\n",
    "config['car_count_agg'] = True\n",
    "config['truck_count_agg'] = True\n",
    "config['link_car_flow_weight'] = 1\n",
    "config['link_truck_flow_weight'] = 1\n",
    "config['link_car_tt_weight'] = 0.01\n",
    "config['link_truck_tt_weight'] = 0.01\n",
    "config['num_data'] = 1\n",
    "config['observed_links'] = observed_link_list\n",
    "config['paths_list'] = range(nb.config.config_dict['FIXED']['num_path'])\n",
    "config['compute_car_link_flow_loss'] = True\n",
    "config['compute_truck_link_flow_loss'] = True\n",
    "config['compute_car_link_tt_loss'] = True\n",
    "config['compute_truck_link_tt_loss'] = True"
   ]
  },
  {
   "cell_type": "code",
   "execution_count": 12,
   "metadata": {},
   "outputs": [],
   "source": [
    "dode = MCDODE(nb, config)"
   ]
  },
  {
   "cell_type": "code",
   "execution_count": 13,
   "metadata": {},
   "outputs": [],
   "source": [
    "dode.add_data(data_dict)"
   ]
  },
  {
   "cell_type": "code",
   "execution_count": null,
   "metadata": {
    "scrolled": false
   },
   "outputs": [
    {
     "name": "stdout",
     "output_type": "stream",
     "text": [
      "Epoch: 0 Loss: 33401.57 truck_count_loss: 2397.02|car_tt_loss: 341.95|car_count_loss: 30035.84|truck_tt_loss: 626.76|\n"
     ]
    }
   ],
   "source": [
    "dode.estimate_path_flow(max_epoch = 100, car_step_size = 0.1, \n",
    "                       truck_step_size = 0.001,\n",
    "                       car_init_scale = 0.01, truck_init_scale = 0.001,\n",
    "                       adagrad = True, \n",
    "                       store_folder = 'pm_mcpath_storage', hashcode = 1,\n",
    "                       use_file_as_init = \"pm_mcpath_storage/third_small_99/96iteration.pickle\")"
   ]
  },
  {
   "cell_type": "code",
   "execution_count": null,
   "metadata": {},
   "outputs": [],
   "source": []
  }
 ],
 "metadata": {
  "kernelspec": {
   "display_name": "Python 2",
   "language": "python",
   "name": "python2"
  },
  "language_info": {
   "codemirror_mode": {
    "name": "ipython",
    "version": 2
   },
   "file_extension": ".py",
   "mimetype": "text/x-python",
   "name": "python",
   "nbconvert_exporter": "python",
   "pygments_lexer": "ipython2",
   "version": "2.7.18"
  }
 },
 "nbformat": 4,
 "nbformat_minor": 2
}
