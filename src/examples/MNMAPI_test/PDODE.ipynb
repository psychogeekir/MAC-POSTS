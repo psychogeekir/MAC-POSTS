{
 "cells": [
  {
   "cell_type": "code",
   "execution_count": 1,
   "metadata": {},
   "outputs": [],
   "source": [
    "%load_ext autoreload\n",
    "%autoreload 2"
   ]
  },
  {
   "cell_type": "code",
   "execution_count": 2,
   "metadata": {},
   "outputs": [],
   "source": [
    "import os\n",
    "import sys\n",
    "import numpy as np\n",
    "import matplotlib.pyplot as plt\n",
    "import hashlib\n",
    "import time\n",
    "import shutil"
   ]
  },
  {
   "cell_type": "code",
   "execution_count": 3,
   "metadata": {},
   "outputs": [],
   "source": [
    "MNM_nb_folder = os.path.join('..', '..', '..', 'side_project', 'network_builder')\n",
    "sys.path.append(MNM_nb_folder)\n",
    "python_lib_folder = os.path.join('..', '..', 'pylib')\n",
    "sys.path.append(python_lib_folder)"
   ]
  },
  {
   "cell_type": "code",
   "execution_count": 4,
   "metadata": {},
   "outputs": [],
   "source": [
    "from MNM_nb import *\n",
    "import MNMAPI\n",
    "from DODE import *"
   ]
  },
  {
   "cell_type": "code",
   "execution_count": 5,
   "metadata": {},
   "outputs": [],
   "source": [
    "data_folder = os.path.join('..', '..', '..', 'data', 'input_files_2link_fix')"
   ]
  },
  {
   "cell_type": "code",
   "execution_count": 6,
   "metadata": {},
   "outputs": [
    {
     "name": "stdout",
     "output_type": "stream",
     "text": [
      "MNM_config\n",
      "MNM_pathtable\n"
     ]
    }
   ],
   "source": [
    "nb = MNM_network_builder()\n",
    "nb.load_from_folder(data_folder)"
   ]
  },
  {
   "cell_type": "code",
   "execution_count": 7,
   "metadata": {},
   "outputs": [],
   "source": [
    "config = dict()\n",
    "config['use_link_flow'] = True\n",
    "config['use_link_tt'] = False\n",
    "config['link_flow_weight'] = 1\n",
    "config['link_tt_weight'] = 1\n",
    "config['num_data'] = 10\n",
    "config['observed_links'] = [3]\n",
    "config['paths_list'] = [0, 1]"
   ]
  },
  {
   "cell_type": "code",
   "execution_count": 8,
   "metadata": {},
   "outputs": [],
   "source": [
    "x_real = np.random.rand(10) * 10\n",
    "data_dict = dict()\n",
    "data_dict['link_flow'] = list()\n",
    "for i in range(config['num_data']):\n",
    "    link_df = pd.DataFrame(index = range(10), columns = [3], data = x_real + np.random.randn(10) / 10)\n",
    "    data_dict['link_flow'].append(link_df)"
   ]
  },
  {
   "cell_type": "code",
   "execution_count": 9,
   "metadata": {},
   "outputs": [],
   "source": [
    "pdode = PDODE(nb, config)\n",
    "dode = DODE(nb, config)"
   ]
  },
  {
   "cell_type": "code",
   "execution_count": 10,
   "metadata": {},
   "outputs": [],
   "source": [
    "pdode.add_data(data_dict)\n",
    "dode.add_data(data_dict)"
   ]
  },
  {
   "cell_type": "code",
   "execution_count": 11,
   "metadata": {},
   "outputs": [
    {
     "name": "stdout",
     "output_type": "stream",
     "text": [
      "Epoch: 0 Loss: 11.757367303234277\n",
      "Epoch: 1 Loss: 6.105099608082027\n",
      "Epoch: 2 Loss: 11.180692640740254\n",
      "Epoch: 3 Loss: 6.677313105214476\n",
      "Epoch: 4 Loss: 3.869331699516697\n",
      "Epoch: 5 Loss: 2.486360505056447\n",
      "Epoch: 6 Loss: 1.6651075479942985\n",
      "Epoch: 7 Loss: 1.1924608247069366\n",
      "Epoch: 8 Loss: 0.8333362800341699\n",
      "Epoch: 9 Loss: 0.7168863693060363\n",
      "Epoch: 10 Loss: 0.5065839896182022\n",
      "Epoch: 11 Loss: 0.4768904708970232\n",
      "Epoch: 12 Loss: 0.39347287008214255\n",
      "Epoch: 13 Loss: 0.42071290537449213\n",
      "Epoch: 14 Loss: 0.36095012490540784\n",
      "Epoch: 15 Loss: 0.3371443229910015\n",
      "Epoch: 16 Loss: 0.31264477287982484\n",
      "Epoch: 17 Loss: 0.3331970529385715\n",
      "Epoch: 18 Loss: 0.3593775470437759\n",
      "Epoch: 19 Loss: 0.4989425682402042\n",
      "Epoch: 20 Loss: 0.4132201401798438\n",
      "Epoch: 21 Loss: 0.37806338662229155\n",
      "Epoch: 22 Loss: 0.4365488345297976\n",
      "Epoch: 23 Loss: 0.3804573278979297\n",
      "Epoch: 24 Loss: 0.365278918748501\n",
      "Epoch: 25 Loss: 0.3432329223048109\n",
      "Epoch: 26 Loss: 0.3792432303568204\n",
      "Epoch: 27 Loss: 0.37524321109755765\n",
      "Epoch: 28 Loss: 0.32179554654771964\n",
      "Epoch: 29 Loss: 0.33059736220988156\n",
      "Epoch: 30 Loss: 0.3472325331090653\n",
      "Epoch: 31 Loss: 0.3547670697150167\n",
      "Epoch: 32 Loss: 0.34747289125642894\n",
      "Epoch: 33 Loss: 0.3540745223312799\n",
      "Epoch: 34 Loss: 0.37577322144716463\n",
      "Epoch: 35 Loss: 0.37525112904828994\n",
      "Epoch: 36 Loss: 0.3402693184809466\n",
      "Epoch: 37 Loss: 0.3047596777922713\n",
      "Epoch: 38 Loss: 0.3794259723774299\n",
      "Epoch: 39 Loss: 0.3901918403588561\n",
      "Epoch: 40 Loss: 0.38098709287160204\n",
      "Epoch: 41 Loss: 0.3523684422702173\n",
      "Epoch: 42 Loss: 0.33790135128459003\n",
      "Epoch: 43 Loss: 0.37517532112641117\n",
      "Epoch: 44 Loss: 0.3494914489668049\n",
      "Epoch: 45 Loss: 0.36176165726682574\n",
      "Epoch: 46 Loss: 0.444552488948173\n",
      "Epoch: 47 Loss: 0.3697697166132738\n",
      "Epoch: 48 Loss: 0.35671853179955926\n",
      "Epoch: 49 Loss: 0.33144770831883796\n",
      "Epoch: 50 Loss: 0.38315622978659175\n",
      "Epoch: 51 Loss: 0.35407215102698564\n",
      "Epoch: 52 Loss: 0.3482268996528237\n",
      "Epoch: 53 Loss: 0.32420493738701406\n",
      "Epoch: 54 Loss: 0.3274464386149548\n",
      "Epoch: 55 Loss: 0.34440070514561355\n",
      "Epoch: 56 Loss: 0.3443508103212029\n",
      "Epoch: 57 Loss: 0.3374031663279221\n",
      "Epoch: 58 Loss: 0.32993275964423396\n",
      "Epoch: 59 Loss: 0.3325690620147271\n",
      "Epoch: 60 Loss: 0.33778628101665187\n",
      "Epoch: 61 Loss: 0.2894673735002823\n",
      "Epoch: 62 Loss: 0.34432309576785874\n",
      "Epoch: 63 Loss: 0.34172756154307227\n",
      "Epoch: 64 Loss: 0.31392100396051215\n",
      "Epoch: 65 Loss: 0.3470246395163222\n",
      "Epoch: 66 Loss: 0.343925217574902\n",
      "Epoch: 67 Loss: 0.33781754558472743\n",
      "Epoch: 68 Loss: 0.3197899229190644\n",
      "Epoch: 69 Loss: 0.3293367869816669\n",
      "Epoch: 70 Loss: 0.3391405147566099\n",
      "Epoch: 71 Loss: 0.3182324537929512\n",
      "Epoch: 72 Loss: 0.33037186879184394\n",
      "Epoch: 73 Loss: 0.32766490095394\n",
      "Epoch: 74 Loss: 0.3409326613582582\n",
      "Epoch: 75 Loss: 0.31927308712923896\n",
      "Epoch: 76 Loss: 0.33494355158359956\n",
      "Epoch: 77 Loss: 0.32595654060921175\n",
      "Epoch: 78 Loss: 0.33238302381705986\n",
      "Epoch: 79 Loss: 0.3225415410686051\n",
      "Epoch: 80 Loss: 0.316845875914521\n",
      "Epoch: 81 Loss: 0.30620748908428774\n",
      "Epoch: 82 Loss: 0.3177588130106591\n",
      "Epoch: 83 Loss: 0.3328307228647379\n",
      "Epoch: 84 Loss: 0.3192134889577847\n",
      "Epoch: 85 Loss: 0.30609084030800926\n",
      "Epoch: 86 Loss: 0.3490848274422416\n",
      "Epoch: 87 Loss: 0.2781510351510491\n",
      "Epoch: 88 Loss: 0.3266080659447076\n",
      "Epoch: 89 Loss: 0.3110496777100453\n",
      "Epoch: 90 Loss: 0.3220256546173966\n",
      "Epoch: 91 Loss: 0.3304223673097162\n",
      "Epoch: 92 Loss: 0.33550336854713153\n",
      "Epoch: 93 Loss: 0.33125396633992343\n",
      "Epoch: 94 Loss: 0.2892591773432455\n",
      "Epoch: 95 Loss: 0.2899970802939178\n",
      "Epoch: 96 Loss: 0.3111017843739722\n",
      "Epoch: 97 Loss: 0.3150072460306284\n",
      "Epoch: 98 Loss: 0.3260448410165583\n",
      "Epoch: 99 Loss: 0.3428483225637852\n"
     ]
    },
    {
     "data": {
      "text/plain": [
       "(array([5.40164715e+00, 2.70439462e+00, 6.27366121e+00, 3.14871879e+00,\n",
       "        2.38527757e+00, 3.49794527e+00, 3.19509465e+00, 3.76041346e+00,\n",
       "        4.47018764e+00, 1.00000000e-03, 2.20960100e+00, 1.14742017e+00,\n",
       "        2.90420076e+00, 1.25127084e+00, 2.32957895e+00, 4.28185964e-01,\n",
       "        4.54313930e+00, 2.08732752e+00, 4.81900554e+00, 3.70213947e+00]),\n",
       " array([0.00281628, 0.00748984, 0.00146018, 0.00193123, 0.001     ,\n",
       "        0.00120962, 0.0027003 , 0.00658194, 0.01090673, 0.001     ,\n",
       "        0.00229645, 0.01012391, 0.01269252, 0.00187091, 0.01138728,\n",
       "        0.00368271, 0.01130361, 0.00889937, 0.00337555, 0.00224088]))"
      ]
     },
     "execution_count": 11,
     "metadata": {},
     "output_type": "execute_result"
    }
   ],
   "source": [
    "pdode.estimate_path_flow(init_scale = 0.1, step_size = 0.1, max_epoch = 100, adagrad = False)"
   ]
  },
  {
   "cell_type": "code",
   "execution_count": 12,
   "metadata": {
    "scrolled": true
   },
   "outputs": [
    {
     "name": "stdout",
     "output_type": "stream",
     "text": [
      "Epoch: 0 Loss: 11.803197113728075\n",
      "Epoch: 1 Loss: 2.8256341277673656\n",
      "Epoch: 2 Loss: 1.2936437767839513\n",
      "Epoch: 3 Loss: 0.5490860891657268\n",
      "Epoch: 4 Loss: 0.40393733242768476\n",
      "Epoch: 5 Loss: 0.3302143070763968\n",
      "Epoch: 6 Loss: 0.35228404176499595\n",
      "Epoch: 7 Loss: 0.344429351560066\n",
      "Epoch: 8 Loss: 0.35191967363773663\n",
      "Epoch: 9 Loss: 0.3295708873021804\n",
      "Epoch: 10 Loss: 0.3179565886912724\n",
      "Epoch: 11 Loss: 0.32322197698013305\n",
      "Epoch: 12 Loss: 0.33412861744175815\n",
      "Epoch: 13 Loss: 0.31268030619491377\n",
      "Epoch: 14 Loss: 0.34835948222591745\n",
      "Epoch: 15 Loss: 0.356549259621039\n",
      "Epoch: 16 Loss: 0.31419312321664605\n",
      "Epoch: 17 Loss: 0.32239106599408995\n",
      "Epoch: 18 Loss: 0.29268271171860205\n",
      "Epoch: 19 Loss: 0.31593018224636377\n",
      "Epoch: 20 Loss: 0.31187296149224897\n",
      "Epoch: 21 Loss: 0.3112993497162563\n",
      "Epoch: 22 Loss: 0.314628231721596\n",
      "Epoch: 23 Loss: 0.33426551101274427\n",
      "Epoch: 24 Loss: 0.3263976967004353\n",
      "Epoch: 25 Loss: 0.35158624110813463\n",
      "Epoch: 26 Loss: 0.2926200451181104\n",
      "Epoch: 27 Loss: 0.3243952483380793\n",
      "Epoch: 28 Loss: 0.33673943432958603\n",
      "Epoch: 29 Loss: 0.321773232597408\n",
      "Epoch: 30 Loss: 0.36485021861776723\n",
      "Epoch: 31 Loss: 0.33241748612534455\n",
      "Epoch: 32 Loss: 0.3254353483898903\n",
      "Epoch: 33 Loss: 0.32735614342730596\n",
      "Epoch: 34 Loss: 0.3240683024646809\n",
      "Epoch: 35 Loss: 0.327667232891293\n",
      "Epoch: 36 Loss: 0.3201014454915653\n",
      "Epoch: 37 Loss: 0.3120191802913558\n",
      "Epoch: 38 Loss: 0.31669456855366723\n",
      "Epoch: 39 Loss: 0.34005206161578966\n",
      "Epoch: 40 Loss: 0.3117655590545357\n",
      "Epoch: 41 Loss: 0.3236998410044317\n",
      "Epoch: 42 Loss: 0.35886347200597674\n",
      "Epoch: 43 Loss: 0.3407841300130474\n",
      "Epoch: 44 Loss: 0.35218448900485744\n",
      "Epoch: 45 Loss: 0.33334135112424507\n",
      "Epoch: 46 Loss: 0.3468442913201143\n",
      "Epoch: 47 Loss: 0.3222676570531931\n",
      "Epoch: 48 Loss: 0.322148303820515\n",
      "Epoch: 49 Loss: 0.33993713493448435\n",
      "Epoch: 50 Loss: 0.3505954450762702\n",
      "Epoch: 51 Loss: 0.3283752935014982\n",
      "Epoch: 52 Loss: 0.35040299195347974\n",
      "Epoch: 53 Loss: 0.3394177244960096\n",
      "Epoch: 54 Loss: 0.3229346241067416\n",
      "Epoch: 55 Loss: 0.3066902784370019\n",
      "Epoch: 56 Loss: 0.33823805807060076\n",
      "Epoch: 57 Loss: 0.35059873031213273\n",
      "Epoch: 58 Loss: 0.32948489787502727\n",
      "Epoch: 59 Loss: 0.3060968552061367\n",
      "Epoch: 60 Loss: 0.36059681072316724\n",
      "Epoch: 61 Loss: 0.32536923102329923\n",
      "Epoch: 62 Loss: 0.32694813759215174\n",
      "Epoch: 63 Loss: 0.32962660391363563\n",
      "Epoch: 64 Loss: 0.2940025235917546\n",
      "Epoch: 65 Loss: 0.3151610992438482\n",
      "Epoch: 66 Loss: 0.34085675454067943\n",
      "Epoch: 67 Loss: 0.3456291849869009\n",
      "Epoch: 68 Loss: 0.3380167341534761\n",
      "Epoch: 69 Loss: 0.3285477740582635\n",
      "Epoch: 70 Loss: 0.3221424202050768\n",
      "Epoch: 71 Loss: 0.36056369437216035\n",
      "Epoch: 72 Loss: 0.3094009425847242\n",
      "Epoch: 73 Loss: 0.3496168230707276\n",
      "Epoch: 74 Loss: 0.30407476354141216\n",
      "Epoch: 75 Loss: 0.33006711000966743\n",
      "Epoch: 76 Loss: 0.3313363960568546\n",
      "Epoch: 77 Loss: 0.34376126509690985\n",
      "Epoch: 78 Loss: 0.3334197250050474\n",
      "Epoch: 79 Loss: 0.3081570321652406\n",
      "Epoch: 80 Loss: 0.36602884425561794\n",
      "Epoch: 81 Loss: 0.3689867916605032\n",
      "Epoch: 82 Loss: 0.3236536865961617\n",
      "Epoch: 83 Loss: 0.35131861117214436\n",
      "Epoch: 84 Loss: 0.3545557515944596\n",
      "Epoch: 85 Loss: 0.3144964638616911\n",
      "Epoch: 86 Loss: 0.3270182578281995\n",
      "Epoch: 87 Loss: 0.3465232955887167\n",
      "Epoch: 88 Loss: 0.3240326033628952\n",
      "Epoch: 89 Loss: 0.33053643203753963\n",
      "Epoch: 90 Loss: 0.3441735555585501\n",
      "Epoch: 91 Loss: 0.33283331910221\n",
      "Epoch: 92 Loss: 0.3084275641811651\n",
      "Epoch: 93 Loss: 0.34672899675435703\n",
      "Epoch: 94 Loss: 0.3599415096864461\n",
      "Epoch: 95 Loss: 0.3342378937169406\n",
      "Epoch: 96 Loss: 0.32920011197764254\n",
      "Epoch: 97 Loss: 0.32871106546008916\n",
      "Epoch: 98 Loss: 0.3191947603752492\n",
      "Epoch: 99 Loss: 0.3414176442780213\n"
     ]
    },
    {
     "data": {
      "text/plain": [
       "array([3.52609934, 4.58479025, 3.90191907, 5.51168109, 5.83482026,\n",
       "       0.01207602, 2.24052631, 4.71973635, 2.64941212, 1.81314136,\n",
       "       0.37650081, 2.97249126, 1.92548783, 2.22222206, 1.89524841,\n",
       "       0.86851698, 3.46995914, 3.16587885, 1.14838629, 7.37887042])"
      ]
     },
     "execution_count": 12,
     "metadata": {},
     "output_type": "execute_result"
    }
   ],
   "source": [
    "dode.estimate_path_flow(init_scale = 0.1, step_size = 0.1, max_epoch = 100, adagrad = False)"
   ]
  },
  {
   "cell_type": "code",
   "execution_count": null,
   "metadata": {},
   "outputs": [],
   "source": []
  }
 ],
 "metadata": {
  "kernelspec": {
   "display_name": "Python 2",
   "language": "python",
   "name": "python2"
  },
  "language_info": {
   "codemirror_mode": {
    "name": "ipython",
    "version": 2
   },
   "file_extension": ".py",
   "mimetype": "text/x-python",
   "name": "python",
   "nbconvert_exporter": "python",
   "pygments_lexer": "ipython2",
   "version": "2.7.10"
  }
 },
 "nbformat": 4,
 "nbformat_minor": 2
}
