{
 "cells": [
  {
   "cell_type": "code",
   "execution_count": 1,
   "metadata": {},
   "outputs": [],
   "source": [
    "%load_ext autoreload\n",
    "%autoreload 2"
   ]
  },
  {
   "cell_type": "code",
   "execution_count": 2,
   "metadata": {},
   "outputs": [],
   "source": [
    "import os\n",
    "import sys\n",
    "import numpy as np\n",
    "import matplotlib.pyplot as plt\n",
    "import hashlib\n",
    "import time\n",
    "import shutil"
   ]
  },
  {
   "cell_type": "code",
   "execution_count": 3,
   "metadata": {},
   "outputs": [],
   "source": [
    "MNM_nb_folder = os.path.join('..', '..', '..', 'side_project', 'network_builder')\n",
    "sys.path.append(MNM_nb_folder)\n",
    "python_lib_folder = os.path.join('..', '..', 'pylib')\n",
    "sys.path.append(python_lib_folder)"
   ]
  },
  {
   "cell_type": "code",
   "execution_count": 4,
   "metadata": {},
   "outputs": [],
   "source": [
    "from MNM_nb import *\n",
    "import MNMAPI\n",
    "from DODE import *"
   ]
  },
  {
   "cell_type": "code",
   "execution_count": 5,
   "metadata": {},
   "outputs": [],
   "source": [
    "data_folder = os.path.join('..', '..', '..', 'data', 'input_files_2link_fix')"
   ]
  },
  {
   "cell_type": "code",
   "execution_count": 6,
   "metadata": {},
   "outputs": [
    {
     "name": "stdout",
     "output_type": "stream",
     "text": [
      "MNM_config\n",
      "MNM_pathtable\n"
     ]
    }
   ],
   "source": [
    "nb = MNM_network_builder()\n",
    "nb.load_from_folder(data_folder)"
   ]
  },
  {
   "cell_type": "code",
   "execution_count": 7,
   "metadata": {},
   "outputs": [
    {
     "data": {
      "text/plain": [
       "[MNM_dlink, ID: 1, type: PQ, length: 1.0 miles, ffs: 99999.0 mi/h,\n",
       " MNM_dlink, ID: 2, type: PQ, length: 1.0 miles, ffs: 99999.0 mi/h,\n",
       " MNM_dlink, ID: 3, type: CTM, length: 0.8 miles, ffs: 45.0 mi/h,\n",
       " MNM_dlink, ID: 4, type: PQ, length: 1.0 miles, ffs: 99999.0 mi/h]"
      ]
     },
     "execution_count": 7,
     "metadata": {},
     "output_type": "execute_result"
    }
   ],
   "source": [
    "nb.link_list"
   ]
  },
  {
   "cell_type": "code",
   "execution_count": 20,
   "metadata": {},
   "outputs": [],
   "source": [
    "config = dict()\n",
    "config['use_link_flow'] = True\n",
    "config['use_link_tt'] = False\n",
    "config['link_flow_weight'] = 1\n",
    "config['link_tt_weight'] = 1\n",
    "config['num_data'] = 100\n",
    "config['observed_links'] = [3]\n",
    "config['paths_list'] = [0, 1]"
   ]
  },
  {
   "cell_type": "code",
   "execution_count": 21,
   "metadata": {},
   "outputs": [],
   "source": [
    "x_real = np.random.rand(10) * 10"
   ]
  },
  {
   "cell_type": "code",
   "execution_count": 22,
   "metadata": {},
   "outputs": [
    {
     "data": {
      "text/plain": [
       "array([-0.06828435, -0.04552275, -0.12447108,  0.21165218,  0.08223441,\n",
       "        0.01864844, -0.00866736, -0.01863017, -0.04745245,  0.27119328])"
      ]
     },
     "execution_count": 22,
     "metadata": {},
     "output_type": "execute_result"
    }
   ],
   "source": [
    "np.random.randn(10) / 10"
   ]
  },
  {
   "cell_type": "code",
   "execution_count": 23,
   "metadata": {},
   "outputs": [],
   "source": [
    "data_dict = dict()\n",
    "data_dict['link_flow'] = list()\n",
    "for i in range(config['num_data']):\n",
    "    link_df = pd.DataFrame(index = range(10), columns = [3], data = x_real + np.random.randn(10) / 10)\n",
    "    data_dict['link_flow'].append(link_df)"
   ]
  },
  {
   "cell_type": "code",
   "execution_count": 24,
   "metadata": {},
   "outputs": [],
   "source": [
    "dode = DODE(nb, config)"
   ]
  },
  {
   "cell_type": "code",
   "execution_count": 25,
   "metadata": {},
   "outputs": [],
   "source": [
    "dode.add_data(data_dict)"
   ]
  },
  {
   "cell_type": "code",
   "execution_count": null,
   "metadata": {},
   "outputs": [],
   "source": [
    "start = time.time()\n",
    "dode.estimate_path_flow_mp(adagrad = True, n_process = 1)\n",
    "end = time.time()\n",
    "print(end - start)"
   ]
  },
  {
   "cell_type": "code",
   "execution_count": null,
   "metadata": {},
   "outputs": [],
   "source": [
    "start = time.time()\n",
    "dode.estimate_path_flow(adagrad = True)\n",
    "end = time.time()\n",
    "print(end - start)"
   ]
  },
  {
   "cell_type": "code",
   "execution_count": null,
   "metadata": {},
   "outputs": [],
   "source": []
  },
  {
   "cell_type": "code",
   "execution_count": 21,
   "metadata": {},
   "outputs": [
    {
     "data": {
      "text/plain": [
       "[array([0, 1]), array([2, 3]), array([4])]"
      ]
     },
     "execution_count": 21,
     "metadata": {},
     "output_type": "execute_result"
    }
   ],
   "source": []
  },
  {
   "cell_type": "markdown",
   "metadata": {},
   "source": [
    "## SR41"
   ]
  },
  {
   "cell_type": "code",
   "execution_count": 5,
   "metadata": {},
   "outputs": [],
   "source": [
    "data_folder = os.path.join('..', '..', '..', 'data', 'input_files_SR41_fix')"
   ]
  },
  {
   "cell_type": "code",
   "execution_count": 6,
   "metadata": {},
   "outputs": [
    {
     "name": "stdout",
     "output_type": "stream",
     "text": [
      "MNM_config\n",
      "MNM_pathtable\n"
     ]
    }
   ],
   "source": [
    "nb = MNM_network_builder()\n",
    "nb.load_from_folder(data_folder)"
   ]
  },
  {
   "cell_type": "code",
   "execution_count": 7,
   "metadata": {},
   "outputs": [
    {
     "data": {
      "text/plain": [
       "[DTA]\n",
       "network_name = Snap_graph\n",
       "total_interval = 3000\n",
       "unit_time = 5\n",
       "assign_frq = 180\n",
       "start_assign_interval = 0\n",
       "max_interval = 6\n",
       "flow_scalar = 10\n",
       "num_of_link = 2065\n",
       "num_of_node = 1441\n",
       "num_of_O = 174\n",
       "num_of_D = 174\n",
       "OD_pair = 7110\n",
       "routing_type = Fixed\n",
       "\n",
       "[STAT]\n",
       "rec_mode = LRn\n",
       "rec_mode_para = 2\n",
       "rec_folder = record\n",
       "rec_volume = 0\n",
       "volume_load_automatic_rec = 0\n",
       "volume_record_automatic_rec = 0\n",
       "rec_tt = 0\n",
       "tt_load_automatic_rec = 0\n",
       "tt_record_automatic_rec = 0\n",
       "\n",
       "[FIXED]\n",
       "path_file_name = path_table\n",
       "num_path = 39561\n",
       "choice_portion = Buffer\n",
       "route_frq = 180"
      ]
     },
     "execution_count": 7,
     "metadata": {},
     "output_type": "execute_result"
    }
   ],
   "source": [
    "nb.config"
   ]
  },
  {
   "cell_type": "code",
   "execution_count": 8,
   "metadata": {},
   "outputs": [],
   "source": [
    "whole_observable_list = list(map(lambda x: x.ID, filter(lambda x: x.ffs < 1000, nb.link_list)))"
   ]
  },
  {
   "cell_type": "code",
   "execution_count": 9,
   "metadata": {},
   "outputs": [],
   "source": [
    "obserable_list = list(filter(lambda x: np.random.rand() < 0.2, whole_observable_list))"
   ]
  },
  {
   "cell_type": "code",
   "execution_count": 10,
   "metadata": {},
   "outputs": [],
   "source": [
    "paths_list = range(39561)"
   ]
  },
  {
   "cell_type": "code",
   "execution_count": 11,
   "metadata": {},
   "outputs": [],
   "source": [
    "config = dict()\n",
    "config['use_link_flow'] = True\n",
    "config['use_link_tt'] = False\n",
    "config['link_flow_weight'] = 1\n",
    "config['link_tt_weight'] = 1\n",
    "config['num_data'] = 4\n",
    "config['observed_links'] = obserable_list\n",
    "config['paths_list'] = paths_list"
   ]
  },
  {
   "cell_type": "code",
   "execution_count": 12,
   "metadata": {},
   "outputs": [],
   "source": [
    "x_real = np.random.rand(nb.config.config_dict['DTA']['max_interval'], len(obserable_list) ) * 100"
   ]
  },
  {
   "cell_type": "code",
   "execution_count": 13,
   "metadata": {},
   "outputs": [],
   "source": [
    "data_dict = dict()\n",
    "data_dict['link_flow'] = list()\n",
    "for i in range(config['num_data']):\n",
    "    link_df = pd.DataFrame(index = range(nb.config.config_dict['DTA']['max_interval']), \n",
    "                       columns = obserable_list, data = x_real + \n",
    "                        np.random.randn(nb.config.config_dict['DTA']['max_interval'], len(obserable_list)) / 10)\n",
    "    data_dict['link_flow'].append(link_df)"
   ]
  },
  {
   "cell_type": "code",
   "execution_count": 47,
   "metadata": {},
   "outputs": [],
   "source": [
    "# data_dict = dict()\n",
    "# link_df = pd.DataFrame(index = range(nb.config.config_dict['DTA']['max_interval']), \n",
    "#                        columns = obserable_list, data = x_real)\n",
    "# data_dict['link_flow'] = [link_df]"
   ]
  },
  {
   "cell_type": "code",
   "execution_count": 14,
   "metadata": {},
   "outputs": [],
   "source": [
    "dode = DODE(nb, config)"
   ]
  },
  {
   "cell_type": "code",
   "execution_count": 15,
   "metadata": {},
   "outputs": [],
   "source": [
    "dode.add_data(data_dict)"
   ]
  },
  {
   "cell_type": "code",
   "execution_count": 30,
   "metadata": {},
   "outputs": [
    {
     "name": "stdout",
     "output_type": "stream",
     "text": [
      "2\n",
      "1\n",
      "3\n",
      "0\n",
      "Epoch: 0 Loss: 7776.002312674043\n",
      "2\n",
      "1\n",
      "3\n",
      "0\n",
      "Epoch: 1 Loss: 8682.001243518547\n",
      "2\n",
      "1\n",
      "0\n",
      "3\n",
      "Epoch: 2 Loss: 8408.099015633667\n",
      "0\n",
      "1\n",
      "2\n",
      "3\n",
      "Epoch: 3 Loss: 8001.8622263638845\n",
      "3\n",
      "2\n",
      "1\n",
      "0\n",
      "Epoch: 4 Loss: 7609.498557668632\n",
      "3\n",
      "1\n",
      "0\n",
      "2\n",
      "Epoch: 5 Loss: 7270.369996858141\n",
      "1\n",
      "0\n",
      "3\n",
      "2\n",
      "Epoch: 6 Loss: 7454.819608290462\n",
      "0\n",
      "2\n",
      "3\n",
      "1\n",
      "Epoch: 7 Loss: 7368.319316118843\n",
      "0\n",
      "1\n",
      "3\n",
      "2\n",
      "Epoch: 8 Loss: 6224.911382603075\n",
      "0\n",
      "2\n",
      "1\n",
      "3\n",
      "Epoch: 9 Loss: 5432.113571285203\n",
      "4358.43633008\n"
     ]
    }
   ],
   "source": [
    "start = time.time()\n",
    "dode.estimate_path_flow(max_epoch = 10)\n",
    "end = time.time()\n",
    "print(end - start)"
   ]
  },
  {
   "cell_type": "code",
   "execution_count": 29,
   "metadata": {},
   "outputs": [
    {
     "name": "stdout",
     "output_type": "stream",
     "text": [
      "Epoch: 0 Loss: 2272.7760501968687\n",
      "Epoch: 1 Loss: 2060.3656239354605\n",
      "Epoch: 2 Loss: 1859.1707008887604\n",
      "Epoch: 3 Loss: 1729.2520199387402\n",
      "Epoch: 4 Loss: 1690.4164316232714\n",
      "Epoch: 5 Loss: 1613.5831552144905\n",
      "Epoch: 6 Loss: 1606.2572004619888\n",
      "Epoch: 7 Loss: 1558.161609474343\n",
      "Epoch: 8 Loss: 1562.2161446160223\n",
      "Epoch: 9 Loss: 1522.7658074557448\n",
      "182.438901901\n"
     ]
    }
   ],
   "source": [
    "start = time.time()\n",
    "dode.estimate_path_flow_mp(max_epoch = 10, adagrad = True, n_process = 4)\n",
    "end = time.time()\n",
    "print(end - start)"
   ]
  },
  {
   "cell_type": "code",
   "execution_count": null,
   "metadata": {},
   "outputs": [],
   "source": []
  },
  {
   "cell_type": "code",
   "execution_count": null,
   "metadata": {},
   "outputs": [],
   "source": []
  },
  {
   "cell_type": "code",
   "execution_count": 25,
   "metadata": {},
   "outputs": [
    {
     "name": "stdout",
     "output_type": "stream",
     "text": [
      "['QCPbH', 'OOK72', 'S7iwj', '0ex67']\n"
     ]
    }
   ],
   "source": [
    "import random\n",
    "import string\n",
    "# Define an output queue\n",
    "output = mp.Queue()\n",
    "\n",
    "# define a example function\n",
    "def rand_string(length, output):\n",
    "    \"\"\" Generates a random string of numbers, lower- and uppercase chars. \"\"\"\n",
    "    rand_str = ''.join(random.choice(\n",
    "                        string.ascii_lowercase\n",
    "                        + string.ascii_uppercase\n",
    "                        + string.digits)\n",
    "                   for i in range(length))\n",
    "    output.put(rand_str)\n",
    "\n",
    "# Setup a list of processes that we want to run\n",
    "processes = [mp.Process(target=rand_string, args=(5, output)) for x in range(4)]\n",
    "\n",
    "# Run processes\n",
    "for p in processes:\n",
    "    p.start()\n",
    "\n",
    "    \n",
    "# Get process results from the output queue\n",
    "results = [output.get() for p in processes]\n",
    "\n",
    "# Exit the completed processes\n",
    "for p in processes:\n",
    "    p.join()\n",
    "\n",
    "    \n",
    "\n",
    "\n",
    "\n",
    "print(results)"
   ]
  },
  {
   "cell_type": "code",
   "execution_count": null,
   "metadata": {},
   "outputs": [],
   "source": []
  },
  {
   "cell_type": "code",
   "execution_count": null,
   "metadata": {},
   "outputs": [],
   "source": [
    "f_e = dode.init_path_flow()"
   ]
  },
  {
   "cell_type": "code",
   "execution_count": null,
   "metadata": {},
   "outputs": [],
   "source": [
    "hash = hashlib.sha1()\n",
    "hash.update(str(time.time()))\n",
    "new_folder = str(hash.hexdigest())\n",
    "nb.update_demand_path(f_e)\n",
    "nb.dump_to_folder(new_folder)\n",
    "a = MNMAPI.dta_api()\n",
    "a.initialize(new_folder)\n",
    "# shutil.rmtree(new_folder)\n",
    "a.register_links(obserable_list)\n",
    "a.register_paths(paths_list)\n",
    "a.install_cc()\n",
    "a.install_cc_tree()\n",
    "a.run_whole()"
   ]
  },
  {
   "cell_type": "code",
   "execution_count": 1,
   "metadata": {},
   "outputs": [
    {
     "ename": "NameError",
     "evalue": "name 'nb' is not defined",
     "output_type": "error",
     "traceback": [
      "\u001b[0;31m---------------------------------------------------------------------------\u001b[0m",
      "\u001b[0;31mNameError\u001b[0m                                 Traceback (most recent call last)",
      "\u001b[0;32m<ipython-input-1-7a499a2d6a78>\u001b[0m in \u001b[0;36m<module>\u001b[0;34m()\u001b[0m\n\u001b[0;32m----> 1\u001b[0;31m \u001b[0mnb\u001b[0m\u001b[0;34m.\u001b[0m\u001b[0mdemand\u001b[0m\u001b[0;34m\u001b[0m\u001b[0m\n\u001b[0m",
      "\u001b[0;31mNameError\u001b[0m: name 'nb' is not defined"
     ]
    }
   ],
   "source": [
    "nb.demand"
   ]
  },
  {
   "cell_type": "code",
   "execution_count": null,
   "metadata": {},
   "outputs": [],
   "source": []
  },
  {
   "cell_type": "markdown",
   "metadata": {},
   "source": [
    "## Speed"
   ]
  },
  {
   "cell_type": "code",
   "execution_count": 43,
   "metadata": {},
   "outputs": [],
   "source": [
    "dode = DODE(nb, config)"
   ]
  },
  {
   "cell_type": "code",
   "execution_count": 44,
   "metadata": {},
   "outputs": [],
   "source": [
    "f_e = dode.init_path_flow()"
   ]
  },
  {
   "cell_type": "code",
   "execution_count": 45,
   "metadata": {},
   "outputs": [],
   "source": [
    "dta = dode._run_simulation(f_e)"
   ]
  },
  {
   "cell_type": "code",
   "execution_count": 52,
   "metadata": {},
   "outputs": [],
   "source": [
    "tt = dta.get_link_tt(np.arange(0, dode.num_loading_interval, dode.ass_freq))"
   ]
  },
  {
   "cell_type": "code",
   "execution_count": 53,
   "metadata": {},
   "outputs": [
    {
     "data": {
      "text/plain": [
       "(1, 10)"
      ]
     },
     "execution_count": 53,
     "metadata": {},
     "output_type": "execute_result"
    }
   ],
   "source": [
    "tt.shape"
   ]
  },
  {
   "cell_type": "code",
   "execution_count": 48,
   "metadata": {},
   "outputs": [
    {
     "data": {
      "text/plain": [
       "{'link_flow_weight': 1,\n",
       " 'link_tt_weight': 1,\n",
       " 'num_data': 1,\n",
       " 'observed_links': [3],\n",
       " 'paths_list': [0, 1],\n",
       " 'use_link_flow': True,\n",
       " 'use_link_tt': False}"
      ]
     },
     "execution_count": 48,
     "metadata": {},
     "output_type": "execute_result"
    }
   ],
   "source": [
    "config"
   ]
  },
  {
   "cell_type": "code",
   "execution_count": 49,
   "metadata": {},
   "outputs": [
    {
     "data": {
      "text/plain": [
       "array([ 64.,  13.,  13.,  13.,  13.,  13.,  13.,  13.,  13.,  10.])"
      ]
     },
     "execution_count": 49,
     "metadata": {},
     "output_type": "execute_result"
    }
   ],
   "source": [
    "tt"
   ]
  },
  {
   "cell_type": "code",
   "execution_count": 51,
   "metadata": {},
   "outputs": [
    {
     "data": {
      "text/plain": [
       "64.0"
      ]
     },
     "execution_count": 51,
     "metadata": {},
     "output_type": "execute_result"
    }
   ],
   "source": [
    "nb.get_link(3).get_fft()"
   ]
  },
  {
   "cell_type": "code",
   "execution_count": 3,
   "metadata": {},
   "outputs": [
    {
     "ename": "TypeError",
     "evalue": "'int' object is not iterable",
     "output_type": "error",
     "traceback": [
      "\u001b[0;31m---------------------------------------------------------------------------\u001b[0m",
      "\u001b[0;31mTypeError\u001b[0m                                 Traceback (most recent call last)",
      "\u001b[0;32m<ipython-input-3-f3ac46944ccb>\u001b[0m in \u001b[0;36m<module>\u001b[0;34m()\u001b[0m\n\u001b[1;32m      1\u001b[0m \u001b[0;32mfrom\u001b[0m \u001b[0mscipy\u001b[0m\u001b[0;34m.\u001b[0m\u001b[0msparse\u001b[0m \u001b[0;32mimport\u001b[0m \u001b[0mcsr_matrix\u001b[0m\u001b[0;34m\u001b[0m\u001b[0m\n\u001b[0;32m----> 2\u001b[0;31m \u001b[0mcsr_matrix\u001b[0m\u001b[0;34m(\u001b[0m\u001b[0;36m10\u001b[0m\u001b[0;34m,\u001b[0m\u001b[0;36m5\u001b[0m\u001b[0;34m)\u001b[0m\u001b[0;34m\u001b[0m\u001b[0m\n\u001b[0m",
      "\u001b[0;32m/home/lemma/anaconda2/lib/python2.7/site-packages/scipy/sparse/compressed.pyc\u001b[0m in \u001b[0;36m__init__\u001b[0;34m(self, arg1, shape, dtype, copy)\u001b[0m\n\u001b[1;32m     81\u001b[0m         \u001b[0;31m# Read matrix dimensions given, if any\u001b[0m\u001b[0;34m\u001b[0m\u001b[0;34m\u001b[0m\u001b[0m\n\u001b[1;32m     82\u001b[0m         \u001b[0;32mif\u001b[0m \u001b[0mshape\u001b[0m \u001b[0;32mis\u001b[0m \u001b[0;32mnot\u001b[0m \u001b[0mNone\u001b[0m\u001b[0;34m:\u001b[0m\u001b[0;34m\u001b[0m\u001b[0m\n\u001b[0;32m---> 83\u001b[0;31m             \u001b[0mself\u001b[0m\u001b[0;34m.\u001b[0m\u001b[0mshape\u001b[0m \u001b[0;34m=\u001b[0m \u001b[0mshape\u001b[0m   \u001b[0;31m# spmatrix will check for errors\u001b[0m\u001b[0;34m\u001b[0m\u001b[0m\n\u001b[0m\u001b[1;32m     84\u001b[0m         \u001b[0;32melse\u001b[0m\u001b[0;34m:\u001b[0m\u001b[0;34m\u001b[0m\u001b[0m\n\u001b[1;32m     85\u001b[0m             \u001b[0;32mif\u001b[0m \u001b[0mself\u001b[0m\u001b[0;34m.\u001b[0m\u001b[0mshape\u001b[0m \u001b[0;32mis\u001b[0m \u001b[0mNone\u001b[0m\u001b[0;34m:\u001b[0m\u001b[0;34m\u001b[0m\u001b[0m\n",
      "\u001b[0;32m/home/lemma/anaconda2/lib/python2.7/site-packages/scipy/sparse/base.pyc\u001b[0m in \u001b[0;36mset_shape\u001b[0;34m(self, shape)\u001b[0m\n\u001b[1;32m     78\u001b[0m     \u001b[0;32mdef\u001b[0m \u001b[0mset_shape\u001b[0m\u001b[0;34m(\u001b[0m\u001b[0mself\u001b[0m\u001b[0;34m,\u001b[0m \u001b[0mshape\u001b[0m\u001b[0;34m)\u001b[0m\u001b[0;34m:\u001b[0m\u001b[0;34m\u001b[0m\u001b[0m\n\u001b[1;32m     79\u001b[0m         \u001b[0;34m\"\"\"See `reshape`.\"\"\"\u001b[0m\u001b[0;34m\u001b[0m\u001b[0m\n\u001b[0;32m---> 80\u001b[0;31m         \u001b[0mshape\u001b[0m \u001b[0;34m=\u001b[0m \u001b[0mtuple\u001b[0m\u001b[0;34m(\u001b[0m\u001b[0mshape\u001b[0m\u001b[0;34m)\u001b[0m\u001b[0;34m\u001b[0m\u001b[0m\n\u001b[0m\u001b[1;32m     81\u001b[0m \u001b[0;34m\u001b[0m\u001b[0m\n\u001b[1;32m     82\u001b[0m         \u001b[0;32mif\u001b[0m \u001b[0mlen\u001b[0m\u001b[0;34m(\u001b[0m\u001b[0mshape\u001b[0m\u001b[0;34m)\u001b[0m \u001b[0;34m!=\u001b[0m \u001b[0;36m2\u001b[0m\u001b[0;34m:\u001b[0m\u001b[0;34m\u001b[0m\u001b[0m\n",
      "\u001b[0;31mTypeError\u001b[0m: 'int' object is not iterable"
     ]
    }
   ],
   "source": [
    "from scipy.sparse import csr_matrix\n"
   ]
  },
  {
   "cell_type": "code",
   "execution_count": 5,
   "metadata": {},
   "outputs": [
    {
     "data": {
      "text/plain": [
       "<10x5 sparse matrix of type '<type 'numpy.float64'>'\n",
       "\twith 0 stored elements in Compressed Sparse Row format>"
      ]
     },
     "execution_count": 5,
     "metadata": {},
     "output_type": "execute_result"
    }
   ],
   "source": [
    "csr_matrix()"
   ]
  },
  {
   "cell_type": "code",
   "execution_count": null,
   "metadata": {},
   "outputs": [],
   "source": []
  }
 ],
 "metadata": {
  "kernelspec": {
   "display_name": "Python 2",
   "language": "python",
   "name": "python2"
  },
  "language_info": {
   "codemirror_mode": {
    "name": "ipython",
    "version": 2
   },
   "file_extension": ".py",
   "mimetype": "text/x-python",
   "name": "python",
   "nbconvert_exporter": "python",
   "pygments_lexer": "ipython2",
   "version": "2.7.10"
  }
 },
 "nbformat": 4,
 "nbformat_minor": 2
}
