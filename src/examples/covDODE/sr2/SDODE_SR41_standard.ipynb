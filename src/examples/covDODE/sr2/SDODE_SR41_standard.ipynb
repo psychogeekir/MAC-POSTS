{
 "cells": [
  {
   "cell_type": "code",
   "execution_count": 1,
   "metadata": {},
   "outputs": [],
   "source": [
    "%load_ext autoreload\n",
    "%autoreload 2"
   ]
  },
  {
   "cell_type": "code",
   "execution_count": 2,
   "metadata": {},
   "outputs": [],
   "source": [
    "import os\n",
    "import sys\n",
    "import numpy as np\n",
    "from scipy.cluster import hierarchy\n",
    "import matplotlib.pyplot as plt\n",
    "import pickle"
   ]
  },
  {
   "cell_type": "code",
   "execution_count": 3,
   "metadata": {},
   "outputs": [],
   "source": [
    "MNM_nb_folder = os.path.join('..', '..', '..', '..', 'side_project', 'network_builder')\n",
    "sys.path.append(MNM_nb_folder)\n",
    "python_lib_folder = os.path.join('..', '..', '..', 'pylib')\n",
    "sys.path.append(python_lib_folder)"
   ]
  },
  {
   "cell_type": "code",
   "execution_count": 4,
   "metadata": {},
   "outputs": [],
   "source": [
    "from MNM_nb import *\n",
    "import MNMAPI\n",
    "from sDODE import *"
   ]
  },
  {
   "cell_type": "code",
   "execution_count": 5,
   "metadata": {},
   "outputs": [],
   "source": [
    "data_folder = os.path.join('..', '..', '..', '..', 'data', 'input_files_SR41_fix2')"
   ]
  },
  {
   "cell_type": "code",
   "execution_count": 6,
   "metadata": {},
   "outputs": [
    {
     "name": "stdout",
     "output_type": "stream",
     "text": [
      "MNM_config\n",
      "MNM_pathtable\n"
     ]
    }
   ],
   "source": [
    "nb = MNM_network_builder()\n",
    "nb.load_from_folder(data_folder)\n",
    "usefuk_link_list = list(filter(lambda x: x.typ == 'CTM', nb.link_list))"
   ]
  },
  {
   "cell_type": "code",
   "execution_count": 7,
   "metadata": {},
   "outputs": [
    {
     "data": {
      "text/plain": [
       "MNM_od, number of O:174, number of D:174"
      ]
     },
     "execution_count": 7,
     "metadata": {},
     "output_type": "execute_result"
    }
   ],
   "source": [
    "nb.od"
   ]
  },
  {
   "cell_type": "code",
   "execution_count": 8,
   "metadata": {},
   "outputs": [
    {
     "data": {
      "text/plain": [
       "1717"
      ]
     },
     "execution_count": 8,
     "metadata": {},
     "output_type": "execute_result"
    }
   ],
   "source": [
    "len(usefuk_link_list)"
   ]
  },
  {
   "cell_type": "code",
   "execution_count": 9,
   "metadata": {},
   "outputs": [],
   "source": [
    "num_observed_links = 500"
   ]
  },
  {
   "cell_type": "code",
   "execution_count": 10,
   "metadata": {},
   "outputs": [],
   "source": [
    "config = dict()\n",
    "\n",
    "config['use_link_flow'] = True\n",
    "config['use_link_tt'] = False\n",
    "config['link_flow_weight'] = 1\n",
    "config['link_tt_weight'] = 1\n",
    "config['num_data'] = 10\n",
    "config['observed_links'] = list(map(lambda x: x.ID, np.random.choice(usefuk_link_list, num_observed_links)))\n",
    "config['paths_list'] = list(range(nb.config.config_dict['FIXED']['num_path']))"
   ]
  },
  {
   "cell_type": "code",
   "execution_count": 11,
   "metadata": {},
   "outputs": [],
   "source": [
    "# pickle.dump([true_q_para, sdode], open('sr41logit_true2.pickle', 'wb'))"
   ]
  },
  {
   "cell_type": "code",
   "execution_count": 12,
   "metadata": {},
   "outputs": [],
   "source": [
    "[true_q_para, sdode] = pickle.load(open('sr41logit_true2.pickle', 'rb'))\n",
    "config = sdode.config"
   ]
  },
  {
   "cell_type": "code",
   "execution_count": 13,
   "metadata": {},
   "outputs": [],
   "source": [
    "num_interval = nb.config.config_dict['DTA']['max_interval']\n",
    "theta = 0.01"
   ]
  },
  {
   "cell_type": "code",
   "execution_count": 14,
   "metadata": {},
   "outputs": [],
   "source": [
    "O_dist = np.arange(174)\n",
    "D_dist = np.arange(174)"
   ]
  },
  {
   "cell_type": "code",
   "execution_count": 15,
   "metadata": {},
   "outputs": [],
   "source": [
    "sdode = SDODE(nb, config)"
   ]
  },
  {
   "cell_type": "code",
   "execution_count": 16,
   "metadata": {},
   "outputs": [],
   "source": [
    "demand_mean_list  = list()\n",
    "for i in range(sdode.num_assign_interval):\n",
    "    tmp_arr = np.zeros(len(nb.demand.demand_list))\n",
    "    for j, (O,D) in enumerate(nb.demand.demand_list):\n",
    "        tmp_arr[j] = nb.demand.demand_dict[O][D][i]\n",
    "    demand_mean_list.append(tmp_arr)"
   ]
  },
  {
   "cell_type": "code",
   "execution_count": 17,
   "metadata": {
    "scrolled": true
   },
   "outputs": [
    {
     "name": "stdout",
     "output_type": "stream",
     "text": [
      "0\n",
      "2111.8028706276714\n",
      "1\n",
      "29.011742010099645\n",
      "2\n",
      "10.936786318675548\n",
      "3\n",
      "7.180889189367931\n",
      "4\n",
      "6.81193878600006\n",
      "5\n",
      "3.996168708849766\n",
      "6\n",
      "4.223958423127326\n",
      "7\n",
      "3.013801276950867\n",
      "8\n",
      "2.6805867061389064\n",
      "9\n",
      "2.5227079073165934\n",
      "10\n",
      "2.1637480230337127\n",
      "11\n",
      "1.814756052264904\n",
      "12\n",
      "1.4789576364999795\n",
      "13\n",
      "1.5478726036464918\n",
      "14\n",
      "1.7822000623543466\n",
      "15\n",
      "1.8377797635819006\n",
      "16\n",
      "1.5759568541517446\n",
      "17\n",
      "1.433113519927691\n",
      "18\n",
      "1.1919754385347956\n",
      "19\n",
      "0.9170455545791618\n",
      "20\n",
      "1.0028108088858951\n",
      "21\n",
      "0.9679012621200532\n",
      "22\n",
      "0.9585173032420932\n",
      "23\n",
      "0.8833708429997181\n",
      "24\n",
      "0.7913975835174335\n",
      "25\n",
      "0.8069547761033353\n",
      "26\n",
      "0.8786485662618839\n",
      "27\n",
      "0.7246472171204801\n",
      "28\n",
      "0.6710752138244855\n",
      "29\n",
      "0.7135753482302164\n",
      "30\n",
      "0.7844428474815694\n",
      "31\n",
      "0.7701181381072896\n",
      "32\n",
      "0.6134594215427318\n",
      "33\n",
      "0.5636078134021463\n",
      "34\n",
      "0.5077478264806247\n",
      "35\n",
      "0.6431608434547996\n",
      "36\n",
      "0.5236642658283416\n",
      "37\n",
      "0.5836129401352741\n",
      "38\n",
      "0.5107976006590705\n",
      "39\n",
      "0.7766074296472658\n",
      "40\n",
      "0.5768933894675221\n",
      "41\n",
      "0.4640700787833636\n",
      "42\n",
      "0.5044873982557792\n",
      "43\n",
      "0.42348706249517376\n",
      "44\n",
      "0.4380106677930045\n",
      "45\n",
      "0.4204030921530316\n",
      "46\n",
      "0.46282460291850286\n",
      "47\n",
      "0.4084592948835757\n",
      "48\n",
      "0.42667685207600814\n",
      "49\n",
      "0.36754042003807463\n"
     ]
    }
   ],
   "source": [
    "# true_q = sdode.init_demand_flow(init_scale = 50)\n",
    "true_q_para = OD_parameter_server(sdode.demand_list, sdode.num_assign_interval)\n",
    "true_q_para.construct(O_dist, D_dist)\n",
    "true_q_para.initialize(mean_scale = 5, std_scale= 1, \n",
    "                        O_cov_scale = 5, D_cov_scale = 5)\n",
    "true_q_para.demand_mean_list = demand_mean_list\n",
    "# true_q_para = pickle.load(open('potential_true_q_312.pickle', 'rb'))\n",
    "true_q = np.concatenate(true_q_para.demand_mean_list)\n",
    "old_f = np.zeros(num_interval * len(config['paths_list']))\n",
    "num_iters = 50\n",
    "P = sdode.nb.get_route_portion_matrix()\n",
    "true_f = P.dot(true_q)\n",
    "for i in range(num_iters):\n",
    "    print (i)\n",
    "    dta = sdode._run_simulation(true_f)\n",
    "    path_cost = dta.get_path_tt(np.arange(0, sdode.num_loading_interval, sdode.ass_freq))\n",
    "    sdode.assign_route_portions(path_cost, theta = theta)\n",
    "    new_f = sdode.nb.get_route_portion_matrix().dot(true_q)\n",
    "    true_f = np.float(i) / np.float(i+1) * true_f + np.float(1) / np.float(i+1) * new_f\n",
    "    print np.linalg.norm(true_f - old_f)\n",
    "    old_f = true_f\n",
    "    sdode.nb.update_demand_path(true_f)"
   ]
  },
  {
   "cell_type": "code",
   "execution_count": 17,
   "metadata": {},
   "outputs": [],
   "source": [
    "true_q = np.concatenate(true_q_para.demand_mean_list)\n",
    "P = sdode.nb.get_route_portion_matrix()\n",
    "true_f = P.dot(true_q)"
   ]
  },
  {
   "cell_type": "code",
   "execution_count": 18,
   "metadata": {},
   "outputs": [],
   "source": [
    "assert (np.isclose(true_q.sum(), true_f.sum()))"
   ]
  },
  {
   "cell_type": "code",
   "execution_count": 19,
   "metadata": {},
   "outputs": [],
   "source": [
    "dta = sdode._run_simulation(true_f)\n",
    "true_P = sdode.nb.get_route_portion_matrix()\n",
    "true_full_dar = sdode.get_full_dar(dta, true_f)\n",
    "true_dar = true_full_dar[sdode.get_full_observed_link_index(),:]\n",
    "full_true_x = true_full_dar.dot(true_f)\n",
    "true_x = true_dar.dot(true_f)\n",
    "true_path_cost = dta.get_path_tt(np.arange(0, sdode.num_loading_interval, sdode.ass_freq))"
   ]
  },
  {
   "cell_type": "code",
   "execution_count": 24,
   "metadata": {},
   "outputs": [
    {
     "name": "stdout",
     "output_type": "stream",
     "text": [
      "0\n",
      "1\n",
      "2\n",
      "3\n",
      "4\n",
      "5\n",
      "6\n",
      "7\n",
      "8\n",
      "9\n"
     ]
    }
   ],
   "source": [
    "num_data = config['num_data']\n",
    "data_dict = dict()\n",
    "data_dict['link_flow'] = list()\n",
    "sdode = SDODE(nb, config)\n",
    "for i in range(config['num_data']):\n",
    "    print i\n",
    "    q_e, _ = true_q_para.forward()\n",
    "    f_e = true_P.dot(q_e)\n",
    "    dta = sdode._run_simulation(f_e)\n",
    "    full_dar_e = sdode.get_full_dar(dta, f_e)\n",
    "    dar_e = full_dar_e[sdode.get_full_observed_link_index(),:]\n",
    "    x_e = dar_e.dot(f_e)\n",
    "    link_df = pd.DataFrame(index = range(num_interval), columns = config['observed_links'], \n",
    "                           data = x_e.reshape((num_interval, len(config['observed_links']))) \n",
    "                               + np.random.randn(num_interval, len(config['observed_links'])) * np.sqrt(5))\n",
    "    data_dict['link_flow'].append(link_df)"
   ]
  },
  {
   "cell_type": "code",
   "execution_count": 20,
   "metadata": {},
   "outputs": [],
   "source": [
    "# pickle.dump(data_dict, open('sr41data_dict2.pickle', 'wb'))"
   ]
  },
  {
   "cell_type": "code",
   "execution_count": 21,
   "metadata": {},
   "outputs": [],
   "source": [
    "data_dict = pickle.load(open('sr41data_dict2.pickle', 'rb'))"
   ]
  },
  {
   "cell_type": "code",
   "execution_count": 22,
   "metadata": {},
   "outputs": [
    {
     "data": {
      "text/html": [
       "<div>\n",
       "<style scoped>\n",
       "    .dataframe tbody tr th:only-of-type {\n",
       "        vertical-align: middle;\n",
       "    }\n",
       "\n",
       "    .dataframe tbody tr th {\n",
       "        vertical-align: top;\n",
       "    }\n",
       "\n",
       "    .dataframe thead th {\n",
       "        text-align: right;\n",
       "    }\n",
       "</style>\n",
       "<table border=\"1\" class=\"dataframe\">\n",
       "  <thead>\n",
       "    <tr style=\"text-align: right;\">\n",
       "      <th></th>\n",
       "      <th>3166</th>\n",
       "      <th>3039</th>\n",
       "      <th>2064</th>\n",
       "      <th>1829</th>\n",
       "      <th>433</th>\n",
       "      <th>1997</th>\n",
       "      <th>3314</th>\n",
       "      <th>387</th>\n",
       "      <th>2559</th>\n",
       "      <th>225</th>\n",
       "      <th>...</th>\n",
       "      <th>210</th>\n",
       "      <th>1934</th>\n",
       "      <th>455</th>\n",
       "      <th>2165</th>\n",
       "      <th>621</th>\n",
       "      <th>1653</th>\n",
       "      <th>1851</th>\n",
       "      <th>306</th>\n",
       "      <th>2376</th>\n",
       "      <th>2516</th>\n",
       "    </tr>\n",
       "  </thead>\n",
       "  <tbody>\n",
       "    <tr>\n",
       "      <th>0</th>\n",
       "      <td>0.933215</td>\n",
       "      <td>44.096235</td>\n",
       "      <td>6.617581</td>\n",
       "      <td>26.804392</td>\n",
       "      <td>300.590947</td>\n",
       "      <td>13.444423</td>\n",
       "      <td>33.910333</td>\n",
       "      <td>-2.376275</td>\n",
       "      <td>29.026397</td>\n",
       "      <td>1.059567</td>\n",
       "      <td>...</td>\n",
       "      <td>51.565593</td>\n",
       "      <td>73.279561</td>\n",
       "      <td>47.967256</td>\n",
       "      <td>5.155859</td>\n",
       "      <td>149.271291</td>\n",
       "      <td>58.121083</td>\n",
       "      <td>-0.614852</td>\n",
       "      <td>4.235266</td>\n",
       "      <td>28.197840</td>\n",
       "      <td>5.762159</td>\n",
       "    </tr>\n",
       "    <tr>\n",
       "      <th>1</th>\n",
       "      <td>0.027531</td>\n",
       "      <td>131.622622</td>\n",
       "      <td>13.801112</td>\n",
       "      <td>72.289504</td>\n",
       "      <td>877.828203</td>\n",
       "      <td>16.692283</td>\n",
       "      <td>107.625842</td>\n",
       "      <td>2.066398</td>\n",
       "      <td>62.117405</td>\n",
       "      <td>-1.943102</td>\n",
       "      <td>...</td>\n",
       "      <td>145.764928</td>\n",
       "      <td>194.750938</td>\n",
       "      <td>122.603658</td>\n",
       "      <td>9.030619</td>\n",
       "      <td>283.974403</td>\n",
       "      <td>149.953579</td>\n",
       "      <td>-2.765423</td>\n",
       "      <td>-4.420281</td>\n",
       "      <td>72.871183</td>\n",
       "      <td>15.216627</td>\n",
       "    </tr>\n",
       "    <tr>\n",
       "      <th>2</th>\n",
       "      <td>0.839189</td>\n",
       "      <td>215.738643</td>\n",
       "      <td>27.373931</td>\n",
       "      <td>115.537538</td>\n",
       "      <td>1169.257649</td>\n",
       "      <td>25.902923</td>\n",
       "      <td>173.320254</td>\n",
       "      <td>8.049181</td>\n",
       "      <td>108.165936</td>\n",
       "      <td>2.990379</td>\n",
       "      <td>...</td>\n",
       "      <td>183.627486</td>\n",
       "      <td>328.035450</td>\n",
       "      <td>96.078989</td>\n",
       "      <td>12.050779</td>\n",
       "      <td>440.336725</td>\n",
       "      <td>228.428989</td>\n",
       "      <td>2.844831</td>\n",
       "      <td>6.825674</td>\n",
       "      <td>109.056514</td>\n",
       "      <td>23.465949</td>\n",
       "    </tr>\n",
       "    <tr>\n",
       "      <th>3</th>\n",
       "      <td>1.547208</td>\n",
       "      <td>224.421836</td>\n",
       "      <td>24.994988</td>\n",
       "      <td>122.897750</td>\n",
       "      <td>1414.936539</td>\n",
       "      <td>25.515151</td>\n",
       "      <td>188.176786</td>\n",
       "      <td>6.413582</td>\n",
       "      <td>104.770771</td>\n",
       "      <td>0.038963</td>\n",
       "      <td>...</td>\n",
       "      <td>148.701557</td>\n",
       "      <td>318.081974</td>\n",
       "      <td>215.745677</td>\n",
       "      <td>11.834827</td>\n",
       "      <td>452.499899</td>\n",
       "      <td>234.435159</td>\n",
       "      <td>6.364276</td>\n",
       "      <td>-1.272605</td>\n",
       "      <td>115.105762</td>\n",
       "      <td>24.889991</td>\n",
       "    </tr>\n",
       "    <tr>\n",
       "      <th>4</th>\n",
       "      <td>2.011152</td>\n",
       "      <td>148.618954</td>\n",
       "      <td>14.376901</td>\n",
       "      <td>81.971594</td>\n",
       "      <td>1282.895257</td>\n",
       "      <td>22.023680</td>\n",
       "      <td>110.248597</td>\n",
       "      <td>3.737054</td>\n",
       "      <td>64.835295</td>\n",
       "      <td>-1.010721</td>\n",
       "      <td>...</td>\n",
       "      <td>366.140989</td>\n",
       "      <td>198.935088</td>\n",
       "      <td>354.545411</td>\n",
       "      <td>11.508502</td>\n",
       "      <td>469.760388</td>\n",
       "      <td>154.166178</td>\n",
       "      <td>-1.955835</td>\n",
       "      <td>-2.590409</td>\n",
       "      <td>80.147994</td>\n",
       "      <td>19.520458</td>\n",
       "    </tr>\n",
       "    <tr>\n",
       "      <th>5</th>\n",
       "      <td>0.701286</td>\n",
       "      <td>73.639518</td>\n",
       "      <td>2.323036</td>\n",
       "      <td>47.401660</td>\n",
       "      <td>321.502416</td>\n",
       "      <td>8.349586</td>\n",
       "      <td>42.479173</td>\n",
       "      <td>2.459776</td>\n",
       "      <td>26.438330</td>\n",
       "      <td>-3.003869</td>\n",
       "      <td>...</td>\n",
       "      <td>74.721998</td>\n",
       "      <td>80.271936</td>\n",
       "      <td>108.541034</td>\n",
       "      <td>7.693261</td>\n",
       "      <td>374.226551</td>\n",
       "      <td>58.994355</td>\n",
       "      <td>3.424223</td>\n",
       "      <td>1.801457</td>\n",
       "      <td>32.030004</td>\n",
       "      <td>7.669435</td>\n",
       "    </tr>\n",
       "  </tbody>\n",
       "</table>\n",
       "<p>6 rows × 500 columns</p>\n",
       "</div>"
      ],
      "text/plain": [
       "       3166        3039       2064        1829         433        1997  \\\n",
       "0  0.933215   44.096235   6.617581   26.804392   300.590947  13.444423   \n",
       "1  0.027531  131.622622  13.801112   72.289504   877.828203  16.692283   \n",
       "2  0.839189  215.738643  27.373931  115.537538  1169.257649  25.902923   \n",
       "3  1.547208  224.421836  24.994988  122.897750  1414.936539  25.515151   \n",
       "4  2.011152  148.618954  14.376901   81.971594  1282.895257  22.023680   \n",
       "5  0.701286   73.639518   2.323036   47.401660   321.502416   8.349586   \n",
       "\n",
       "         3314      387         2559      225     ...            210   \\\n",
       "0   33.910333 -2.376275   29.026397  1.059567    ...       51.565593   \n",
       "1  107.625842  2.066398   62.117405 -1.943102    ...      145.764928   \n",
       "2  173.320254  8.049181  108.165936  2.990379    ...      183.627486   \n",
       "3  188.176786  6.413582  104.770771  0.038963    ...      148.701557   \n",
       "4  110.248597  3.737054   64.835295 -1.010721    ...      366.140989   \n",
       "5   42.479173  2.459776   26.438330 -3.003869    ...       74.721998   \n",
       "\n",
       "         1934        455        2165        621         1653      1851  \\\n",
       "0   73.279561   47.967256   5.155859  149.271291   58.121083 -0.614852   \n",
       "1  194.750938  122.603658   9.030619  283.974403  149.953579 -2.765423   \n",
       "2  328.035450   96.078989  12.050779  440.336725  228.428989  2.844831   \n",
       "3  318.081974  215.745677  11.834827  452.499899  234.435159  6.364276   \n",
       "4  198.935088  354.545411  11.508502  469.760388  154.166178 -1.955835   \n",
       "5   80.271936  108.541034   7.693261  374.226551   58.994355  3.424223   \n",
       "\n",
       "       306         2376       2516  \n",
       "0  4.235266   28.197840   5.762159  \n",
       "1 -4.420281   72.871183  15.216627  \n",
       "2  6.825674  109.056514  23.465949  \n",
       "3 -1.272605  115.105762  24.889991  \n",
       "4 -2.590409   80.147994  19.520458  \n",
       "5  1.801457   32.030004   7.669435  \n",
       "\n",
       "[6 rows x 500 columns]"
      ]
     },
     "execution_count": 22,
     "metadata": {},
     "output_type": "execute_result"
    }
   ],
   "source": [
    "data_dict['link_flow'][0]"
   ]
  },
  {
   "cell_type": "code",
   "execution_count": 23,
   "metadata": {},
   "outputs": [
    {
     "data": {
      "text/plain": [
       "True"
      ]
     },
     "execution_count": 23,
     "metadata": {},
     "output_type": "execute_result"
    }
   ],
   "source": [
    "3166 in config['observed_links']"
   ]
  },
  {
   "cell_type": "code",
   "execution_count": 24,
   "metadata": {},
   "outputs": [],
   "source": [
    "sdode = SDODE(nb, config)"
   ]
  },
  {
   "cell_type": "code",
   "execution_count": 25,
   "metadata": {},
   "outputs": [],
   "source": [
    "sdode.add_data(data_dict)"
   ]
  },
  {
   "cell_type": "code",
   "execution_count": null,
   "metadata": {},
   "outputs": [
    {
     "name": "stdout",
     "output_type": "stream",
     "text": [
      "Start sovling\n",
      "Epoch: 0 Loss: 7584.6189512738365\n",
      "Epoch: 1 Loss: 4687.3201289877325\n",
      "Epoch: 2 Loss: 3251.9291804491595\n",
      "Epoch: 3 Loss: 2599.7603596675185\n",
      "Epoch: 4 Loss: 2257.0336344137927\n",
      "Epoch: 5 Loss: 2121.2641058673203\n",
      "Epoch: 6 Loss: 2077.2789413794826\n",
      "Epoch: 7 Loss: 2024.254946964656\n",
      "Epoch: 8 Loss: 2083.0793179599204\n",
      "Epoch: 9 Loss: 2072.093533889325\n",
      "Epoch: 10 Loss: 2166.1975154399456\n",
      "Epoch: 11 Loss: 2156.1061338072764\n",
      "Epoch: 12 Loss: 2229.4368467455206\n",
      "Epoch: 13 Loss: 1868.9031093964265\n",
      "Epoch: 14 Loss: 1812.8317657269413\n",
      "Epoch: 15 Loss: 1872.0117931163745\n",
      "Epoch: 16 Loss: 1865.200104225003\n",
      "Epoch: 17 Loss: 1934.584548783163\n",
      "Epoch: 18 Loss: 2056.441877936415\n",
      "Epoch: 19 Loss: 1970.1683276609244\n",
      "Epoch: 20 Loss: 2040.402247218548\n",
      "Epoch: 21 Loss: 2154.0387498971554\n",
      "Epoch: 22 Loss: 2056.016627913195\n",
      "Epoch: 23 Loss: 2066.741716955953\n",
      "Epoch: 24 Loss: 2141.891535500765\n",
      "Epoch: 25 Loss: 2128.3885655045015\n",
      "Epoch: 26 Loss: 2156.09299904282\n",
      "Epoch: 27 Loss: 2049.0209532230374\n",
      "Epoch: 28 Loss: 2168.728852523047\n",
      "Epoch: 29 Loss: 1856.7643763722003\n",
      "Epoch: 30 Loss: 1875.790482970427\n",
      "Epoch: 31 Loss: 2032.8669661778488\n",
      "Epoch: 32 Loss: 1886.8426224341554\n",
      "Epoch: 33 Loss: 1973.9573006517226\n",
      "Epoch: 34 Loss: 1918.1302164118592\n",
      "Epoch: 35 Loss: 1955.8424438047794\n",
      "Epoch: 36 Loss: 2033.270229599034\n",
      "Epoch: 37 Loss: 1791.1586973063884\n",
      "Epoch: 38 Loss: 1935.0167150488328\n",
      "Epoch: 39 Loss: 1996.180015346111\n",
      "Epoch: 40 Loss: 2039.5208676111354\n",
      "Epoch: 41 Loss: 1924.7469062001414\n",
      "Epoch: 42 Loss: 2039.7950929879094\n",
      "Epoch: 43 Loss: 2054.678525763477\n",
      "Epoch: 44 Loss: 2026.3273457455748\n",
      "Epoch: 45 Loss: 1931.4585500088972\n",
      "Epoch: 46 Loss: 2061.373883850906\n",
      "Epoch: 47 Loss: 1952.4841706421757\n",
      "Epoch: 48 Loss: 2261.286031776929\n",
      "Epoch: 49 Loss: 2143.2814813870027\n",
      "Epoch: 50 Loss: 2169.7859881340632\n",
      "Epoch: 51 Loss: 2142.920772027866\n",
      "Epoch: 52 Loss: 2081.1367548863623\n",
      "Epoch: 53 Loss: 2133.3873934504327\n",
      "Epoch: 54 Loss: 2117.5207890008483\n",
      "Epoch: 55 Loss: 2280.6568322644534\n",
      "Epoch: 56 Loss: 2083.144438824696\n",
      "Epoch: 57 Loss: 2195.679794048444\n",
      "Epoch: 58 Loss: 2034.2249956140029\n",
      "Epoch: 59 Loss: 1985.228352212825\n",
      "Epoch: 60 Loss: 2156.094183809578\n",
      "Epoch: 61 Loss: 2204.975566344554\n",
      "Epoch: 62 Loss: 2259.377445312417\n",
      "Epoch: 63 Loss: 2065.2800721387075\n",
      "Epoch: 64 Loss: 2162.3514851243167\n",
      "Epoch: 65 Loss: 2079.992854164194\n",
      "Epoch: 66 Loss: 1980.0461176823949\n",
      "Epoch: 67 Loss: 2052.14754793486\n",
      "Epoch: 68 Loss: 2088.926631068043\n",
      "Epoch: 69 Loss: 2307.2870677643787\n",
      "Epoch: 70 Loss: 2282.0927521674153\n",
      "Epoch: 71 Loss: 2153.946560356821\n",
      "Epoch: 72 Loss: 2236.699215972572\n",
      "Epoch: 73 Loss: 2130.7080984047993\n",
      "Epoch: 74 Loss: 1950.1931053622557\n",
      "Epoch: 75 Loss: 1967.8452576409989\n",
      "Epoch: 76 Loss: 1947.1166706841254\n",
      "Epoch: 77 Loss: 1832.89404870949\n",
      "Epoch: 78 Loss: 1995.605908843032\n",
      "Epoch: 79 Loss: 1833.6394103011512\n",
      "Epoch: 80 Loss: 1897.7614299643435\n",
      "Epoch: 81 Loss: 1881.838308464432\n",
      "Epoch: 82 Loss: 1962.8375843570502\n",
      "Epoch: 83 Loss: 1851.962012315607\n",
      "Epoch: 84 Loss: 2104.22337839991\n",
      "Epoch: 85 Loss: 2155.6700628848025\n",
      "Epoch: 86 Loss: 1984.9399399394722\n",
      "Epoch: 87 Loss: 2124.5353711017\n",
      "Epoch: 88 Loss: 2322.8205429862173\n",
      "Epoch: 89 Loss: 2199.2506326275934\n",
      "Epoch: 90 Loss: 2092.5484231216988\n",
      "Epoch: 91 Loss: 2367.6070824987864\n",
      "Epoch: 92 Loss: 2217.092064182475\n",
      "Epoch: 93 Loss: 1982.205840293977\n",
      "Epoch: 94 Loss: 2105.0003531707894\n",
      "Epoch: 95 Loss: 2034.0619195494414\n",
      "Epoch: 96 Loss: 2084.4255588575547\n",
      "Epoch: 97 Loss: 2110.142311867637\n",
      "Epoch: 98 Loss: 2045.092974854752\n",
      "Epoch: 99 Loss: 1974.9245298715882\n",
      "Epoch: 100 Loss: 2129.2785536420947\n",
      "Epoch: 101 Loss: 2312.3672759822152\n",
      "Epoch: 102 Loss: 2099.7583412228\n",
      "Epoch: 103 Loss: 2237.192713069266\n",
      "Epoch: 104 Loss: 2212.419412135694\n",
      "Epoch: 105 Loss: 2092.42871728159\n",
      "Epoch: 106 Loss: 2214.0335030568967\n",
      "Epoch: 107 Loss: 2308.2693790981493\n",
      "Epoch: 108 Loss: 1880.2646163127386\n",
      "Epoch: 109 Loss: 2089.0095224372744\n"
     ]
    }
   ],
   "source": [
    "print \"Start sovling\"\n",
    "q_e, loss_list2 = sdode.estimate_demand(init_scale = 0.1, step_size = 1, \n",
    "                      max_epoch = 200, adagrad = True,\n",
    "                      theta = theta, save_folder = 'standsave')"
   ]
  },
  {
   "cell_type": "code",
   "execution_count": null,
   "metadata": {},
   "outputs": [],
   "source": []
  }
 ],
 "metadata": {
  "kernelspec": {
   "display_name": "Python 2",
   "language": "python",
   "name": "python2"
  },
  "language_info": {
   "codemirror_mode": {
    "name": "ipython",
    "version": 2
   },
   "file_extension": ".py",
   "mimetype": "text/x-python",
   "name": "python",
   "nbconvert_exporter": "python",
   "pygments_lexer": "ipython2",
   "version": "2.7.10"
  }
 },
 "nbformat": 4,
 "nbformat_minor": 2
}
